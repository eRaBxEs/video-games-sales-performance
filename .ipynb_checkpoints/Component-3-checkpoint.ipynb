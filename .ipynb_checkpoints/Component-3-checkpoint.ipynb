{
 "cells": [
  {
   "cell_type": "markdown",
   "id": "4812cddc",
   "metadata": {},
   "source": [
    "## Component 3 Coding :  Understanding AI assignment\n",
    "\n",
    "###  Applying Convolutional Neural Network on the MNIST dataset\n"
   ]
  },
  {
   "cell_type": "markdown",
   "id": "7694fc00",
   "metadata": {},
   "source": [
    "### About the Dataset\n",
    "\n",
    "\n",
    "##### Source: http://yann.lecun.com/exdb/mnist/\n",
    "\n",
    "  \n",
    "             \n",
    "\n",
    "###### Dataset name: Modified National Institute of Standards and Technology database dataset.\n",
    "\n",
    "\n",
    "###### DESCRIPTION\n",
    "\n",
    " - Number of classes: 10\n",
    " - Total number of images: 70000 28x28 colour images \n",
    " - Number of images per class: 7000 images per class\n",
    " - Number of training images: 60000\n",
    " - Number of test images: 10000\n",
    " \n",
    " \n"
   ]
  },
  {
   "cell_type": "markdown",
   "id": "a8349f6b",
   "metadata": {},
   "source": [
    "## The basic steps for Image classification with a 2D Convolutional Neural Network"
   ]
  },
  {
   "cell_type": "markdown",
   "id": "c8da26f9",
   "metadata": {},
   "source": [
    "#### 1. Import necessary libraries: tensorflow, SGD, numpy, classification_report etc.\n",
    "\n",
    "#### 2. Load the dataset: The dataset should contain labeled samples for both training and testing.\n",
    "\n",
    "#### 3. Preprocess the data: This step involves transformation of the image dataset, for example, augmentation using shift, rotation, flip methods etc.\n",
    "\n",
    "#### 4. Build the model: In Keras, a Sequential model is a linear stack of layers, and you can add layers to it using the add() method. The first layer in the model should specify the input shape.\n",
    "\n",
    "#### 5. Compile the model: This step involves specifying the loss function, the optimizer, and any metrics that you want to track during training.\n",
    "\n",
    "#### 6. Train the model: Use the fit() method to train the model on the training data. You can also specify the validation data here.\n",
    "\n",
    "#### 7. Evaluate the model: Use the evaluate() method to evaluate the model on the test data. This will give you the accuracy and other metrics that you specified earlier.\n",
    "\n",
    "#### 8. Make predictions: Use the predict() method to make predictions on new data.\n",
    "\n",
    "#### 9. Visualise the results: Use tools like Confusion matrix, classification report, Matplotlib to visualize the results, for example, plot the training and validation loss, plot the confusion matrix, etc."
   ]
  },
  {
   "cell_type": "markdown",
   "id": "df9b5940",
   "metadata": {},
   "source": [
    "### Step 1: import required libraries"
   ]
  },
  {
   "cell_type": "code",
   "execution_count": 1,
   "id": "d07613c0",
   "metadata": {},
   "outputs": [],
   "source": [
    "# import necessary libraries\n",
    "import numpy as np\n",
    "import matplotlib.pyplot as plt\n",
    "import pandas as pd\n",
    "import tensorflow as tf\n",
    "from tensorflow import keras\n",
    "from tensorflow.keras.datasets import mnist\n",
    "from keras.utils import np_utils\n"
   ]
  },
  {
   "cell_type": "markdown",
   "id": "7703523c",
   "metadata": {},
   "source": [
    "### Step 2: Loading the dataset"
   ]
  },
  {
   "cell_type": "markdown",
   "id": "81faabf9",
   "metadata": {},
   "source": [
    "#### Load the MNIST dataset\n",
    "\n",
    "###### The x_train and y_train variables contain the 60,000 training images and their corresponding labels, \n",
    "###### while x_test and y_test contain the 10,000 test images and their labels.\n",
    "\n",
    "\n",
    "###### mnist.load_data() function splits the  MNIST dataset into 60,000 training images and 10,000 test images. \n",
    "###### the load_data() function will return two tuples  one containing the training data and  the other, test data"
   ]
  },
  {
   "cell_type": "code",
   "execution_count": 2,
   "id": "923e0bf4",
   "metadata": {},
   "outputs": [],
   "source": [
    "# The class names for the CIFAR-10 dataset are predefined and can be found in the official documentation\n",
    "#class_names = ['airplane', 'automobile', 'bird', 'cat', 'deer', 'dog', 'frog', 'horse', 'ship', 'truck']\n",
    "class_names = range(9)"
   ]
  },
  {
   "cell_type": "code",
   "execution_count": 3,
   "id": "86019bfb",
   "metadata": {},
   "outputs": [],
   "source": [
    "# Load the  MNIST dataset\n",
    "(x_train, y_train), (x_test, y_test) = mnist.load_data()"
   ]
  },
  {
   "cell_type": "code",
   "execution_count": 4,
   "id": "a20f3b5b",
   "metadata": {},
   "outputs": [
    {
     "data": {
      "image/png": "[encoded data removed]",
      "text/plain": [
       "<Figure size 1500x300 with 6 Axes>"
      ]
     },
     "metadata": {},
     "output_type": "display_data"
    }
   ],
   "source": [
    "# Plot the first 6 images from the training set\n",
    "fig, axs = plt.subplots(1, 6, figsize=(15, 3))\n",
    "for i in range(6):\n",
    "    axs[i].imshow(x_train[i])\n",
    "    axs[i].axis('off')\n",
    "plt.show()\n",
    "\n"
   ]
  },
  {
   "cell_type": "code",
   "execution_count": 5,
   "id": "0c99648a",
   "metadata": {},
   "outputs": [
    {
     "data": {
      "text/plain": [
       "(28, 28)"
      ]
     },
     "execution_count": 5,
     "metadata": {},
     "output_type": "execute_result"
    }
   ],
   "source": [
    "x_train[1].shape   #  This shows the shape of one of the train images (length, width, channel)"
   ]
  },
  {
   "cell_type": "code",
   "execution_count": 6,
   "id": "d0204494",
   "metadata": {},
   "outputs": [
    {
     "data": {
      "text/plain": [
       "<matplotlib.image.AxesImage at 0x216e323f040>"
      ]
     },
     "execution_count": 6,
     "metadata": {},
     "output_type": "execute_result"
    },
    {
     "data": {
      "image/png": "[encoded data removed]",
      "text/plain": [
       "<Figure size 640x480 with 1 Axes>"
      ]
     },
     "metadata": {},
     "output_type": "display_data"
    }
   ],
   "source": [
    "\n",
    "plt.imshow(x_train[1])"
   ]
  },
  {
   "cell_type": "code",
   "execution_count": 7,
   "id": "ff455e91",
   "metadata": {},
   "outputs": [
    {
     "data": {
      "text/plain": [
       "array([[[0, 0, 0, ..., 0, 0, 0],\n",
       "        [0, 0, 0, ..., 0, 0, 0],\n",
       "        [0, 0, 0, ..., 0, 0, 0],\n",
       "        ...,\n",
       "        [0, 0, 0, ..., 0, 0, 0],\n",
       "        [0, 0, 0, ..., 0, 0, 0],\n",
       "        [0, 0, 0, ..., 0, 0, 0]],\n",
       "\n",
       "       [[0, 0, 0, ..., 0, 0, 0],\n",
       "        [0, 0, 0, ..., 0, 0, 0],\n",
       "        [0, 0, 0, ..., 0, 0, 0],\n",
       "        ...,\n",
       "        [0, 0, 0, ..., 0, 0, 0],\n",
       "        [0, 0, 0, ..., 0, 0, 0],\n",
       "        [0, 0, 0, ..., 0, 0, 0]],\n",
       "\n",
       "       [[0, 0, 0, ..., 0, 0, 0],\n",
       "        [0, 0, 0, ..., 0, 0, 0],\n",
       "        [0, 0, 0, ..., 0, 0, 0],\n",
       "        ...,\n",
       "        [0, 0, 0, ..., 0, 0, 0],\n",
       "        [0, 0, 0, ..., 0, 0, 0],\n",
       "        [0, 0, 0, ..., 0, 0, 0]],\n",
       "\n",
       "       ...,\n",
       "\n",
       "       [[0, 0, 0, ..., 0, 0, 0],\n",
       "        [0, 0, 0, ..., 0, 0, 0],\n",
       "        [0, 0, 0, ..., 0, 0, 0],\n",
       "        ...,\n",
       "        [0, 0, 0, ..., 0, 0, 0],\n",
       "        [0, 0, 0, ..., 0, 0, 0],\n",
       "        [0, 0, 0, ..., 0, 0, 0]],\n",
       "\n",
       "       [[0, 0, 0, ..., 0, 0, 0],\n",
       "        [0, 0, 0, ..., 0, 0, 0],\n",
       "        [0, 0, 0, ..., 0, 0, 0],\n",
       "        ...,\n",
       "        [0, 0, 0, ..., 0, 0, 0],\n",
       "        [0, 0, 0, ..., 0, 0, 0],\n",
       "        [0, 0, 0, ..., 0, 0, 0]],\n",
       "\n",
       "       [[0, 0, 0, ..., 0, 0, 0],\n",
       "        [0, 0, 0, ..., 0, 0, 0],\n",
       "        [0, 0, 0, ..., 0, 0, 0],\n",
       "        ...,\n",
       "        [0, 0, 0, ..., 0, 0, 0],\n",
       "        [0, 0, 0, ..., 0, 0, 0],\n",
       "        [0, 0, 0, ..., 0, 0, 0]]], dtype=uint8)"
      ]
     },
     "execution_count": 7,
     "metadata": {},
     "output_type": "execute_result"
    }
   ],
   "source": [
    "x_train"
   ]
  },
  {
   "cell_type": "code",
   "execution_count": 8,
   "id": "56bf0361",
   "metadata": {},
   "outputs": [
    {
     "data": {
      "text/plain": [
       "array([5, 0, 4, ..., 5, 6, 8], dtype=uint8)"
      ]
     },
     "execution_count": 8,
     "metadata": {},
     "output_type": "execute_result"
    }
   ],
   "source": [
    "y_train"
   ]
  },
  {
   "cell_type": "code",
   "execution_count": 9,
   "id": "02e18aa1",
   "metadata": {},
   "outputs": [
    {
     "data": {
      "text/plain": [
       "(60000,)"
      ]
     },
     "execution_count": 9,
     "metadata": {},
     "output_type": "execute_result"
    }
   ],
   "source": [
    "y_train.shape"
   ]
  },
  {
   "cell_type": "code",
   "execution_count": 10,
   "id": "c6e42a71",
   "metadata": {},
   "outputs": [],
   "source": [
    "#reshape the input to have a single color channel."
   ]
  },
  {
   "cell_type": "code",
   "execution_count": 11,
   "id": "43b46055",
   "metadata": {},
   "outputs": [],
   "source": [
    "x_train = x_train.reshape(x_train.shape[0], 28, 28, 1)\n",
    "x_test = x_test.reshape(x_test.shape[0], 28, 28, 1)"
   ]
  },
  {
   "cell_type": "code",
   "execution_count": 12,
   "id": "701b27b4",
   "metadata": {},
   "outputs": [],
   "source": [
    "#converting the integer value to float before Normalization\n",
    "x_train = x_train.astype('float32')\n",
    "x_test = x_test.astype('float32')"
   ]
  },
  {
   "cell_type": "code",
   "execution_count": 13,
   "id": "feb4c5cd",
   "metadata": {},
   "outputs": [],
   "source": [
    "#one hot encode target values\n",
    "#count_of_classes = 10\n",
    "#Y_train = np_utils.to_categorical(y_train, count_of_classes)\n",
    "#Y_test = np_utils.to_categorical(y_test, count_of_classes)"
   ]
  },
  {
   "cell_type": "markdown",
   "id": "9b8a3921",
   "metadata": {},
   "source": [
    "### Step 3. Preprocess the data"
   ]
  },
  {
   "cell_type": "code",
   "execution_count": 14,
   "id": "0f251a4e",
   "metadata": {},
   "outputs": [],
   "source": [
    "# Normalize pixel values to range 0-1\n",
    "# the pixel values in an image typically range from 0 to 255\n",
    "# 1dividing all pixel values by 255 brings the pixel values to the range between 0 and 1\n",
    "x_train = x_train / 255.0\n",
    "x_test = x_test / 255.0"
   ]
  },
  {
   "cell_type": "code",
   "execution_count": 15,
   "id": "2b90958c",
   "metadata": {},
   "outputs": [
    {
     "data": {
      "text/plain": [
       "array([[[[0.],\n",
       "         [0.],\n",
       "         [0.],\n",
       "         ...,\n",
       "         [0.],\n",
       "         [0.],\n",
       "         [0.]],\n",
       "\n",
       "        [[0.],\n",
       "         [0.],\n",
       "         [0.],\n",
       "         ...,\n",
       "         [0.],\n",
       "         [0.],\n",
       "         [0.]],\n",
       "\n",
       "        [[0.],\n",
       "         [0.],\n",
       "         [0.],\n",
       "         ...,\n",
       "         [0.],\n",
       "         [0.],\n",
       "         [0.]],\n",
       "\n",
       "        ...,\n",
       "\n",
       "        [[0.],\n",
       "         [0.],\n",
       "         [0.],\n",
       "         ...,\n",
       "         [0.],\n",
       "         [0.],\n",
       "         [0.]],\n",
       "\n",
       "        [[0.],\n",
       "         [0.],\n",
       "         [0.],\n",
       "         ...,\n",
       "         [0.],\n",
       "         [0.],\n",
       "         [0.]],\n",
       "\n",
       "        [[0.],\n",
       "         [0.],\n",
       "         [0.],\n",
       "         ...,\n",
       "         [0.],\n",
       "         [0.],\n",
       "         [0.]]],\n",
       "\n",
       "\n",
       "       [[[0.],\n",
       "         [0.],\n",
       "         [0.],\n",
       "         ...,\n",
       "         [0.],\n",
       "         [0.],\n",
       "         [0.]],\n",
       "\n",
       "        [[0.],\n",
       "         [0.],\n",
       "         [0.],\n",
       "         ...,\n",
       "         [0.],\n",
       "         [0.],\n",
       "         [0.]],\n",
       "\n",
       "        [[0.],\n",
       "         [0.],\n",
       "         [0.],\n",
       "         ...,\n",
       "         [0.],\n",
       "         [0.],\n",
       "         [0.]],\n",
       "\n",
       "        ...,\n",
       "\n",
       "        [[0.],\n",
       "         [0.],\n",
       "         [0.],\n",
       "         ...,\n",
       "         [0.],\n",
       "         [0.],\n",
       "         [0.]],\n",
       "\n",
       "        [[0.],\n",
       "         [0.],\n",
       "         [0.],\n",
       "         ...,\n",
       "         [0.],\n",
       "         [0.],\n",
       "         [0.]],\n",
       "\n",
       "        [[0.],\n",
       "         [0.],\n",
       "         [0.],\n",
       "         ...,\n",
       "         [0.],\n",
       "         [0.],\n",
       "         [0.]]],\n",
       "\n",
       "\n",
       "       [[[0.],\n",
       "         [0.],\n",
       "         [0.],\n",
       "         ...,\n",
       "         [0.],\n",
       "         [0.],\n",
       "         [0.]],\n",
       "\n",
       "        [[0.],\n",
       "         [0.],\n",
       "         [0.],\n",
       "         ...,\n",
       "         [0.],\n",
       "         [0.],\n",
       "         [0.]],\n",
       "\n",
       "        [[0.],\n",
       "         [0.],\n",
       "         [0.],\n",
       "         ...,\n",
       "         [0.],\n",
       "         [0.],\n",
       "         [0.]],\n",
       "\n",
       "        ...,\n",
       "\n",
       "        [[0.],\n",
       "         [0.],\n",
       "         [0.],\n",
       "         ...,\n",
       "         [0.],\n",
       "         [0.],\n",
       "         [0.]],\n",
       "\n",
       "        [[0.],\n",
       "         [0.],\n",
       "         [0.],\n",
       "         ...,\n",
       "         [0.],\n",
       "         [0.],\n",
       "         [0.]],\n",
       "\n",
       "        [[0.],\n",
       "         [0.],\n",
       "         [0.],\n",
       "         ...,\n",
       "         [0.],\n",
       "         [0.],\n",
       "         [0.]]],\n",
       "\n",
       "\n",
       "       ...,\n",
       "\n",
       "\n",
       "       [[[0.],\n",
       "         [0.],\n",
       "         [0.],\n",
       "         ...,\n",
       "         [0.],\n",
       "         [0.],\n",
       "         [0.]],\n",
       "\n",
       "        [[0.],\n",
       "         [0.],\n",
       "         [0.],\n",
       "         ...,\n",
       "         [0.],\n",
       "         [0.],\n",
       "         [0.]],\n",
       "\n",
       "        [[0.],\n",
       "         [0.],\n",
       "         [0.],\n",
       "         ...,\n",
       "         [0.],\n",
       "         [0.],\n",
       "         [0.]],\n",
       "\n",
       "        ...,\n",
       "\n",
       "        [[0.],\n",
       "         [0.],\n",
       "         [0.],\n",
       "         ...,\n",
       "         [0.],\n",
       "         [0.],\n",
       "         [0.]],\n",
       "\n",
       "        [[0.],\n",
       "         [0.],\n",
       "         [0.],\n",
       "         ...,\n",
       "         [0.],\n",
       "         [0.],\n",
       "         [0.]],\n",
       "\n",
       "        [[0.],\n",
       "         [0.],\n",
       "         [0.],\n",
       "         ...,\n",
       "         [0.],\n",
       "         [0.],\n",
       "         [0.]]],\n",
       "\n",
       "\n",
       "       [[[0.],\n",
       "         [0.],\n",
       "         [0.],\n",
       "         ...,\n",
       "         [0.],\n",
       "         [0.],\n",
       "         [0.]],\n",
       "\n",
       "        [[0.],\n",
       "         [0.],\n",
       "         [0.],\n",
       "         ...,\n",
       "         [0.],\n",
       "         [0.],\n",
       "         [0.]],\n",
       "\n",
       "        [[0.],\n",
       "         [0.],\n",
       "         [0.],\n",
       "         ...,\n",
       "         [0.],\n",
       "         [0.],\n",
       "         [0.]],\n",
       "\n",
       "        ...,\n",
       "\n",
       "        [[0.],\n",
       "         [0.],\n",
       "         [0.],\n",
       "         ...,\n",
       "         [0.],\n",
       "         [0.],\n",
       "         [0.]],\n",
       "\n",
       "        [[0.],\n",
       "         [0.],\n",
       "         [0.],\n",
       "         ...,\n",
       "         [0.],\n",
       "         [0.],\n",
       "         [0.]],\n",
       "\n",
       "        [[0.],\n",
       "         [0.],\n",
       "         [0.],\n",
       "         ...,\n",
       "         [0.],\n",
       "         [0.],\n",
       "         [0.]]],\n",
       "\n",
       "\n",
       "       [[[0.],\n",
       "         [0.],\n",
       "         [0.],\n",
       "         ...,\n",
       "         [0.],\n",
       "         [0.],\n",
       "         [0.]],\n",
       "\n",
       "        [[0.],\n",
       "         [0.],\n",
       "         [0.],\n",
       "         ...,\n",
       "         [0.],\n",
       "         [0.],\n",
       "         [0.]],\n",
       "\n",
       "        [[0.],\n",
       "         [0.],\n",
       "         [0.],\n",
       "         ...,\n",
       "         [0.],\n",
       "         [0.],\n",
       "         [0.]],\n",
       "\n",
       "        ...,\n",
       "\n",
       "        [[0.],\n",
       "         [0.],\n",
       "         [0.],\n",
       "         ...,\n",
       "         [0.],\n",
       "         [0.],\n",
       "         [0.]],\n",
       "\n",
       "        [[0.],\n",
       "         [0.],\n",
       "         [0.],\n",
       "         ...,\n",
       "         [0.],\n",
       "         [0.],\n",
       "         [0.]],\n",
       "\n",
       "        [[0.],\n",
       "         [0.],\n",
       "         [0.],\n",
       "         ...,\n",
       "         [0.],\n",
       "         [0.],\n",
       "         [0.]]]], dtype=float32)"
      ]
     },
     "execution_count": 15,
     "metadata": {},
     "output_type": "execute_result"
    }
   ],
   "source": [
    "x_train"
   ]
  },
  {
   "cell_type": "code",
   "execution_count": 16,
   "id": "342d30bc",
   "metadata": {},
   "outputs": [],
   "source": [
    "from tensorflow.keras.preprocessing.image import ImageDataGenerator\n",
    "\n",
    "#For preprocessing, the ImageDataGenerator is used. \n",
    "#It is used for the generation of batches of augmented image data \n",
    "#in real-time during the training process;"
   ]
  },
  {
   "cell_type": "code",
   "execution_count": 17,
   "id": "9a76452e",
   "metadata": {},
   "outputs": [],
   "source": [
    "# Define data augmentation parameters for training set\n",
    "\n",
    "train_datagenerator = ImageDataGenerator(\n",
    "    rotation_range=20,  # Randomly rotate images up to 20 degrees\n",
    "    width_shift_range=0.1,  # Randomly shift images horizontally up to 10% of the width\n",
    "    height_shift_range=0.1,  # Randomly shift images vertically up to 10% of the height\n",
    "    horizontal_flip=True,  # Randomly flip images horizontally\n",
    "    vertical_flip=False,  # Don't randomly flip images vertically\n",
    "    shear_range=0.10, # crops part of the image\n",
    "    zoom_range=0.10 # #zooms the image by 10%\n",
    ")"
   ]
  },
  {
   "cell_type": "code",
   "execution_count": 18,
   "id": "287a96bf",
   "metadata": {},
   "outputs": [],
   "source": [
    "# Fit the transformation to the training dataset\n",
    "train_datagenerator.fit(x_train)"
   ]
  },
  {
   "cell_type": "code",
   "execution_count": 19,
   "id": "dceabc67",
   "metadata": {},
   "outputs": [
    {
     "data": {
      "text/plain": [
       "<matplotlib.image.AxesImage at 0x216e3bf4880>"
      ]
     },
     "execution_count": 19,
     "metadata": {},
     "output_type": "execute_result"
    },
    {
     "data": {
      "image/png": "[encoded data removed]",
      "text/plain": [
       "<Figure size 640x480 with 1 Axes>"
      ]
     },
     "metadata": {},
     "output_type": "display_data"
    }
   ],
   "source": [
    "# showing sample of a transformation\n",
    "plt.imshow(train_datagenerator.random_transform(x_train[1]))"
   ]
  },
  {
   "cell_type": "markdown",
   "id": "0fe0c483",
   "metadata": {},
   "source": [
    "### Step 4. Build the model (Constructor stage)"
   ]
  },
  {
   "cell_type": "code",
   "execution_count": 20,
   "id": "dcdfb0eb",
   "metadata": {},
   "outputs": [],
   "source": [
    "from tensorflow.keras.models import Sequential\n",
    "from tensorflow.keras.layers import Conv2D, MaxPooling2D, Flatten, Dense, Dropout, BatchNormalization,ZeroPadding2D\n",
    "from tensorflow.keras.optimizers import SGD,Adam\n",
    "from keras.optimizers import RMSprop"
   ]
  },
  {
   "cell_type": "code",
   "execution_count": 21,
   "id": "f495e420",
   "metadata": {},
   "outputs": [],
   "source": [
    "# Define the CNN architecture\n",
    "\n",
    "# Conv2D(filters=32,kernel_size=(3, 3) means use 32 filters (also called kernels) of size 3x3\n",
    "\n",
    "# input_shape=(28, 28, 1) means the input data is a 3D tensor with dimensions 28x28x1.(height x width x number_of_channels)\n",
    "    # The first dimension of the tensor (28) is the height of the image.\n",
    "    #The second dimension of the tensor (28) is the width of the image.\n",
    "    #The third dimension of the tensor (1) is the number of channels in the image (Black, White colors of the image).\n",
    "\n",
    "# The MaxPooling2D(2, 2) performs a pooling operation where the (2,2) argument indicates the size of the pooling window.\n",
    "    # It reduces the spatial size of the feature maps and prevent overfitting\n",
    "    # The output of the convolutional and pooling layers is a 3D tensor;\n",
    "\n",
    "# The Flatten() layer takes 3D tensor (height, width, channels) and reshapes it into a 1D array;\n",
    "    # The output of the convolutional and pooling layers is a 3D tensor;\n",
    "    # 1D array is required by the fully connected (dense) layers; \n",
    "    # Flatten() later enables the transition from the convolutional and pooling layers to the fully connected layers;\n",
    "\n",
    "mnist_model = Sequential()\n",
    "mnist_model.add(Conv2D(filters=32,kernel_size=(3,3),input_shape=(28,28,1),activation = 'relu',padding = 'same'))\n",
    "mnist_model.add(MaxPooling2D(pool_size=(2,2)))\n",
    "mnist_model.add(Conv2D(filters=64,kernel_size=(3,3),activation = 'relu'))\n",
    "mnist_model.add(MaxPooling2D(pool_size=(2,2)))\n",
    "mnist_model.add(Conv2D(filters=128,kernel_size=(3,3),activation = 'relu'))\n",
    "mnist_model.add(MaxPooling2D(pool_size=(2,2)))\n",
    "mnist_model.add(Flatten())\n",
    "mnist_model.add(Dense(128,activation = 'relu'))\n",
    "mnist_model.add(Dropout(0.5))\n",
    "mnist_model.add(Dense(10,activation = 'softmax'))"
   ]
  },
  {
   "cell_type": "code",
   "execution_count": 22,
   "id": "cac91c3c",
   "metadata": {},
   "outputs": [
    {
     "name": "stdout",
     "output_type": "stream",
     "text": [
      "Model: \"sequential\"\n",
      "_________________________________________________________________\n",
      " Layer (type)                Output Shape              Param #   \n",
      "=================================================================\n",
      " conv2d (Conv2D)             (None, 28, 28, 32)        320       \n",
      "                                                                 \n",
      " max_pooling2d (MaxPooling2D  (None, 14, 14, 32)       0         \n",
      " )                                                               \n",
      "                                                                 \n",
      " conv2d_1 (Conv2D)           (None, 12, 12, 64)        18496     \n",
      "                                                                 \n",
      " max_pooling2d_1 (MaxPooling  (None, 6, 6, 64)         0         \n",
      " 2D)                                                             \n",
      "                                                                 \n",
      " conv2d_2 (Conv2D)           (None, 4, 4, 128)         73856     \n",
      "                                                                 \n",
      " max_pooling2d_2 (MaxPooling  (None, 2, 2, 128)        0         \n",
      " 2D)                                                             \n",
      "                                                                 \n",
      " flatten (Flatten)           (None, 512)               0         \n",
      "                                                                 \n",
      " dense (Dense)               (None, 128)               65664     \n",
      "                                                                 \n",
      " dropout (Dropout)           (None, 128)               0         \n",
      "                                                                 \n",
      " dense_1 (Dense)             (None, 10)                1290      \n",
      "                                                                 \n",
      "=================================================================\n",
      "Total params: 159,626\n",
      "Trainable params: 159,626\n",
      "Non-trainable params: 0\n",
      "_________________________________________________________________\n"
     ]
    }
   ],
   "source": [
    "# print the summary of the model constructed\n",
    "mnist_model.summary()"
   ]
  },
  {
   "cell_type": "markdown",
   "id": "79432f08",
   "metadata": {},
   "source": [
    "### Step 5: Compile the model (Compilation stage)"
   ]
  },
  {
   "cell_type": "code",
   "execution_count": 23,
   "id": "02ec9e0e",
   "metadata": {},
   "outputs": [],
   "source": [
    "# Compile the model with categorical cross-entropy loss and SGD optimizer\n",
    "#categorical_crossentropy - loss function during model training\n",
    "#accuracy - Evaluation measure\n",
    "#SGD - Stochastic Gradient Descent\n",
    "\n",
    "# learning_rate=0.001 specifies the step size of the updates to the weights during training. \n",
    "# momentum=0.9 is a parameter that helps the optimizer to accelerate in the direction of the gradient and dampen oscillations.\n",
    "# Higher values of momentum allow the optimizer to move more smoothly towards the global minimum \n",
    "  # and reduce the chance of getting stuck in local minima.\n",
    "\n",
    "mnist_model.compile(optimizer=SGD(learning_rate=0.001, momentum=0.9), loss='categorical_crossentropy', metrics=['accuracy'])"
   ]
  },
  {
   "cell_type": "markdown",
   "id": "0207fe65",
   "metadata": {},
   "source": [
    "### Step 6: Training and evaluation of the model (Training stage)"
   ]
  },
  {
   "cell_type": "code",
   "execution_count": 24,
   "id": "1aba25fe",
   "metadata": {},
   "outputs": [
    {
     "name": "stdout",
     "output_type": "stream",
     "text": [
      "Epoch 1/10\n",
      "1875/1875 [==============================] - 115s 40ms/step - loss: 1.4923 - accuracy: 0.4847 - val_loss: 0.4398 - val_accuracy: 0.8729\n",
      "Epoch 2/10\n",
      "1875/1875 [==============================] - 70s 37ms/step - loss: 0.7039 - accuracy: 0.7638 - val_loss: 0.2572 - val_accuracy: 0.9202\n",
      "Epoch 3/10\n",
      "1875/1875 [==============================] - 69s 37ms/step - loss: 0.5273 - accuracy: 0.8296 - val_loss: 0.1620 - val_accuracy: 0.9499\n",
      "Epoch 4/10\n",
      "1875/1875 [==============================] - 68s 36ms/step - loss: 0.4274 - accuracy: 0.8638 - val_loss: 0.1507 - val_accuracy: 0.9483\n",
      "Epoch 5/10\n",
      "1875/1875 [==============================] - 71s 38ms/step - loss: 0.3650 - accuracy: 0.8867 - val_loss: 0.1034 - val_accuracy: 0.9646\n",
      "Epoch 6/10\n",
      "1875/1875 [==============================] - 72s 38ms/step - loss: 0.3214 - accuracy: 0.9007 - val_loss: 0.1089 - val_accuracy: 0.9650\n",
      "Epoch 7/10\n",
      "1875/1875 [==============================] - 71s 38ms/step - loss: 0.2925 - accuracy: 0.9092 - val_loss: 0.0838 - val_accuracy: 0.9717\n",
      "Epoch 8/10\n",
      "1875/1875 [==============================] - 67s 36ms/step - loss: 0.2679 - accuracy: 0.9173 - val_loss: 0.0758 - val_accuracy: 0.9729\n",
      "Epoch 9/10\n",
      "1875/1875 [==============================] - 67s 36ms/step - loss: 0.2455 - accuracy: 0.9254 - val_loss: 0.0677 - val_accuracy: 0.9777\n",
      "Epoch 10/10\n",
      "1875/1875 [==============================] - 67s 36ms/step - loss: 0.2320 - accuracy: 0.9290 - val_loss: 0.0717 - val_accuracy: 0.9749\n"
     ]
    }
   ],
   "source": [
    "# Train the model with 20 epochs and batch size of 32\n",
    "# to_categorical () converts integer class labels into one-hot encoded vectors;\n",
    "# also used to convert predicted scores back into class labels for evaluation in classification problems.\n",
    "\n",
    "# batch_size=32: the training dataset is put into mini-batches of size 32.\n",
    "\n",
    "#epochs=25: The model will be trained for 20 epochs; \n",
    "#This means the dataset will be passed through the model 20 times for training.\n",
    "\n",
    "history=mnist_model.fit(train_datagenerator.flow(x_train, keras.utils.to_categorical(y_train), batch_size=32),\n",
    "         epochs=10, validation_data=(x_test, keras.utils.to_categorical(y_test)))"
   ]
  },
  {
   "cell_type": "code",
   "execution_count": 25,
   "id": "c7a000fc",
   "metadata": {},
   "outputs": [
    {
     "data": {
      "image/png": "[encoded data removed]",
      "text/plain": [
       "<Figure size 640x480 with 1 Axes>"
      ]
     },
     "metadata": {},
     "output_type": "display_data"
    }
   ],
   "source": [
    "## checking for overfitting\n",
    "\n",
    "# Plot training loss against validation loss\n",
    "\n",
    "#Plots the training loss as a line with label \"Training Loss\".\n",
    "plt.plot(history.history['loss'], label='Training Loss')\n",
    "\n",
    "#Plots the validation loss as a line with label \"Validation Loss\".\n",
    "plt.plot(history.history['val_loss'], label='Validation Loss')\n",
    "\n",
    "#Sets the title of the plot to \"Training and Validation Loss\".\n",
    "plt.title('Training and Validation Loss')\n",
    "\n",
    "#Sets the label of the x-axis to \"Epochs\".\n",
    "plt.xlabel('Epochs')\n",
    "\n",
    "#Sets the label of the y-axis to \"Loss\".\n",
    "plt.ylabel('Loss')\n",
    "\n",
    "#Shows the legend of the plot with the labels of the two lines.\n",
    "plt.legend()\n",
    "\n",
    "#Shows the plot on the screen.\n",
    "plt.show()"
   ]
  },
  {
   "cell_type": "code",
   "execution_count": 26,
   "id": "5884d512",
   "metadata": {},
   "outputs": [
    {
     "data": {
      "image/png": "[encoded data removed]",
      "text/plain": [
       "<Figure size 640x480 with 1 Axes>"
      ]
     },
     "metadata": {},
     "output_type": "display_data"
    }
   ],
   "source": [
    "# Plot training and validation accuracy\n",
    "\n",
    "#Plots the training accuracy as a line with label \"Training Accuracy\".\n",
    "plt.plot(history.history['accuracy'], label='Training Accuracy')\n",
    "\n",
    "#Plots the validation accuracy as a line with label \"Validation Accuracy\".\n",
    "plt.plot(history.history['val_accuracy'], label='Validation Accuracy')\n",
    "\n",
    "#Sets the title of the plot to \"Training and Validation Accuracy\".\n",
    "plt.title('Training and Validation Accuracy')\n",
    "\n",
    "#Sets the label of the x-axis to \"Epochs\".\n",
    "plt.xlabel('Epochs')\n",
    "\n",
    "#Sets the label of the y-axis to \"Accuracy\".\n",
    "plt.ylabel('Accuracy')\n",
    "\n",
    "#Shows the legend of the plot with the labels of the two lines.\n",
    "plt.legend()\n",
    "\n",
    "#Shows the plot on the screen.\n",
    "plt.show()"
   ]
  },
  {
   "cell_type": "markdown",
   "id": "a6d8de92",
   "metadata": {},
   "source": [
    "\n",
    "### Step 7: Test the model (Make predictions)"
   ]
  },
  {
   "cell_type": "code",
   "execution_count": 27,
   "id": "ea3e63d4",
   "metadata": {},
   "outputs": [
    {
     "name": "stdout",
     "output_type": "stream",
     "text": [
      "313/313 [==============================] - 2s 6ms/step\n"
     ]
    }
   ],
   "source": [
    "# Predict the classes of the test set\n",
    "\n",
    "#np.argmax(model.predict(x_test), axis=-1), \n",
    "#this means that the argmax operation will be applied to the output predictions of the model along the last dimension;\n",
    "#this is the class probabilities for each test instance.\n",
    "# argmax returns the class with the largest predicted probability.\n",
    "\n",
    "y_pred = np.argmax(mnist_model.predict(x_test), axis=-1)"
   ]
  },
  {
   "cell_type": "markdown",
   "id": "80952d89",
   "metadata": {},
   "source": [
    "### Step 8: Visualise the results"
   ]
  },
  {
   "cell_type": "code",
   "execution_count": 28,
   "id": "82168bb3",
   "metadata": {},
   "outputs": [
    {
     "name": "stdout",
     "output_type": "stream",
     "text": [
      "              precision    recall  f1-score   support\n",
      "\n",
      "           0       0.99      0.99      0.99       980\n",
      "           1       0.99      0.99      0.99      1135\n",
      "           2       0.95      0.95      0.95      1032\n",
      "           3       0.98      0.99      0.98      1010\n",
      "           4       0.99      0.97      0.98       982\n",
      "           5       0.96      0.94      0.95       892\n",
      "           6       0.97      0.98      0.97       958\n",
      "           7       0.97      0.98      0.98      1028\n",
      "           8       0.98      0.98      0.98       974\n",
      "           9       0.96      0.98      0.97      1009\n",
      "\n",
      "    accuracy                           0.97     10000\n",
      "   macro avg       0.97      0.97      0.97     10000\n",
      "weighted avg       0.97      0.97      0.97     10000\n",
      "\n"
     ]
    }
   ],
   "source": [
    "from sklearn.metrics import classification_report\n",
    "mnist_classification_report = classification_report(y_test, y_pred,output_dict=True)\n",
    "\n",
    "print(classification_report(y_test, y_pred))"
   ]
  },
  {
   "cell_type": "code",
   "execution_count": 29,
   "id": "6fa5d1fa",
   "metadata": {},
   "outputs": [
    {
     "data": {
      "text/html": [
       "<div>\n",
       "<style scoped>\n",
       "    .dataframe tbody tr th:only-of-type {\n",
       "        vertical-align: middle;\n",
       "    }\n",
       "\n",
       "    .dataframe tbody tr th {\n",
       "        vertical-align: top;\n",
       "    }\n",
       "\n",
       "    .dataframe thead th {\n",
       "        text-align: right;\n",
       "    }\n",
       "</style>\n",
       "<table border=\"1\" class=\"dataframe\">\n",
       "  <thead>\n",
       "    <tr style=\"text-align: right;\">\n",
       "      <th></th>\n",
       "      <th>precision</th>\n",
       "      <th>recall</th>\n",
       "      <th>f1-score</th>\n",
       "      <th>support</th>\n",
       "    </tr>\n",
       "  </thead>\n",
       "  <tbody>\n",
       "    <tr>\n",
       "      <th>0</th>\n",
       "      <td>0.986802</td>\n",
       "      <td>0.991837</td>\n",
       "      <td>0.989313</td>\n",
       "      <td>980.0000</td>\n",
       "    </tr>\n",
       "    <tr>\n",
       "      <th>1</th>\n",
       "      <td>0.994714</td>\n",
       "      <td>0.994714</td>\n",
       "      <td>0.994714</td>\n",
       "      <td>1135.0000</td>\n",
       "    </tr>\n",
       "    <tr>\n",
       "      <th>2</th>\n",
       "      <td>0.952242</td>\n",
       "      <td>0.946705</td>\n",
       "      <td>0.949466</td>\n",
       "      <td>1032.0000</td>\n",
       "    </tr>\n",
       "    <tr>\n",
       "      <th>3</th>\n",
       "      <td>0.975490</td>\n",
       "      <td>0.985149</td>\n",
       "      <td>0.980296</td>\n",
       "      <td>1010.0000</td>\n",
       "    </tr>\n",
       "    <tr>\n",
       "      <th>4</th>\n",
       "      <td>0.993717</td>\n",
       "      <td>0.966395</td>\n",
       "      <td>0.979866</td>\n",
       "      <td>982.0000</td>\n",
       "    </tr>\n",
       "    <tr>\n",
       "      <th>5</th>\n",
       "      <td>0.962199</td>\n",
       "      <td>0.941704</td>\n",
       "      <td>0.951841</td>\n",
       "      <td>892.0000</td>\n",
       "    </tr>\n",
       "    <tr>\n",
       "      <th>6</th>\n",
       "      <td>0.965944</td>\n",
       "      <td>0.977035</td>\n",
       "      <td>0.971458</td>\n",
       "      <td>958.0000</td>\n",
       "    </tr>\n",
       "    <tr>\n",
       "      <th>7</th>\n",
       "      <td>0.973913</td>\n",
       "      <td>0.980545</td>\n",
       "      <td>0.977218</td>\n",
       "      <td>1028.0000</td>\n",
       "    </tr>\n",
       "    <tr>\n",
       "      <th>8</th>\n",
       "      <td>0.983539</td>\n",
       "      <td>0.981520</td>\n",
       "      <td>0.982528</td>\n",
       "      <td>974.0000</td>\n",
       "    </tr>\n",
       "    <tr>\n",
       "      <th>9</th>\n",
       "      <td>0.958252</td>\n",
       "      <td>0.978196</td>\n",
       "      <td>0.968122</td>\n",
       "      <td>1009.0000</td>\n",
       "    </tr>\n",
       "    <tr>\n",
       "      <th>accuracy</th>\n",
       "      <td>0.974900</td>\n",
       "      <td>0.974900</td>\n",
       "      <td>0.974900</td>\n",
       "      <td>0.9749</td>\n",
       "    </tr>\n",
       "    <tr>\n",
       "      <th>macro avg</th>\n",
       "      <td>0.974681</td>\n",
       "      <td>0.974380</td>\n",
       "      <td>0.974482</td>\n",
       "      <td>10000.0000</td>\n",
       "    </tr>\n",
       "    <tr>\n",
       "      <th>weighted avg</th>\n",
       "      <td>0.974954</td>\n",
       "      <td>0.974900</td>\n",
       "      <td>0.974880</td>\n",
       "      <td>10000.0000</td>\n",
       "    </tr>\n",
       "  </tbody>\n",
       "</table>\n",
       "</div>"
      ],
      "text/plain": [
       "              precision    recall  f1-score     support\n",
       "0              0.986802  0.991837  0.989313    980.0000\n",
       "1              0.994714  0.994714  0.994714   1135.0000\n",
       "2              0.952242  0.946705  0.949466   1032.0000\n",
       "3              0.975490  0.985149  0.980296   1010.0000\n",
       "4              0.993717  0.966395  0.979866    982.0000\n",
       "5              0.962199  0.941704  0.951841    892.0000\n",
       "6              0.965944  0.977035  0.971458    958.0000\n",
       "7              0.973913  0.980545  0.977218   1028.0000\n",
       "8              0.983539  0.981520  0.982528    974.0000\n",
       "9              0.958252  0.978196  0.968122   1009.0000\n",
       "accuracy       0.974900  0.974900  0.974900      0.9749\n",
       "macro avg      0.974681  0.974380  0.974482  10000.0000\n",
       "weighted avg   0.974954  0.974900  0.974880  10000.0000"
      ]
     },
     "execution_count": 29,
     "metadata": {},
     "output_type": "execute_result"
    }
   ],
   "source": [
    "df_report = pd.DataFrame(mnist_classification_report).transpose()\n",
    "df_report"
   ]
  },
  {
   "cell_type": "code",
   "execution_count": 30,
   "id": "45022cc4",
   "metadata": {},
   "outputs": [],
   "source": [
    "# Print the confusion matrix\n",
    "#from sklearn.metrics import ConfusionMatrixDisplay\n",
    "\n",
    "\n",
    "#plt.figure(dpi=200, figsize=(10,15))\n",
    "#ConfusionMatrixDisplay.from_predictions(y_test,y_pred, display_labels=class_names)\n",
    "#plt.title('Confusion Matrix')\n",
    "#plt.show()"
   ]
  },
  {
   "cell_type": "markdown",
   "id": "847d0ecc",
   "metadata": {},
   "source": [
    "# Question(a)"
   ]
  },
  {
   "cell_type": "markdown",
   "id": "4d796328",
   "metadata": {},
   "source": [
    "- **a.How did the use of different regularisation methods affect the performance of your CNN model?**\n",
    "    -  Regularisation helps us improve the generalisation of our model on unseen data. Some regularization methods are:\n",
    "          - Dropout\n",
    "          - Early Stopping\n",
    "          - L1 and L2\n",
    "          - Data Augmentation\n",
    "          - Batch Normaliztion"
   ]
  },
  {
   "cell_type": "markdown",
   "id": "18dc0592",
   "metadata": {},
   "source": [
    "# Regularisation Method( Early Stopping)"
   ]
  },
  {
   "cell_type": "code",
   "execution_count": 31,
   "id": "b7a558d7",
   "metadata": {},
   "outputs": [],
   "source": [
    "mnist_model2 = Sequential()\n",
    "mnist_model2.add(Conv2D(filters=32,kernel_size=(3,3),input_shape=(28,28,1),activation = 'relu',padding = 'same'))\n",
    "mnist_model2.add(MaxPooling2D(pool_size=(2,2)))\n",
    "mnist_model2.add(Conv2D(filters=64,kernel_size=(3,3),activation = 'relu'))\n",
    "mnist_model2.add(MaxPooling2D(pool_size=(2,2)))\n",
    "mnist_model2.add(Conv2D(filters=128,kernel_size=(3,3),activation = 'relu'))\n",
    "mnist_model2.add(MaxPooling2D(pool_size=(2,2)))\n",
    "mnist_model2.add(Flatten())\n",
    "mnist_model2.add(Dense(128,activation = 'relu'))\n",
    "mnist_model2.add(Dropout(0.5))\n",
    "mnist_model2.add(Dense(10,activation = 'softmax'))\n",
    "#compiling the model\n",
    "mnist_model2.compile(optimizer=SGD(learning_rate=0.001, momentum=0.9), loss='categorical_crossentropy', metrics=['accuracy'])"
   ]
  },
  {
   "cell_type": "code",
   "execution_count": 32,
   "id": "081bae2a",
   "metadata": {},
   "outputs": [
    {
     "name": "stdout",
     "output_type": "stream",
     "text": [
      "Epoch 1/25\n",
      "1875/1875 [==============================] - 76s 39ms/step - loss: 1.5362 - accuracy: 0.4666 - val_loss: 0.4608 - val_accuracy: 0.8419\n",
      "Epoch 2/25\n",
      "1875/1875 [==============================] - 73s 39ms/step - loss: 0.7009 - accuracy: 0.7675 - val_loss: 0.2780 - val_accuracy: 0.9067\n",
      "Epoch 3/25\n",
      "1875/1875 [==============================] - 69s 37ms/step - loss: 0.5173 - accuracy: 0.8319 - val_loss: 0.1961 - val_accuracy: 0.9393\n",
      "Epoch 4/25\n",
      "1875/1875 [==============================] - 69s 37ms/step - loss: 0.4242 - accuracy: 0.8653 - val_loss: 0.1429 - val_accuracy: 0.9531\n",
      "Epoch 5/25\n",
      "1875/1875 [==============================] - 71s 38ms/step - loss: 0.3621 - accuracy: 0.8856 - val_loss: 0.1161 - val_accuracy: 0.9622\n",
      "Epoch 6/25\n",
      "1875/1875 [==============================] - 71s 38ms/step - loss: 0.3217 - accuracy: 0.9003 - val_loss: 0.0997 - val_accuracy: 0.9670\n",
      "Epoch 7/25\n",
      "1875/1875 [==============================] - 70s 37ms/step - loss: 0.2846 - accuracy: 0.9117 - val_loss: 0.0837 - val_accuracy: 0.9725\n",
      "Epoch 8/25\n",
      "1875/1875 [==============================] - 72s 38ms/step - loss: 0.2635 - accuracy: 0.9189 - val_loss: 0.0771 - val_accuracy: 0.9718\n",
      "Epoch 9/25\n",
      "1875/1875 [==============================] - 67s 36ms/step - loss: 0.2434 - accuracy: 0.9262 - val_loss: 0.0713 - val_accuracy: 0.9750\n",
      "Epoch 10/25\n",
      "1875/1875 [==============================] - 67s 36ms/step - loss: 0.2270 - accuracy: 0.9308 - val_loss: 0.0700 - val_accuracy: 0.9753\n",
      "Epoch 11/25\n",
      "1875/1875 [==============================] - 70s 37ms/step - loss: 0.2131 - accuracy: 0.9358 - val_loss: 0.0636 - val_accuracy: 0.9775\n",
      "Epoch 12/25\n",
      "1875/1875 [==============================] - 69s 37ms/step - loss: 0.2057 - accuracy: 0.9378 - val_loss: 0.0748 - val_accuracy: 0.9767\n",
      "Epoch 13/25\n",
      "1875/1875 [==============================] - 67s 36ms/step - loss: 0.1972 - accuracy: 0.9398 - val_loss: 0.0626 - val_accuracy: 0.9787\n",
      "Epoch 14/25\n",
      "1875/1875 [==============================] - 68s 36ms/step - loss: 0.1849 - accuracy: 0.9433 - val_loss: 0.0563 - val_accuracy: 0.9808\n",
      "Epoch 15/25\n",
      "1875/1875 [==============================] - 70s 37ms/step - loss: 0.1833 - accuracy: 0.9433 - val_loss: 0.0673 - val_accuracy: 0.9770\n",
      "Epoch 16/25\n",
      "1875/1875 [==============================] - 67s 36ms/step - loss: 0.1732 - accuracy: 0.9480 - val_loss: 0.0556 - val_accuracy: 0.9814\n",
      "Epoch 17/25\n",
      "1875/1875 [==============================] - 63s 34ms/step - loss: 0.1662 - accuracy: 0.9495 - val_loss: 0.0522 - val_accuracy: 0.9819\n",
      "Epoch 18/25\n",
      "1875/1875 [==============================] - 69s 37ms/step - loss: 0.1635 - accuracy: 0.9496 - val_loss: 0.0635 - val_accuracy: 0.9792\n",
      "Epoch 19/25\n",
      "1875/1875 [==============================] - 71s 38ms/step - loss: 0.1592 - accuracy: 0.9523 - val_loss: 0.0553 - val_accuracy: 0.9822\n",
      "Epoch 20/25\n",
      "1875/1875 [==============================] - 71s 38ms/step - loss: 0.1527 - accuracy: 0.9545 - val_loss: 0.0474 - val_accuracy: 0.9829\n",
      "Epoch 21/25\n",
      "1875/1875 [==============================] - 65s 35ms/step - loss: 0.1523 - accuracy: 0.9540 - val_loss: 0.0557 - val_accuracy: 0.9823\n",
      "Epoch 22/25\n",
      "1875/1875 [==============================] - 66s 35ms/step - loss: 0.1483 - accuracy: 0.9549 - val_loss: 0.0480 - val_accuracy: 0.9843\n",
      "Epoch 23/25\n",
      "1875/1875 [==============================] - 69s 37ms/step - loss: 0.1427 - accuracy: 0.9562 - val_loss: 0.0484 - val_accuracy: 0.9834\n",
      "Epoch 24/25\n",
      "1875/1875 [==============================] - 70s 37ms/step - loss: 0.1377 - accuracy: 0.9584 - val_loss: 0.0432 - val_accuracy: 0.9857\n",
      "Epoch 25/25\n",
      "1875/1875 [==============================] - 68s 36ms/step - loss: 0.1377 - accuracy: 0.9585 - val_loss: 0.0503 - val_accuracy: 0.9824\n"
     ]
    }
   ],
   "source": [
    "#Training the model\n",
    "\n",
    "from keras import callbacks\n",
    "earlystopping = callbacks.EarlyStopping(monitor=\"val_loss\",mode=\"min\", patience=5,restore_best_weights=True,verbose=1)\n",
    " \n",
    "history2=mnist_model2.fit(train_datagenerator.flow(x_train, keras.utils.to_categorical(y_train), batch_size=32),\n",
    "          epochs=25, validation_data=(x_test, keras.utils.to_categorical(y_test)),callbacks=[earlystopping])"
   ]
  },
  {
   "cell_type": "code",
   "execution_count": 33,
   "id": "9e6b0134",
   "metadata": {},
   "outputs": [
    {
     "data": {
      "image/png": "[encoded data removed]",
      "text/plain": [
       "<Figure size 640x480 with 1 Axes>"
      ]
     },
     "metadata": {},
     "output_type": "display_data"
    }
   ],
   "source": [
    "## checking for overfitting\n",
    "\n",
    "# Plot training loss against validation loss\n",
    "\n",
    "#Plots the training loss as a line with label \"Training Loss\".\n",
    "plt.plot(history2.history['loss'], label='Training Loss')\n",
    "\n",
    "#Plots the validation loss as a line with label \"Validation Loss\".\n",
    "plt.plot(history2.history['val_loss'], label='Validation Loss')\n",
    "\n",
    "#Sets the title of the plot to \"Training and Validation Loss\".\n",
    "plt.title('Training and Validation Loss (With Early Stopping)')\n",
    "\n",
    "#Sets the label of the x-axis to \"Epochs\".\n",
    "plt.xlabel('Epochs')\n",
    "\n",
    "#Sets the label of the y-axis to \"Loss\".\n",
    "plt.ylabel('Loss')\n",
    "\n",
    "#Shows the legend of the plot with the labels of the two lines.\n",
    "plt.legend()\n",
    "\n",
    "#Shows the plot on the screen.\n",
    "plt.show()"
   ]
  },
  {
   "cell_type": "code",
   "execution_count": 34,
   "id": "608278a6",
   "metadata": {},
   "outputs": [
    {
     "data": {
      "image/png": "[encoded data removed]",
      "text/plain": [
       "<Figure size 640x480 with 1 Axes>"
      ]
     },
     "metadata": {},
     "output_type": "display_data"
    }
   ],
   "source": [
    "# Plot training and validation accuracy\n",
    "\n",
    "#Plots the training accuracy as a line with label \"Training Accuracy\".\n",
    "plt.plot(history2.history['accuracy'], label='Training Accuracy')\n",
    "\n",
    "#Plots the validation accuracy as a line with label \"Validation Accuracy\".\n",
    "plt.plot(history2.history['val_accuracy'], label='Validation Accuracy')\n",
    "\n",
    "#Sets the title of the plot to \"Training and Validation Accuracy\".\n",
    "plt.title('Training and Validation Accuracy (With Early Stopping)')\n",
    "\n",
    "#Sets the label of the x-axis to \"Epochs\".\n",
    "plt.xlabel('Epochs')\n",
    "\n",
    "#Sets the label of the y-axis to \"Accuracy\".\n",
    "plt.ylabel('Accuracy')\n",
    "\n",
    "#Shows the legend of the plot with the labels of the two lines.\n",
    "plt.legend()\n",
    "\n",
    "#Shows the plot on the screen.\n",
    "plt.show()"
   ]
  },
  {
   "cell_type": "code",
   "execution_count": 35,
   "id": "9aad0104",
   "metadata": {},
   "outputs": [
    {
     "name": "stdout",
     "output_type": "stream",
     "text": [
      "313/313 [==============================] - 3s 7ms/step\n"
     ]
    }
   ],
   "source": [
    "#make predictions\n",
    "y_pred2 = np.argmax(mnist_model2.predict(x_test), axis=-1)"
   ]
  },
  {
   "cell_type": "code",
   "execution_count": 36,
   "id": "652c4fa6",
   "metadata": {},
   "outputs": [
    {
     "name": "stdout",
     "output_type": "stream",
     "text": [
      "              precision    recall  f1-score   support\n",
      "\n",
      "           0       0.99      0.99      0.99       980\n",
      "           1       1.00      0.99      0.99      1135\n",
      "           2       0.98      0.95      0.96      1032\n",
      "           3       0.99      0.99      0.99      1010\n",
      "           4       0.99      0.99      0.99       982\n",
      "           5       0.95      0.98      0.96       892\n",
      "           6       0.98      0.98      0.98       958\n",
      "           7       0.99      0.97      0.98      1028\n",
      "           8       0.99      0.99      0.99       974\n",
      "           9       0.97      0.99      0.98      1009\n",
      "\n",
      "    accuracy                           0.98     10000\n",
      "   macro avg       0.98      0.98      0.98     10000\n",
      "weighted avg       0.98      0.98      0.98     10000\n",
      "\n"
     ]
    }
   ],
   "source": [
    "#Visualize the result\n",
    "from sklearn.metrics import classification_report\n",
    "mnist_classification_report2 = classification_report(y_test, y_pred2,output_dict=True)\n",
    "\n",
    "print(classification_report(y_test, y_pred2))"
   ]
  },
  {
   "cell_type": "code",
   "execution_count": 37,
   "id": "a03f1121",
   "metadata": {},
   "outputs": [
    {
     "data": {
      "text/html": [
       "<div>\n",
       "<style scoped>\n",
       "    .dataframe tbody tr th:only-of-type {\n",
       "        vertical-align: middle;\n",
       "    }\n",
       "\n",
       "    .dataframe tbody tr th {\n",
       "        vertical-align: top;\n",
       "    }\n",
       "\n",
       "    .dataframe thead th {\n",
       "        text-align: right;\n",
       "    }\n",
       "</style>\n",
       "<table border=\"1\" class=\"dataframe\">\n",
       "  <thead>\n",
       "    <tr style=\"text-align: right;\">\n",
       "      <th></th>\n",
       "      <th>precision</th>\n",
       "      <th>recall</th>\n",
       "      <th>f1-score</th>\n",
       "      <th>support</th>\n",
       "    </tr>\n",
       "  </thead>\n",
       "  <tbody>\n",
       "    <tr>\n",
       "      <th>0</th>\n",
       "      <td>0.993884</td>\n",
       "      <td>0.994898</td>\n",
       "      <td>0.994391</td>\n",
       "      <td>980.0000</td>\n",
       "    </tr>\n",
       "    <tr>\n",
       "      <th>1</th>\n",
       "      <td>0.998222</td>\n",
       "      <td>0.989427</td>\n",
       "      <td>0.993805</td>\n",
       "      <td>1135.0000</td>\n",
       "    </tr>\n",
       "    <tr>\n",
       "      <th>2</th>\n",
       "      <td>0.975174</td>\n",
       "      <td>0.951550</td>\n",
       "      <td>0.963217</td>\n",
       "      <td>1032.0000</td>\n",
       "    </tr>\n",
       "    <tr>\n",
       "      <th>3</th>\n",
       "      <td>0.987192</td>\n",
       "      <td>0.992079</td>\n",
       "      <td>0.989630</td>\n",
       "      <td>1010.0000</td>\n",
       "    </tr>\n",
       "    <tr>\n",
       "      <th>4</th>\n",
       "      <td>0.985772</td>\n",
       "      <td>0.987780</td>\n",
       "      <td>0.986775</td>\n",
       "      <td>982.0000</td>\n",
       "    </tr>\n",
       "    <tr>\n",
       "      <th>5</th>\n",
       "      <td>0.947084</td>\n",
       "      <td>0.983184</td>\n",
       "      <td>0.964796</td>\n",
       "      <td>892.0000</td>\n",
       "    </tr>\n",
       "    <tr>\n",
       "      <th>6</th>\n",
       "      <td>0.975130</td>\n",
       "      <td>0.982255</td>\n",
       "      <td>0.978679</td>\n",
       "      <td>958.0000</td>\n",
       "    </tr>\n",
       "    <tr>\n",
       "      <th>7</th>\n",
       "      <td>0.992032</td>\n",
       "      <td>0.968872</td>\n",
       "      <td>0.980315</td>\n",
       "      <td>1028.0000</td>\n",
       "    </tr>\n",
       "    <tr>\n",
       "      <th>8</th>\n",
       "      <td>0.993789</td>\n",
       "      <td>0.985626</td>\n",
       "      <td>0.989691</td>\n",
       "      <td>974.0000</td>\n",
       "    </tr>\n",
       "    <tr>\n",
       "      <th>9</th>\n",
       "      <td>0.971762</td>\n",
       "      <td>0.989098</td>\n",
       "      <td>0.980354</td>\n",
       "      <td>1009.0000</td>\n",
       "    </tr>\n",
       "    <tr>\n",
       "      <th>accuracy</th>\n",
       "      <td>0.982400</td>\n",
       "      <td>0.982400</td>\n",
       "      <td>0.982400</td>\n",
       "      <td>0.9824</td>\n",
       "    </tr>\n",
       "    <tr>\n",
       "      <th>macro avg</th>\n",
       "      <td>0.982004</td>\n",
       "      <td>0.982477</td>\n",
       "      <td>0.982165</td>\n",
       "      <td>10000.0000</td>\n",
       "    </tr>\n",
       "    <tr>\n",
       "      <th>weighted avg</th>\n",
       "      <td>0.982570</td>\n",
       "      <td>0.982400</td>\n",
       "      <td>0.982412</td>\n",
       "      <td>10000.0000</td>\n",
       "    </tr>\n",
       "  </tbody>\n",
       "</table>\n",
       "</div>"
      ],
      "text/plain": [
       "              precision    recall  f1-score     support\n",
       "0              0.993884  0.994898  0.994391    980.0000\n",
       "1              0.998222  0.989427  0.993805   1135.0000\n",
       "2              0.975174  0.951550  0.963217   1032.0000\n",
       "3              0.987192  0.992079  0.989630   1010.0000\n",
       "4              0.985772  0.987780  0.986775    982.0000\n",
       "5              0.947084  0.983184  0.964796    892.0000\n",
       "6              0.975130  0.982255  0.978679    958.0000\n",
       "7              0.992032  0.968872  0.980315   1028.0000\n",
       "8              0.993789  0.985626  0.989691    974.0000\n",
       "9              0.971762  0.989098  0.980354   1009.0000\n",
       "accuracy       0.982400  0.982400  0.982400      0.9824\n",
       "macro avg      0.982004  0.982477  0.982165  10000.0000\n",
       "weighted avg   0.982570  0.982400  0.982412  10000.0000"
      ]
     },
     "execution_count": 37,
     "metadata": {},
     "output_type": "execute_result"
    }
   ],
   "source": [
    "df_report2 = pd.DataFrame(mnist_classification_report2).transpose()\n",
    "df_report2"
   ]
  },
  {
   "cell_type": "markdown",
   "id": "6bcc9944",
   "metadata": {},
   "source": [
    "#### Observation(s)"
   ]
  },
  {
   "cell_type": "markdown",
   "id": "c472415f",
   "metadata": {},
   "source": [
    "- The model had it's least validation loss of 0.0460 at the 23rd epoch, hence I will be keeping this epoch value constant\n",
    "- The training completed up to the 25th epoch with early stopping in-place, hence the model did not overfit up to \n",
    "  the 25th epoch "
   ]
  },
  {
   "cell_type": "markdown",
   "id": "a809833a",
   "metadata": {},
   "source": [
    "# Regularisation Method(Batch Normaliztion)"
   ]
  },
  {
   "cell_type": "markdown",
   "id": "96a07f67",
   "metadata": {},
   "source": [
    "- We would examine the introduction of Batch Normalization into our model because it normalizes the matrix after it has been through a convolution layer. It reduces training time and ensures that the scale of each dimension remains the same."
   ]
  },
  {
   "cell_type": "code",
   "execution_count": 38,
   "id": "4556d782",
   "metadata": {},
   "outputs": [],
   "source": [
    "mnist_model3 = Sequential()\n",
    "mnist_model3.add(Conv2D(filters=32,kernel_size=(3,3),input_shape=(28,28,1),activation = 'relu',padding = 'same'))\n",
    "mnist_model3.add(MaxPooling2D(pool_size=(2,2)))\n",
    "mnist_model3.add(Conv2D(filters=64,kernel_size=(3,3),activation = 'relu'))\n",
    "mnist_model3.add(MaxPooling2D(pool_size=(2,2)))\n",
    "mnist_model3.add(Conv2D(filters=128,kernel_size=(3,3),activation = 'relu'))\n",
    "mnist_model3.add(MaxPooling2D(pool_size=(2,2)))\n",
    "mnist_model3.add(Flatten())\n",
    "mnist_model3.add(BatchNormalization())\n",
    "mnist_model3.add(Dense(128,activation = 'relu'))\n",
    "mnist_model3.add(Dropout(0.5))\n",
    "mnist_model3.add(Dense(10,activation = 'softmax'))\n",
    "#compiling the model\n",
    "mnist_model3.compile(optimizer=SGD(learning_rate=0.001, momentum=0.9), loss='categorical_crossentropy', metrics=['accuracy'])"
   ]
  },
  {
   "cell_type": "code",
   "execution_count": 39,
   "id": "0495eac7",
   "metadata": {},
   "outputs": [
    {
     "name": "stdout",
     "output_type": "stream",
     "text": [
      "Epoch 1/23\n",
      "1875/1875 [==============================] - 78s 37ms/step - loss: 0.7696 - accuracy: 0.7450 - val_loss: 0.2164 - val_accuracy: 0.9333\n",
      "Epoch 2/23\n",
      "1875/1875 [==============================] - 23s 12ms/step - loss: 0.3805 - accuracy: 0.8799 - val_loss: 0.1068 - val_accuracy: 0.9654\n",
      "Epoch 3/23\n",
      "1875/1875 [==============================] - 25s 13ms/step - loss: 0.2971 - accuracy: 0.9073 - val_loss: 0.0878 - val_accuracy: 0.9716\n",
      "Epoch 4/23\n",
      "1875/1875 [==============================] - 24s 13ms/step - loss: 0.2468 - accuracy: 0.9239 - val_loss: 0.0941 - val_accuracy: 0.9701\n",
      "Epoch 5/23\n",
      "1875/1875 [==============================] - 26s 14ms/step - loss: 0.2236 - accuracy: 0.9336 - val_loss: 0.0770 - val_accuracy: 0.9747\n",
      "Epoch 6/23\n",
      "1875/1875 [==============================] - 28s 15ms/step - loss: 0.2020 - accuracy: 0.9385 - val_loss: 0.0635 - val_accuracy: 0.9802\n",
      "Epoch 7/23\n",
      "1875/1875 [==============================] - 28s 15ms/step - loss: 0.1927 - accuracy: 0.9402 - val_loss: 0.0879 - val_accuracy: 0.9713\n",
      "Epoch 8/23\n",
      "1875/1875 [==============================] - 28s 15ms/step - loss: 0.1792 - accuracy: 0.9445 - val_loss: 0.0517 - val_accuracy: 0.9828\n",
      "Epoch 9/23\n",
      "1875/1875 [==============================] - 28s 15ms/step - loss: 0.1678 - accuracy: 0.9491 - val_loss: 0.0473 - val_accuracy: 0.9855\n",
      "Epoch 10/23\n",
      "1875/1875 [==============================] - 28s 15ms/step - loss: 0.1619 - accuracy: 0.9512 - val_loss: 0.0505 - val_accuracy: 0.9849\n",
      "Epoch 11/23\n",
      "1875/1875 [==============================] - 29s 15ms/step - loss: 0.1509 - accuracy: 0.9541 - val_loss: 0.0536 - val_accuracy: 0.9833\n",
      "Epoch 12/23\n",
      "1875/1875 [==============================] - 28s 15ms/step - loss: 0.1472 - accuracy: 0.9553 - val_loss: 0.0485 - val_accuracy: 0.9852\n",
      "Epoch 13/23\n",
      "1875/1875 [==============================] - 28s 15ms/step - loss: 0.1454 - accuracy: 0.9564 - val_loss: 0.0638 - val_accuracy: 0.9795\n",
      "Epoch 14/23\n",
      "1875/1875 [==============================] - 28s 15ms/step - loss: 0.1361 - accuracy: 0.9581 - val_loss: 0.0708 - val_accuracy: 0.9772\n",
      "Epoch 15/23\n",
      "1875/1875 [==============================] - 29s 15ms/step - loss: 0.1357 - accuracy: 0.9592 - val_loss: 0.0511 - val_accuracy: 0.9853\n",
      "Epoch 16/23\n",
      "1875/1875 [==============================] - 30s 16ms/step - loss: 0.1306 - accuracy: 0.9601 - val_loss: 0.0601 - val_accuracy: 0.9816\n",
      "Epoch 17/23\n",
      "1875/1875 [==============================] - 29s 16ms/step - loss: 0.1249 - accuracy: 0.9612 - val_loss: 0.0461 - val_accuracy: 0.9847\n",
      "Epoch 18/23\n",
      "1875/1875 [==============================] - 29s 15ms/step - loss: 0.1249 - accuracy: 0.9624 - val_loss: 0.0527 - val_accuracy: 0.9834\n",
      "Epoch 19/23\n",
      "1875/1875 [==============================] - 29s 15ms/step - loss: 0.1194 - accuracy: 0.9642 - val_loss: 0.0812 - val_accuracy: 0.9754\n",
      "Epoch 20/23\n",
      "1875/1875 [==============================] - 28s 15ms/step - loss: 0.1176 - accuracy: 0.9647 - val_loss: 0.0476 - val_accuracy: 0.9844\n",
      "Epoch 21/23\n",
      "1875/1875 [==============================] - 28s 15ms/step - loss: 0.1161 - accuracy: 0.9639 - val_loss: 0.0420 - val_accuracy: 0.9885\n",
      "Epoch 22/23\n",
      "1875/1875 [==============================] - 29s 16ms/step - loss: 0.1155 - accuracy: 0.9656 - val_loss: 0.0621 - val_accuracy: 0.9790\n",
      "Epoch 23/23\n",
      "1875/1875 [==============================] - 29s 16ms/step - loss: 0.1158 - accuracy: 0.9650 - val_loss: 0.0523 - val_accuracy: 0.9837\n"
     ]
    }
   ],
   "source": [
    "#Training and evaluating the model\n",
    "history3=mnist_model3.fit(train_datagenerator.flow(x_train, keras.utils.to_categorical(y_train), batch_size=32),\n",
    "         epochs=23, validation_data=(x_test, keras.utils.to_categorical(y_test)))"
   ]
  },
  {
   "cell_type": "code",
   "execution_count": 40,
   "id": "ca84f0c2",
   "metadata": {},
   "outputs": [
    {
     "data": {
      "image/png": "[encoded data removed]",
      "text/plain": [
       "<Figure size 640x480 with 1 Axes>"
      ]
     },
     "metadata": {},
     "output_type": "display_data"
    }
   ],
   "source": [
    "## checking for overfitting\n",
    "\n",
    "# Plot training loss against validation loss\n",
    "\n",
    "#Plots the training loss as a line with label \"Training Loss\".\n",
    "plt.plot(history3.history['loss'], label='Training Loss')\n",
    "\n",
    "#Plots the validation loss as a line with label \"Validation Loss\".\n",
    "plt.plot(history3.history['val_loss'], label='Validation Loss')\n",
    "\n",
    "#Sets the title of the plot to \"Training and Validation Loss\".\n",
    "plt.title('Training and Validation Loss (With Batch Normalization)')\n",
    "\n",
    "#Sets the label of the x-axis to \"Epochs\".\n",
    "plt.xlabel('Epochs')\n",
    "\n",
    "#Sets the label of the y-axis to \"Loss\".\n",
    "plt.ylabel('Loss')\n",
    "\n",
    "#Shows the legend of the plot with the labels of the two lines.\n",
    "plt.legend()\n",
    "\n",
    "#Shows the plot on the screen.\n",
    "plt.show()"
   ]
  },
  {
   "cell_type": "code",
   "execution_count": 41,
   "id": "2e0ebfff",
   "metadata": {},
   "outputs": [
    {
     "data": {
      "image/png": "[encoded data removed]",
      "text/plain": [
       "<Figure size 640x480 with 1 Axes>"
      ]
     },
     "metadata": {},
     "output_type": "display_data"
    }
   ],
   "source": [
    "# Plot training and validation accuracy\n",
    "\n",
    "#Plots the training accuracy as a line with label \"Training Accuracy\".\n",
    "plt.plot(history3.history['accuracy'], label='Training Accuracy')\n",
    "\n",
    "#Plots the validation accuracy as a line with label \"Validation Accuracy\".\n",
    "plt.plot(history3.history['val_accuracy'], label='Validation Accuracy')\n",
    "\n",
    "#Sets the title of the plot to \"Training and Validation Accuracy\".\n",
    "plt.title('Training and Validation Accuracy (With Batch Normalization)')\n",
    "\n",
    "#Sets the label of the x-axis to \"Epochs\".\n",
    "plt.xlabel('Epochs')\n",
    "\n",
    "#Sets the label of the y-axis to \"Accuracy\".\n",
    "plt.ylabel('Accuracy')\n",
    "\n",
    "#Shows the legend of the plot with the labels of the two lines.\n",
    "plt.legend()\n",
    "\n",
    "#Shows the plot on the screen.\n",
    "plt.show()"
   ]
  },
  {
   "cell_type": "code",
   "execution_count": 42,
   "id": "af365d1b",
   "metadata": {},
   "outputs": [
    {
     "name": "stdout",
     "output_type": "stream",
     "text": [
      "313/313 [==============================] - 1s 3ms/step\n"
     ]
    }
   ],
   "source": [
    "#make predictions\n",
    "y_pred3 = np.argmax(mnist_model3.predict(x_test), axis=-1)"
   ]
  },
  {
   "cell_type": "code",
   "execution_count": 43,
   "id": "67cac8be",
   "metadata": {},
   "outputs": [
    {
     "name": "stdout",
     "output_type": "stream",
     "text": [
      "              precision    recall  f1-score   support\n",
      "\n",
      "           0       1.00      0.99      0.99       980\n",
      "           1       1.00      0.98      0.99      1135\n",
      "           2       0.96      0.97      0.96      1032\n",
      "           3       0.99      1.00      0.99      1010\n",
      "           4       0.98      1.00      0.99       982\n",
      "           5       0.95      0.98      0.97       892\n",
      "           6       0.99      0.96      0.97       958\n",
      "           7       0.98      0.99      0.98      1028\n",
      "           8       0.99      0.99      0.99       974\n",
      "           9       0.99      0.98      0.99      1009\n",
      "\n",
      "    accuracy                           0.98     10000\n",
      "   macro avg       0.98      0.98      0.98     10000\n",
      "weighted avg       0.98      0.98      0.98     10000\n",
      "\n"
     ]
    }
   ],
   "source": [
    "#Visualize the result\n",
    "from sklearn.metrics import classification_report\n",
    "mnist_classification_report3 = classification_report(y_test, y_pred3,output_dict=True)\n",
    "\n",
    "print(classification_report(y_test, y_pred3))"
   ]
  },
  {
   "cell_type": "code",
   "execution_count": 44,
   "id": "a9f21783",
   "metadata": {},
   "outputs": [
    {
     "data": {
      "text/html": [
       "<div>\n",
       "<style scoped>\n",
       "    .dataframe tbody tr th:only-of-type {\n",
       "        vertical-align: middle;\n",
       "    }\n",
       "\n",
       "    .dataframe tbody tr th {\n",
       "        vertical-align: top;\n",
       "    }\n",
       "\n",
       "    .dataframe thead th {\n",
       "        text-align: right;\n",
       "    }\n",
       "</style>\n",
       "<table border=\"1\" class=\"dataframe\">\n",
       "  <thead>\n",
       "    <tr style=\"text-align: right;\">\n",
       "      <th></th>\n",
       "      <th>precision</th>\n",
       "      <th>recall</th>\n",
       "      <th>f1-score</th>\n",
       "      <th>support</th>\n",
       "    </tr>\n",
       "  </thead>\n",
       "  <tbody>\n",
       "    <tr>\n",
       "      <th>0</th>\n",
       "      <td>0.996917</td>\n",
       "      <td>0.989796</td>\n",
       "      <td>0.993344</td>\n",
       "      <td>980.0000</td>\n",
       "    </tr>\n",
       "    <tr>\n",
       "      <th>1</th>\n",
       "      <td>1.000000</td>\n",
       "      <td>0.982379</td>\n",
       "      <td>0.991111</td>\n",
       "      <td>1135.0000</td>\n",
       "    </tr>\n",
       "    <tr>\n",
       "      <th>2</th>\n",
       "      <td>0.956023</td>\n",
       "      <td>0.968992</td>\n",
       "      <td>0.962464</td>\n",
       "      <td>1032.0000</td>\n",
       "    </tr>\n",
       "    <tr>\n",
       "      <th>3</th>\n",
       "      <td>0.986288</td>\n",
       "      <td>0.997030</td>\n",
       "      <td>0.991630</td>\n",
       "      <td>1010.0000</td>\n",
       "    </tr>\n",
       "    <tr>\n",
       "      <th>4</th>\n",
       "      <td>0.982915</td>\n",
       "      <td>0.995927</td>\n",
       "      <td>0.989378</td>\n",
       "      <td>982.0000</td>\n",
       "    </tr>\n",
       "    <tr>\n",
       "      <th>5</th>\n",
       "      <td>0.952226</td>\n",
       "      <td>0.983184</td>\n",
       "      <td>0.967457</td>\n",
       "      <td>892.0000</td>\n",
       "    </tr>\n",
       "    <tr>\n",
       "      <th>6</th>\n",
       "      <td>0.993492</td>\n",
       "      <td>0.956159</td>\n",
       "      <td>0.974468</td>\n",
       "      <td>958.0000</td>\n",
       "    </tr>\n",
       "    <tr>\n",
       "      <th>7</th>\n",
       "      <td>0.980714</td>\n",
       "      <td>0.989300</td>\n",
       "      <td>0.984988</td>\n",
       "      <td>1028.0000</td>\n",
       "    </tr>\n",
       "    <tr>\n",
       "      <th>8</th>\n",
       "      <td>0.994840</td>\n",
       "      <td>0.989733</td>\n",
       "      <td>0.992280</td>\n",
       "      <td>974.0000</td>\n",
       "    </tr>\n",
       "    <tr>\n",
       "      <th>9</th>\n",
       "      <td>0.992008</td>\n",
       "      <td>0.984143</td>\n",
       "      <td>0.988060</td>\n",
       "      <td>1009.0000</td>\n",
       "    </tr>\n",
       "    <tr>\n",
       "      <th>accuracy</th>\n",
       "      <td>0.983700</td>\n",
       "      <td>0.983700</td>\n",
       "      <td>0.983700</td>\n",
       "      <td>0.9837</td>\n",
       "    </tr>\n",
       "    <tr>\n",
       "      <th>macro avg</th>\n",
       "      <td>0.983542</td>\n",
       "      <td>0.983664</td>\n",
       "      <td>0.983518</td>\n",
       "      <td>10000.0000</td>\n",
       "    </tr>\n",
       "    <tr>\n",
       "      <th>weighted avg</th>\n",
       "      <td>0.983920</td>\n",
       "      <td>0.983700</td>\n",
       "      <td>0.983728</td>\n",
       "      <td>10000.0000</td>\n",
       "    </tr>\n",
       "  </tbody>\n",
       "</table>\n",
       "</div>"
      ],
      "text/plain": [
       "              precision    recall  f1-score     support\n",
       "0              0.996917  0.989796  0.993344    980.0000\n",
       "1              1.000000  0.982379  0.991111   1135.0000\n",
       "2              0.956023  0.968992  0.962464   1032.0000\n",
       "3              0.986288  0.997030  0.991630   1010.0000\n",
       "4              0.982915  0.995927  0.989378    982.0000\n",
       "5              0.952226  0.983184  0.967457    892.0000\n",
       "6              0.993492  0.956159  0.974468    958.0000\n",
       "7              0.980714  0.989300  0.984988   1028.0000\n",
       "8              0.994840  0.989733  0.992280    974.0000\n",
       "9              0.992008  0.984143  0.988060   1009.0000\n",
       "accuracy       0.983700  0.983700  0.983700      0.9837\n",
       "macro avg      0.983542  0.983664  0.983518  10000.0000\n",
       "weighted avg   0.983920  0.983700  0.983728  10000.0000"
      ]
     },
     "execution_count": 44,
     "metadata": {},
     "output_type": "execute_result"
    }
   ],
   "source": [
    "df_report3 = pd.DataFrame(mnist_classification_report3).transpose()\n",
    "df_report3"
   ]
  },
  {
   "cell_type": "markdown",
   "id": "1d5a04ce",
   "metadata": {},
   "source": [
    "#### Observation(s)"
   ]
  },
  {
   "cell_type": "markdown",
   "id": "90e405f5",
   "metadata": {},
   "source": [
    "- The model's accuracy increased by 0.4% while the validation loss reduced by 10.7% with the introduction of Batch Normalization"
   ]
  },
  {
   "cell_type": "markdown",
   "id": "7012d20c",
   "metadata": {},
   "source": [
    "#### Investigating the performance of the model with different optimizers"
   ]
  },
  {
   "cell_type": "markdown",
   "id": "03ae92e9",
   "metadata": {},
   "source": [
    "- The following parameters will be kept constant : Learning_rate, Batch_size and Epochs"
   ]
  },
  {
   "cell_type": "code",
   "execution_count": 45,
   "id": "79318f77",
   "metadata": {},
   "outputs": [],
   "source": [
    "mnist_model4 = Sequential()\n",
    "mnist_model4.add(Conv2D(filters=32,kernel_size=(3,3),input_shape=(28,28,1),activation = 'relu',padding = 'same'))\n",
    "mnist_model4.add(MaxPooling2D(pool_size=(2,2)))\n",
    "mnist_model4.add(Conv2D(filters=64,kernel_size=(3,3),activation = 'relu'))\n",
    "mnist_model4.add(MaxPooling2D(pool_size=(2,2)))\n",
    "mnist_model4.add(Conv2D(filters=128,kernel_size=(3,3),activation = 'relu'))\n",
    "mnist_model4.add(MaxPooling2D(pool_size=(2,2)))\n",
    "mnist_model4.add(Flatten())\n",
    "mnist_model4.add(BatchNormalization())\n",
    "mnist_model4.add(Dense(128,activation = 'relu'))\n",
    "mnist_model4.add(Dropout(0.5))\n",
    "mnist_model4.add(Dense(10,activation = 'softmax'))\n",
    "#compiling the model\n",
    "mnist_model4.compile(optimizer=Adam(learning_rate=0.001), loss='categorical_crossentropy', metrics=['accuracy'])"
   ]
  },
  {
   "cell_type": "code",
   "execution_count": 46,
   "id": "cc5d3ce0",
   "metadata": {},
   "outputs": [
    {
     "name": "stdout",
     "output_type": "stream",
     "text": [
      "Epoch 1/23\n",
      "1875/1875 [==============================] - 31s 16ms/step - loss: 0.4424 - accuracy: 0.8581 - val_loss: 0.1921 - val_accuracy: 0.9482\n",
      "Epoch 2/23\n",
      "1875/1875 [==============================] - 28s 15ms/step - loss: 0.2203 - accuracy: 0.9320 - val_loss: 0.0620 - val_accuracy: 0.9799\n",
      "Epoch 3/23\n",
      "1875/1875 [==============================] - 29s 15ms/step - loss: 0.1867 - accuracy: 0.9444 - val_loss: 0.1264 - val_accuracy: 0.9658\n",
      "Epoch 4/23\n",
      "1875/1875 [==============================] - 29s 16ms/step - loss: 0.1668 - accuracy: 0.9492 - val_loss: 0.0695 - val_accuracy: 0.9796\n",
      "Epoch 5/23\n",
      "1875/1875 [==============================] - 28s 15ms/step - loss: 0.1496 - accuracy: 0.9544 - val_loss: 0.0623 - val_accuracy: 0.9826\n",
      "Epoch 6/23\n",
      "1875/1875 [==============================] - 28s 15ms/step - loss: 0.1448 - accuracy: 0.9565 - val_loss: 0.0638 - val_accuracy: 0.9804\n",
      "Epoch 7/23\n",
      "1875/1875 [==============================] - 28s 15ms/step - loss: 0.1379 - accuracy: 0.9590 - val_loss: 0.0832 - val_accuracy: 0.9758\n",
      "Epoch 8/23\n",
      "1875/1875 [==============================] - 29s 15ms/step - loss: 0.1331 - accuracy: 0.9620 - val_loss: 0.0817 - val_accuracy: 0.9762\n",
      "Epoch 9/23\n",
      "1875/1875 [==============================] - 29s 15ms/step - loss: 0.1293 - accuracy: 0.9626 - val_loss: 0.0664 - val_accuracy: 0.9807\n",
      "Epoch 10/23\n",
      "1875/1875 [==============================] - 29s 15ms/step - loss: 0.1254 - accuracy: 0.9631 - val_loss: 0.0593 - val_accuracy: 0.9834\n",
      "Epoch 11/23\n",
      "1875/1875 [==============================] - 30s 16ms/step - loss: 0.1231 - accuracy: 0.9645 - val_loss: 0.0388 - val_accuracy: 0.9872\n",
      "Epoch 12/23\n",
      "1875/1875 [==============================] - 28s 15ms/step - loss: 0.1185 - accuracy: 0.9658 - val_loss: 0.0464 - val_accuracy: 0.9869\n",
      "Epoch 13/23\n",
      "1875/1875 [==============================] - 28s 15ms/step - loss: 0.1133 - accuracy: 0.9672 - val_loss: 0.0431 - val_accuracy: 0.9871\n",
      "Epoch 14/23\n",
      "1875/1875 [==============================] - 29s 15ms/step - loss: 0.1112 - accuracy: 0.9674 - val_loss: 0.0433 - val_accuracy: 0.9873\n",
      "Epoch 15/23\n",
      "1875/1875 [==============================] - 29s 15ms/step - loss: 0.1112 - accuracy: 0.9673 - val_loss: 0.0384 - val_accuracy: 0.9880\n",
      "Epoch 16/23\n",
      "1875/1875 [==============================] - 29s 15ms/step - loss: 0.1067 - accuracy: 0.9689 - val_loss: 0.0518 - val_accuracy: 0.9851\n",
      "Epoch 17/23\n",
      "1875/1875 [==============================] - 28s 15ms/step - loss: 0.1077 - accuracy: 0.9676 - val_loss: 0.0404 - val_accuracy: 0.9892\n",
      "Epoch 18/23\n",
      "1875/1875 [==============================] - 11032s 6s/step - loss: 0.1016 - accuracy: 0.9705 - val_loss: 0.0425 - val_accuracy: 0.9879\n",
      "Epoch 19/23\n",
      "1875/1875 [==============================] - 52s 28ms/step - loss: 0.1009 - accuracy: 0.9707 - val_loss: 0.0353 - val_accuracy: 0.9891\n",
      "Epoch 20/23\n",
      "1875/1875 [==============================] - 32s 17ms/step - loss: 0.0994 - accuracy: 0.9710 - val_loss: 0.0423 - val_accuracy: 0.9887\n",
      "Epoch 21/23\n",
      "1875/1875 [==============================] - 27s 14ms/step - loss: 0.0981 - accuracy: 0.9713 - val_loss: 0.0382 - val_accuracy: 0.9880\n",
      "Epoch 22/23\n",
      "1875/1875 [==============================] - 26s 14ms/step - loss: 0.1000 - accuracy: 0.9703 - val_loss: 0.0426 - val_accuracy: 0.9876\n",
      "Epoch 23/23\n",
      "1875/1875 [==============================] - 24s 13ms/step - loss: 0.0969 - accuracy: 0.9708 - val_loss: 0.0416 - val_accuracy: 0.9878\n"
     ]
    }
   ],
   "source": [
    "#Training and evaluating the model\n",
    "history4=mnist_model4.fit(train_datagenerator.flow(x_train, keras.utils.to_categorical(y_train), batch_size=32),\n",
    "         epochs=23, validation_data=(x_test, keras.utils.to_categorical(y_test)))"
   ]
  },
  {
   "cell_type": "code",
   "execution_count": 47,
   "id": "32de11ba",
   "metadata": {},
   "outputs": [
    {
     "data": {
      "image/png": "[encoded data removed]",
      "text/plain": [
       "<Figure size 640x480 with 1 Axes>"
      ]
     },
     "metadata": {},
     "output_type": "display_data"
    }
   ],
   "source": [
    "## checking for overfitting\n",
    "\n",
    "# Plot training loss against validation loss\n",
    "\n",
    "#Plots the training loss as a line with label \"Training Loss\".\n",
    "plt.plot(history4.history['loss'], label='Training Loss')\n",
    "\n",
    "#Plots the validation loss as a line with label \"Validation Loss\".\n",
    "plt.plot(history4.history['val_loss'], label='Validation Loss')\n",
    "\n",
    "#Sets the title of the plot to \"Training and Validation Loss\".\n",
    "plt.title('Training and Validation Loss (With ADAM as optimizer)')\n",
    "\n",
    "#Sets the label of the x-axis to \"Epochs\".\n",
    "plt.xlabel('Epochs')\n",
    "\n",
    "#Sets the label of the y-axis to \"Loss\".\n",
    "plt.ylabel('Loss')\n",
    "\n",
    "#Shows the legend of the plot with the labels of the two lines.\n",
    "plt.legend()\n",
    "\n",
    "#Shows the plot on the screen.\n",
    "plt.show()"
   ]
  },
  {
   "cell_type": "code",
   "execution_count": 48,
   "id": "c6973214",
   "metadata": {},
   "outputs": [
    {
     "data": {
      "image/png": "[encoded data removed]",
      "text/plain": [
       "<Figure size 640x480 with 1 Axes>"
      ]
     },
     "metadata": {},
     "output_type": "display_data"
    }
   ],
   "source": [
    "# Plot training and validation accuracy\n",
    "\n",
    "#Plots the training accuracy as a line with label \"Training Accuracy\".\n",
    "plt.plot(history4.history['accuracy'], label='Training Accuracy')\n",
    "\n",
    "#Plots the validation accuracy as a line with label \"Validation Accuracy\".\n",
    "plt.plot(history4.history['val_accuracy'], label='Validation Accuracy')\n",
    "\n",
    "#Sets the title of the plot to \"Training and Validation Accuracy\".\n",
    "plt.title('Training and Validation Accuracy (With ADAM as optimizer)')\n",
    "\n",
    "#Sets the label of the x-axis to \"Epochs\".\n",
    "plt.xlabel('Epochs')\n",
    "\n",
    "#Sets the label of the y-axis to \"Accuracy\".\n",
    "plt.ylabel('Accuracy')\n",
    "\n",
    "#Shows the legend of the plot with the labels of the two lines.\n",
    "plt.legend()\n",
    "\n",
    "#Shows the plot on the screen.\n",
    "plt.show()"
   ]
  },
  {
   "cell_type": "code",
   "execution_count": 49,
   "id": "da4f067c",
   "metadata": {},
   "outputs": [
    {
     "name": "stdout",
     "output_type": "stream",
     "text": [
      "313/313 [==============================] - 1s 3ms/step\n"
     ]
    }
   ],
   "source": [
    "#make predictions\n",
    "y_pred4 = np.argmax(mnist_model4.predict(x_test), axis=-1)"
   ]
  },
  {
   "cell_type": "code",
   "execution_count": 50,
   "id": "665de6d7",
   "metadata": {},
   "outputs": [
    {
     "name": "stdout",
     "output_type": "stream",
     "text": [
      "              precision    recall  f1-score   support\n",
      "\n",
      "           0       0.99      0.99      0.99       980\n",
      "           1       1.00      0.99      0.99      1135\n",
      "           2       0.96      0.99      0.97      1032\n",
      "           3       1.00      0.99      0.99      1010\n",
      "           4       0.99      0.99      0.99       982\n",
      "           5       0.98      0.98      0.98       892\n",
      "           6       0.99      0.96      0.98       958\n",
      "           7       0.98      1.00      0.99      1028\n",
      "           8       1.00      0.99      0.99       974\n",
      "           9       0.99      0.99      0.99      1009\n",
      "\n",
      "    accuracy                           0.99     10000\n",
      "   macro avg       0.99      0.99      0.99     10000\n",
      "weighted avg       0.99      0.99      0.99     10000\n",
      "\n"
     ]
    }
   ],
   "source": [
    "#Visualize the result\n",
    "from sklearn.metrics import classification_report\n",
    "mnist_classification_report4 = classification_report(y_test, y_pred4,output_dict=True)\n",
    "\n",
    "print(classification_report(y_test, y_pred4))"
   ]
  },
  {
   "cell_type": "code",
   "execution_count": 51,
   "id": "af65fa46",
   "metadata": {},
   "outputs": [
    {
     "data": {
      "text/html": [
       "<div>\n",
       "<style scoped>\n",
       "    .dataframe tbody tr th:only-of-type {\n",
       "        vertical-align: middle;\n",
       "    }\n",
       "\n",
       "    .dataframe tbody tr th {\n",
       "        vertical-align: top;\n",
       "    }\n",
       "\n",
       "    .dataframe thead th {\n",
       "        text-align: right;\n",
       "    }\n",
       "</style>\n",
       "<table border=\"1\" class=\"dataframe\">\n",
       "  <thead>\n",
       "    <tr style=\"text-align: right;\">\n",
       "      <th></th>\n",
       "      <th>precision</th>\n",
       "      <th>recall</th>\n",
       "      <th>f1-score</th>\n",
       "      <th>support</th>\n",
       "    </tr>\n",
       "  </thead>\n",
       "  <tbody>\n",
       "    <tr>\n",
       "      <th>0</th>\n",
       "      <td>0.994893</td>\n",
       "      <td>0.993878</td>\n",
       "      <td>0.994385</td>\n",
       "      <td>980.0000</td>\n",
       "    </tr>\n",
       "    <tr>\n",
       "      <th>1</th>\n",
       "      <td>0.998225</td>\n",
       "      <td>0.991189</td>\n",
       "      <td>0.994695</td>\n",
       "      <td>1135.0000</td>\n",
       "    </tr>\n",
       "    <tr>\n",
       "      <th>2</th>\n",
       "      <td>0.963981</td>\n",
       "      <td>0.985465</td>\n",
       "      <td>0.974605</td>\n",
       "      <td>1032.0000</td>\n",
       "    </tr>\n",
       "    <tr>\n",
       "      <th>3</th>\n",
       "      <td>0.996028</td>\n",
       "      <td>0.993069</td>\n",
       "      <td>0.994546</td>\n",
       "      <td>1010.0000</td>\n",
       "    </tr>\n",
       "    <tr>\n",
       "      <th>4</th>\n",
       "      <td>0.988810</td>\n",
       "      <td>0.989817</td>\n",
       "      <td>0.989313</td>\n",
       "      <td>982.0000</td>\n",
       "    </tr>\n",
       "    <tr>\n",
       "      <th>5</th>\n",
       "      <td>0.982083</td>\n",
       "      <td>0.983184</td>\n",
       "      <td>0.982633</td>\n",
       "      <td>892.0000</td>\n",
       "    </tr>\n",
       "    <tr>\n",
       "      <th>6</th>\n",
       "      <td>0.990333</td>\n",
       "      <td>0.962422</td>\n",
       "      <td>0.976178</td>\n",
       "      <td>958.0000</td>\n",
       "    </tr>\n",
       "    <tr>\n",
       "      <th>7</th>\n",
       "      <td>0.977077</td>\n",
       "      <td>0.995136</td>\n",
       "      <td>0.986024</td>\n",
       "      <td>1028.0000</td>\n",
       "    </tr>\n",
       "    <tr>\n",
       "      <th>8</th>\n",
       "      <td>0.995885</td>\n",
       "      <td>0.993840</td>\n",
       "      <td>0.994861</td>\n",
       "      <td>974.0000</td>\n",
       "    </tr>\n",
       "    <tr>\n",
       "      <th>9</th>\n",
       "      <td>0.991054</td>\n",
       "      <td>0.988107</td>\n",
       "      <td>0.989578</td>\n",
       "      <td>1009.0000</td>\n",
       "    </tr>\n",
       "    <tr>\n",
       "      <th>accuracy</th>\n",
       "      <td>0.987800</td>\n",
       "      <td>0.987800</td>\n",
       "      <td>0.987800</td>\n",
       "      <td>0.9878</td>\n",
       "    </tr>\n",
       "    <tr>\n",
       "      <th>macro avg</th>\n",
       "      <td>0.987837</td>\n",
       "      <td>0.987611</td>\n",
       "      <td>0.987682</td>\n",
       "      <td>10000.0000</td>\n",
       "    </tr>\n",
       "    <tr>\n",
       "      <th>weighted avg</th>\n",
       "      <td>0.987897</td>\n",
       "      <td>0.987800</td>\n",
       "      <td>0.987806</td>\n",
       "      <td>10000.0000</td>\n",
       "    </tr>\n",
       "  </tbody>\n",
       "</table>\n",
       "</div>"
      ],
      "text/plain": [
       "              precision    recall  f1-score     support\n",
       "0              0.994893  0.993878  0.994385    980.0000\n",
       "1              0.998225  0.991189  0.994695   1135.0000\n",
       "2              0.963981  0.985465  0.974605   1032.0000\n",
       "3              0.996028  0.993069  0.994546   1010.0000\n",
       "4              0.988810  0.989817  0.989313    982.0000\n",
       "5              0.982083  0.983184  0.982633    892.0000\n",
       "6              0.990333  0.962422  0.976178    958.0000\n",
       "7              0.977077  0.995136  0.986024   1028.0000\n",
       "8              0.995885  0.993840  0.994861    974.0000\n",
       "9              0.991054  0.988107  0.989578   1009.0000\n",
       "accuracy       0.987800  0.987800  0.987800      0.9878\n",
       "macro avg      0.987837  0.987611  0.987682  10000.0000\n",
       "weighted avg   0.987897  0.987800  0.987806  10000.0000"
      ]
     },
     "execution_count": 51,
     "metadata": {},
     "output_type": "execute_result"
    }
   ],
   "source": [
    "df_report4 = pd.DataFrame(mnist_classification_report4).transpose()\n",
    "df_report4"
   ]
  },
  {
   "cell_type": "markdown",
   "id": "2bbff332",
   "metadata": {},
   "source": [
    "#### Observation(s)"
   ]
  },
  {
   "cell_type": "markdown",
   "id": "becd1e64",
   "metadata": {},
   "source": [
    "- The model's accuracy decreased by 0.24% using Adam as the Optimizer while the validation loss increased by 18.62% with     0.0484 being the least validation loss for the Adam optimizer as against 0.0408 for the SGD optimizer\n",
    "\n",
    "\n",
    "- There was instance of overfitting at the 3rd Epoch using Adam as the optimizer\n",
    "\n",
    "\n",
    "- SGD optimizer performed better than Adam optimizer"
   ]
  },
  {
   "cell_type": "code",
   "execution_count": 52,
   "id": "5def41e6",
   "metadata": {},
   "outputs": [],
   "source": [
    "#Using RMSProp as Optimizer\n",
    "mnist_model5 = Sequential()\n",
    "mnist_model5.add(Conv2D(filters=32,kernel_size=(3,3),input_shape=(28,28,1),activation = 'relu',padding = 'same'))\n",
    "mnist_model5.add(MaxPooling2D(pool_size=(2,2)))\n",
    "mnist_model5.add(Conv2D(filters=64,kernel_size=(3,3),activation = 'relu'))\n",
    "mnist_model5.add(MaxPooling2D(pool_size=(2,2)))\n",
    "mnist_model5.add(Conv2D(filters=128,kernel_size=(3,3),activation = 'relu'))\n",
    "mnist_model5.add(MaxPooling2D(pool_size=(2,2)))\n",
    "mnist_model5.add(Flatten())\n",
    "mnist_model5.add(BatchNormalization())\n",
    "mnist_model5.add(Dense(128,activation = 'relu'))\n",
    "mnist_model5.add(Dropout(0.5))\n",
    "mnist_model5.add(Dense(10,activation = 'softmax'))\n",
    "#compiling the model\n",
    "mnist_model5.compile(optimizer=RMSprop(learning_rate=0.001), loss='categorical_crossentropy', metrics=['accuracy'])"
   ]
  },
  {
   "cell_type": "code",
   "execution_count": 53,
   "id": "2a305016",
   "metadata": {},
   "outputs": [
    {
     "name": "stdout",
     "output_type": "stream",
     "text": [
      "Epoch 1/23\n",
      "1875/1875 [==============================] - 27s 13ms/step - loss: 0.4297 - accuracy: 0.8632 - val_loss: 0.1421 - val_accuracy: 0.9644\n",
      "Epoch 2/23\n",
      "1875/1875 [==============================] - 58s 31ms/step - loss: 0.2446 - accuracy: 0.9301 - val_loss: 0.4243 - val_accuracy: 0.9210\n",
      "Epoch 3/23\n",
      "1875/1875 [==============================] - 72s 38ms/step - loss: 0.2348 - accuracy: 0.9363 - val_loss: 0.3385 - val_accuracy: 0.9507\n",
      "Epoch 4/23\n",
      "1875/1875 [==============================] - 73s 39ms/step - loss: 0.2377 - accuracy: 0.9377 - val_loss: 0.1946 - val_accuracy: 0.9740\n",
      "Epoch 5/23\n",
      "1875/1875 [==============================] - 71s 38ms/step - loss: 0.2424 - accuracy: 0.9382 - val_loss: 0.2786 - val_accuracy: 0.9508\n",
      "Epoch 6/23\n",
      "1875/1875 [==============================] - 71s 38ms/step - loss: 0.2408 - accuracy: 0.9401 - val_loss: 0.2062 - val_accuracy: 0.9731\n",
      "Epoch 7/23\n",
      "1875/1875 [==============================] - 72s 38ms/step - loss: 0.2478 - accuracy: 0.9380 - val_loss: 0.4972 - val_accuracy: 0.9487\n",
      "Epoch 8/23\n",
      "1875/1875 [==============================] - 72s 38ms/step - loss: 0.2421 - accuracy: 0.9412 - val_loss: 0.1703 - val_accuracy: 0.9719\n",
      "Epoch 9/23\n",
      "1875/1875 [==============================] - 75s 40ms/step - loss: 0.2424 - accuracy: 0.9413 - val_loss: 0.1000 - val_accuracy: 0.9816\n",
      "Epoch 10/23\n",
      "1875/1875 [==============================] - 74s 39ms/step - loss: 0.2385 - accuracy: 0.9417 - val_loss: 0.1158 - val_accuracy: 0.9807\n",
      "Epoch 11/23\n",
      "1875/1875 [==============================] - 72s 39ms/step - loss: 0.2412 - accuracy: 0.9430 - val_loss: 0.2163 - val_accuracy: 0.9676\n",
      "Epoch 12/23\n",
      "1875/1875 [==============================] - 69s 37ms/step - loss: 0.2259 - accuracy: 0.9453 - val_loss: 0.1174 - val_accuracy: 0.9803\n",
      "Epoch 13/23\n",
      "1875/1875 [==============================] - 74s 40ms/step - loss: 0.2197 - accuracy: 0.9464 - val_loss: 0.1004 - val_accuracy: 0.9812\n",
      "Epoch 14/23\n",
      "1875/1875 [==============================] - 75s 40ms/step - loss: 0.2184 - accuracy: 0.9467 - val_loss: 0.1589 - val_accuracy: 0.9769\n",
      "Epoch 15/23\n",
      "1875/1875 [==============================] - 72s 38ms/step - loss: 0.2267 - accuracy: 0.9457 - val_loss: 0.1315 - val_accuracy: 0.9811\n",
      "Epoch 16/23\n",
      "1875/1875 [==============================] - 70s 37ms/step - loss: 0.2199 - accuracy: 0.9473 - val_loss: 0.0726 - val_accuracy: 0.9845\n",
      "Epoch 17/23\n",
      "1875/1875 [==============================] - 69s 37ms/step - loss: 0.2165 - accuracy: 0.9466 - val_loss: 0.1335 - val_accuracy: 0.9813\n",
      "Epoch 18/23\n",
      "1875/1875 [==============================] - 73s 39ms/step - loss: 0.2095 - accuracy: 0.9491 - val_loss: 0.0780 - val_accuracy: 0.9830\n",
      "Epoch 19/23\n",
      "1875/1875 [==============================] - 74s 39ms/step - loss: 0.2115 - accuracy: 0.9487 - val_loss: 0.0913 - val_accuracy: 0.9831\n",
      "Epoch 20/23\n",
      "1875/1875 [==============================] - 73s 39ms/step - loss: 0.2044 - accuracy: 0.9514 - val_loss: 0.1033 - val_accuracy: 0.9808\n",
      "Epoch 21/23\n",
      "1875/1875 [==============================] - 73s 39ms/step - loss: 0.2068 - accuracy: 0.9500 - val_loss: 0.0704 - val_accuracy: 0.9849\n",
      "Epoch 22/23\n",
      "1875/1875 [==============================] - 73s 39ms/step - loss: 0.2005 - accuracy: 0.9509 - val_loss: 0.1382 - val_accuracy: 0.9769\n",
      "Epoch 23/23\n",
      "1875/1875 [==============================] - 74s 39ms/step - loss: 0.1951 - accuracy: 0.9508 - val_loss: 0.0726 - val_accuracy: 0.9855\n"
     ]
    }
   ],
   "source": [
    "#Training and evaluating the model\n",
    "history5=mnist_model5.fit(train_datagenerator.flow(x_train, keras.utils.to_categorical(y_train), batch_size=32),\n",
    "         epochs=23, validation_data=(x_test, keras.utils.to_categorical(y_test)))"
   ]
  },
  {
   "cell_type": "code",
   "execution_count": 54,
   "id": "ba0d5e5c",
   "metadata": {},
   "outputs": [
    {
     "data": {
      "image/png": "[encoded data removed]",
      "text/plain": [
       "<Figure size 640x480 with 1 Axes>"
      ]
     },
     "metadata": {},
     "output_type": "display_data"
    }
   ],
   "source": [
    "## checking for overfitting\n",
    "\n",
    "# Plot training loss against validation loss\n",
    "\n",
    "#Plots the training loss as a line with label \"Training Loss\".\n",
    "plt.plot(history5.history['loss'], label='Training Loss')\n",
    "\n",
    "#Plots the validation loss as a line with label \"Validation Loss\".\n",
    "plt.plot(history5.history['val_loss'], label='Validation Loss')\n",
    "\n",
    "#Sets the title of the plot to \"Training and Validation Loss\".\n",
    "plt.title('Training and Validation Loss (With RMSprop as optimizer)')\n",
    "\n",
    "#Sets the label of the x-axis to \"Epochs\".\n",
    "plt.xlabel('Epochs')\n",
    "\n",
    "#Sets the label of the y-axis to \"Loss\".\n",
    "plt.ylabel('Loss')\n",
    "\n",
    "#Shows the legend of the plot with the labels of the two lines.\n",
    "plt.legend()\n",
    "\n",
    "#Shows the plot on the screen.\n",
    "plt.show()"
   ]
  },
  {
   "cell_type": "code",
   "execution_count": 55,
   "id": "84aa06b8",
   "metadata": {},
   "outputs": [
    {
     "data": {
      "image/png": "[encoded data removed]",
      "text/plain": [
       "<Figure size 640x480 with 1 Axes>"
      ]
     },
     "metadata": {},
     "output_type": "display_data"
    }
   ],
   "source": [
    "# Plot training and validation accuracy\n",
    "\n",
    "#Plots the training accuracy as a line with label \"Training Accuracy\".\n",
    "plt.plot(history5.history['accuracy'], label='Training Accuracy')\n",
    "\n",
    "#Plots the validation accuracy as a line with label \"Validation Accuracy\".\n",
    "plt.plot(history5.history['val_accuracy'], label='Validation Accuracy')\n",
    "\n",
    "#Sets the title of the plot to \"Training and Validation Accuracy\".\n",
    "plt.title('Training and Validation Accuracy (With RMSprop as optimizer)')\n",
    "\n",
    "#Sets the label of the x-axis to \"Epochs\".\n",
    "plt.xlabel('Epochs')\n",
    "\n",
    "#Sets the label of the y-axis to \"Accuracy\".\n",
    "plt.ylabel('Accuracy')\n",
    "\n",
    "#Shows the legend of the plot with the labels of the two lines.\n",
    "plt.legend()\n",
    "\n",
    "#Shows the plot on the screen.\n",
    "plt.show()"
   ]
  },
  {
   "cell_type": "code",
   "execution_count": 56,
   "id": "08fb7314",
   "metadata": {},
   "outputs": [
    {
     "name": "stdout",
     "output_type": "stream",
     "text": [
      "313/313 [==============================] - 2s 6ms/step\n"
     ]
    }
   ],
   "source": [
    "#make predictions\n",
    "y_pred5 = np.argmax(mnist_model5.predict(x_test), axis=-1)"
   ]
  },
  {
   "cell_type": "code",
   "execution_count": 57,
   "id": "d3c0b211",
   "metadata": {},
   "outputs": [
    {
     "name": "stdout",
     "output_type": "stream",
     "text": [
      "              precision    recall  f1-score   support\n",
      "\n",
      "           0       1.00      0.99      0.99       980\n",
      "           1       1.00      0.99      0.99      1135\n",
      "           2       0.97      0.97      0.97      1032\n",
      "           3       1.00      0.99      0.99      1010\n",
      "           4       0.98      0.99      0.99       982\n",
      "           5       0.95      0.99      0.97       892\n",
      "           6       0.99      0.97      0.98       958\n",
      "           7       0.99      0.98      0.99      1028\n",
      "           8       0.99      0.99      0.99       974\n",
      "           9       0.98      0.99      0.99      1009\n",
      "\n",
      "    accuracy                           0.99     10000\n",
      "   macro avg       0.99      0.99      0.99     10000\n",
      "weighted avg       0.99      0.99      0.99     10000\n",
      "\n"
     ]
    }
   ],
   "source": [
    "#Visualize the result\n",
    "from sklearn.metrics import classification_report\n",
    "mnist_classification_report5 = classification_report(y_test, y_pred5,output_dict=True)\n",
    "\n",
    "print(classification_report(y_test, y_pred5))"
   ]
  },
  {
   "cell_type": "code",
   "execution_count": 58,
   "id": "c18684a0",
   "metadata": {},
   "outputs": [
    {
     "data": {
      "text/html": [
       "<div>\n",
       "<style scoped>\n",
       "    .dataframe tbody tr th:only-of-type {\n",
       "        vertical-align: middle;\n",
       "    }\n",
       "\n",
       "    .dataframe tbody tr th {\n",
       "        vertical-align: top;\n",
       "    }\n",
       "\n",
       "    .dataframe thead th {\n",
       "        text-align: right;\n",
       "    }\n",
       "</style>\n",
       "<table border=\"1\" class=\"dataframe\">\n",
       "  <thead>\n",
       "    <tr style=\"text-align: right;\">\n",
       "      <th></th>\n",
       "      <th>precision</th>\n",
       "      <th>recall</th>\n",
       "      <th>f1-score</th>\n",
       "      <th>support</th>\n",
       "    </tr>\n",
       "  </thead>\n",
       "  <tbody>\n",
       "    <tr>\n",
       "      <th>0</th>\n",
       "      <td>0.998968</td>\n",
       "      <td>0.987755</td>\n",
       "      <td>0.993330</td>\n",
       "      <td>980.0000</td>\n",
       "    </tr>\n",
       "    <tr>\n",
       "      <th>1</th>\n",
       "      <td>0.996448</td>\n",
       "      <td>0.988546</td>\n",
       "      <td>0.992481</td>\n",
       "      <td>1135.0000</td>\n",
       "    </tr>\n",
       "    <tr>\n",
       "      <th>2</th>\n",
       "      <td>0.967308</td>\n",
       "      <td>0.974806</td>\n",
       "      <td>0.971042</td>\n",
       "      <td>1032.0000</td>\n",
       "    </tr>\n",
       "    <tr>\n",
       "      <th>3</th>\n",
       "      <td>0.995020</td>\n",
       "      <td>0.989109</td>\n",
       "      <td>0.992056</td>\n",
       "      <td>1010.0000</td>\n",
       "    </tr>\n",
       "    <tr>\n",
       "      <th>4</th>\n",
       "      <td>0.983855</td>\n",
       "      <td>0.992872</td>\n",
       "      <td>0.988343</td>\n",
       "      <td>982.0000</td>\n",
       "    </tr>\n",
       "    <tr>\n",
       "      <th>5</th>\n",
       "      <td>0.954397</td>\n",
       "      <td>0.985426</td>\n",
       "      <td>0.969664</td>\n",
       "      <td>892.0000</td>\n",
       "    </tr>\n",
       "    <tr>\n",
       "      <th>6</th>\n",
       "      <td>0.987302</td>\n",
       "      <td>0.973904</td>\n",
       "      <td>0.980557</td>\n",
       "      <td>958.0000</td>\n",
       "    </tr>\n",
       "    <tr>\n",
       "      <th>7</th>\n",
       "      <td>0.993097</td>\n",
       "      <td>0.979572</td>\n",
       "      <td>0.986288</td>\n",
       "      <td>1028.0000</td>\n",
       "    </tr>\n",
       "    <tr>\n",
       "      <th>8</th>\n",
       "      <td>0.994835</td>\n",
       "      <td>0.988706</td>\n",
       "      <td>0.991761</td>\n",
       "      <td>974.0000</td>\n",
       "    </tr>\n",
       "    <tr>\n",
       "      <th>9</th>\n",
       "      <td>0.981409</td>\n",
       "      <td>0.994054</td>\n",
       "      <td>0.987691</td>\n",
       "      <td>1009.0000</td>\n",
       "    </tr>\n",
       "    <tr>\n",
       "      <th>accuracy</th>\n",
       "      <td>0.985500</td>\n",
       "      <td>0.985500</td>\n",
       "      <td>0.985500</td>\n",
       "      <td>0.9855</td>\n",
       "    </tr>\n",
       "    <tr>\n",
       "      <th>macro avg</th>\n",
       "      <td>0.985264</td>\n",
       "      <td>0.985475</td>\n",
       "      <td>0.985321</td>\n",
       "      <td>10000.0000</td>\n",
       "    </tr>\n",
       "    <tr>\n",
       "      <th>weighted avg</th>\n",
       "      <td>0.985661</td>\n",
       "      <td>0.985500</td>\n",
       "      <td>0.985535</td>\n",
       "      <td>10000.0000</td>\n",
       "    </tr>\n",
       "  </tbody>\n",
       "</table>\n",
       "</div>"
      ],
      "text/plain": [
       "              precision    recall  f1-score     support\n",
       "0              0.998968  0.987755  0.993330    980.0000\n",
       "1              0.996448  0.988546  0.992481   1135.0000\n",
       "2              0.967308  0.974806  0.971042   1032.0000\n",
       "3              0.995020  0.989109  0.992056   1010.0000\n",
       "4              0.983855  0.992872  0.988343    982.0000\n",
       "5              0.954397  0.985426  0.969664    892.0000\n",
       "6              0.987302  0.973904  0.980557    958.0000\n",
       "7              0.993097  0.979572  0.986288   1028.0000\n",
       "8              0.994835  0.988706  0.991761    974.0000\n",
       "9              0.981409  0.994054  0.987691   1009.0000\n",
       "accuracy       0.985500  0.985500  0.985500      0.9855\n",
       "macro avg      0.985264  0.985475  0.985321  10000.0000\n",
       "weighted avg   0.985661  0.985500  0.985535  10000.0000"
      ]
     },
     "execution_count": 58,
     "metadata": {},
     "output_type": "execute_result"
    }
   ],
   "source": [
    "df_report5 = pd.DataFrame(mnist_classification_report5).transpose()\n",
    "df_report5"
   ]
  },
  {
   "cell_type": "markdown",
   "id": "c143d03e",
   "metadata": {},
   "source": [
    "#### Observation(s)"
   ]
  },
  {
   "cell_type": "markdown",
   "id": "799d6476",
   "metadata": {},
   "source": [
    "- The model's accuracy decreased by 0.32% using RMSprop as the Optimizer while the validation loss increased by 113.23% with 0.0870 being the least validation loss for the RMSprop optimizer as against 0.0408 for the SGD optimizer\n",
    "\n",
    "\n",
    "- There were instances of overfitting at the 2nd and 3rd Epoch using RMSprop as the optimizer\n",
    "\n",
    "\n",
    "- SGD optimizer performed better than RMSprop"
   ]
  },
  {
   "cell_type": "markdown",
   "id": "6c27931a",
   "metadata": {},
   "source": [
    "# Question(b)"
   ]
  },
  {
   "cell_type": "markdown",
   "id": "d9c29b13",
   "metadata": {},
   "source": [
    "**Report how changes to the number of convolution blocks affect the performance ofyour model quantitatively?**"
   ]
  },
  {
   "cell_type": "code",
   "execution_count": 59,
   "id": "7828b874",
   "metadata": {},
   "outputs": [],
   "source": [
    "#Increaing the convolution blocks from 3 to 4 with epochs,learning rate, batchsize, optimizer kept constant\n",
    "mnist_model6 = Sequential()\n",
    "mnist_model6.add(Conv2D(filters=32,kernel_size=(3,3),input_shape=(28,28,1),activation = 'relu',padding = 'same'))\n",
    "mnist_model6.add(MaxPooling2D(pool_size=(2,2)))\n",
    "mnist_model6.add(Conv2D(filters=64,kernel_size=(3,3),activation = 'relu'))\n",
    "mnist_model6.add(MaxPooling2D(pool_size=(2,2)))\n",
    "mnist_model6.add(Conv2D(filters=128,kernel_size=(3,3),activation = 'relu'))\n",
    "mnist_model6.add(MaxPooling2D(pool_size=(2,2)))\n",
    "mnist_model6.add(ZeroPadding2D(padding=((1, 1), (1, 1)))) # Add padding layer to resolve Negative dimension size error\n",
    "mnist_model6.add(Conv2D(filters=256,kernel_size=(3,3),activation = 'relu'))\n",
    "mnist_model6.add(MaxPooling2D(pool_size=(2,2)))\n",
    "mnist_model6.add(Flatten())\n",
    "mnist_model6.add(BatchNormalization())\n",
    "mnist_model6.add(Dense(128,activation = 'relu'))\n",
    "mnist_model6.add(Dropout(0.5))\n",
    "mnist_model6.add(Dense(10,activation = 'softmax'))\n",
    "#compiling the model\n",
    "mnist_model6.compile(optimizer=SGD(learning_rate=0.001, momentum=0.9), loss='categorical_crossentropy', metrics=['accuracy'])"
   ]
  },
  {
   "cell_type": "code",
   "execution_count": 60,
   "id": "4dc40b07",
   "metadata": {},
   "outputs": [
    {
     "name": "stdout",
     "output_type": "stream",
     "text": [
      "Epoch 1/23\n",
      "1875/1875 [==============================] - 77s 39ms/step - loss: 0.6731 - accuracy: 0.7807 - val_loss: 0.2972 - val_accuracy: 0.9035\n",
      "Epoch 2/23\n",
      "1875/1875 [==============================] - 73s 39ms/step - loss: 0.3024 - accuracy: 0.9063 - val_loss: 0.0887 - val_accuracy: 0.9699\n",
      "Epoch 3/23\n",
      "1875/1875 [==============================] - 72s 39ms/step - loss: 0.2245 - accuracy: 0.9308 - val_loss: 0.0835 - val_accuracy: 0.9732\n",
      "Epoch 4/23\n",
      "1875/1875 [==============================] - 69s 37ms/step - loss: 0.1890 - accuracy: 0.9435 - val_loss: 0.0644 - val_accuracy: 0.9797\n",
      "Epoch 5/23\n",
      "1875/1875 [==============================] - 69s 37ms/step - loss: 0.1659 - accuracy: 0.9502 - val_loss: 0.0544 - val_accuracy: 0.9821\n",
      "Epoch 6/23\n",
      "1875/1875 [==============================] - 72s 39ms/step - loss: 0.1542 - accuracy: 0.9536 - val_loss: 0.0960 - val_accuracy: 0.9712\n",
      "Epoch 7/23\n",
      "1875/1875 [==============================] - 73s 39ms/step - loss: 0.1346 - accuracy: 0.9589 - val_loss: 0.0470 - val_accuracy: 0.9850\n",
      "Epoch 8/23\n",
      "1875/1875 [==============================] - 71s 38ms/step - loss: 0.1285 - accuracy: 0.9610 - val_loss: 0.0640 - val_accuracy: 0.9798\n",
      "Epoch 9/23\n",
      "1875/1875 [==============================] - 69s 37ms/step - loss: 0.1204 - accuracy: 0.9633 - val_loss: 0.0639 - val_accuracy: 0.9801\n",
      "Epoch 10/23\n",
      "1875/1875 [==============================] - 69s 37ms/step - loss: 0.1124 - accuracy: 0.9658 - val_loss: 0.0485 - val_accuracy: 0.9841\n",
      "Epoch 11/23\n",
      "1875/1875 [==============================] - 69s 37ms/step - loss: 0.1068 - accuracy: 0.9676 - val_loss: 0.0402 - val_accuracy: 0.9875\n",
      "Epoch 12/23\n",
      "1875/1875 [==============================] - 72s 38ms/step - loss: 0.1057 - accuracy: 0.9685 - val_loss: 0.0368 - val_accuracy: 0.9887\n",
      "Epoch 13/23\n",
      "1875/1875 [==============================] - 72s 38ms/step - loss: 0.1010 - accuracy: 0.9692 - val_loss: 0.0596 - val_accuracy: 0.9808\n",
      "Epoch 14/23\n",
      "1875/1875 [==============================] - 2339s 1s/step - loss: 0.0977 - accuracy: 0.9707 - val_loss: 0.0611 - val_accuracy: 0.9814\n",
      "Epoch 15/23\n",
      "1875/1875 [==============================] - 51s 27ms/step - loss: 0.0896 - accuracy: 0.9731 - val_loss: 0.0410 - val_accuracy: 0.9886\n",
      "Epoch 16/23\n",
      "1875/1875 [==============================] - 71s 38ms/step - loss: 0.0890 - accuracy: 0.9732 - val_loss: 0.0430 - val_accuracy: 0.9868\n",
      "Epoch 17/23\n",
      "1875/1875 [==============================] - 67s 36ms/step - loss: 0.0885 - accuracy: 0.9732 - val_loss: 0.0434 - val_accuracy: 0.9867\n",
      "Epoch 18/23\n",
      "1875/1875 [==============================] - 27s 15ms/step - loss: 0.0861 - accuracy: 0.9735 - val_loss: 0.0481 - val_accuracy: 0.9855\n",
      "Epoch 19/23\n",
      "1875/1875 [==============================] - 26s 14ms/step - loss: 0.0831 - accuracy: 0.9750 - val_loss: 0.0422 - val_accuracy: 0.9881\n",
      "Epoch 20/23\n",
      "1875/1875 [==============================] - 26s 14ms/step - loss: 0.0803 - accuracy: 0.9751 - val_loss: 0.0397 - val_accuracy: 0.9889\n",
      "Epoch 21/23\n",
      "1875/1875 [==============================] - 26s 14ms/step - loss: 0.0785 - accuracy: 0.9759 - val_loss: 0.0401 - val_accuracy: 0.9883\n",
      "Epoch 22/23\n",
      "1875/1875 [==============================] - 25s 13ms/step - loss: 0.0786 - accuracy: 0.9767 - val_loss: 0.0379 - val_accuracy: 0.9883\n",
      "Epoch 23/23\n",
      "1875/1875 [==============================] - 26s 14ms/step - loss: 0.0780 - accuracy: 0.9771 - val_loss: 0.0440 - val_accuracy: 0.9866\n"
     ]
    }
   ],
   "source": [
    "#Training and evaluating the model\n",
    "history6=mnist_model6.fit(train_datagenerator.flow(x_train, keras.utils.to_categorical(y_train), batch_size=32),\n",
    "         epochs=23, validation_data=(x_test, keras.utils.to_categorical(y_test)))"
   ]
  },
  {
   "cell_type": "code",
   "execution_count": 61,
   "id": "a299b659",
   "metadata": {},
   "outputs": [
    {
     "data": {
      "image/png": "[encoded data removed]",
      "text/plain": [
       "<Figure size 640x480 with 1 Axes>"
      ]
     },
     "metadata": {},
     "output_type": "display_data"
    }
   ],
   "source": [
    "## checking for overfitting\n",
    "\n",
    "# Plot training loss against validation loss\n",
    "\n",
    "#Plots the training loss as a line with label \"Training Loss\".\n",
    "plt.plot(history6.history['loss'], label='Training Loss')\n",
    "\n",
    "#Plots the validation loss as a line with label \"Validation Loss\".\n",
    "plt.plot(history6.history['val_loss'], label='Validation Loss')\n",
    "\n",
    "#Sets the title of the plot to \"Training and Validation Loss\".\n",
    "plt.title('Training and Validation Loss (With 4 convolution blocks)')\n",
    "\n",
    "#Sets the label of the x-axis to \"Epochs\".\n",
    "plt.xlabel('Epochs')\n",
    "\n",
    "#Sets the label of the y-axis to \"Loss\".\n",
    "plt.ylabel('Loss')\n",
    "\n",
    "#Shows the legend of the plot with the labels of the two lines.\n",
    "plt.legend()\n",
    "\n",
    "#Shows the plot on the screen.\n",
    "plt.show()"
   ]
  },
  {
   "cell_type": "code",
   "execution_count": 62,
   "id": "31b2a7b0",
   "metadata": {},
   "outputs": [
    {
     "data": {
      "image/png": "[encoded data removed]",
      "text/plain": [
       "<Figure size 640x480 with 1 Axes>"
      ]
     },
     "metadata": {},
     "output_type": "display_data"
    }
   ],
   "source": [
    "# Plot training and validation accuracy\n",
    "\n",
    "#Plots the training accuracy as a line with label \"Training Accuracy\".\n",
    "plt.plot(history6.history['accuracy'], label='Training Accuracy')\n",
    "\n",
    "#Plots the validation accuracy as a line with label \"Validation Accuracy\".\n",
    "plt.plot(history6.history['val_accuracy'], label='Validation Accuracy')\n",
    "\n",
    "#Sets the title of the plot to \"Training and Validation Accuracy\".\n",
    "plt.title('Training and Validation Accuracy (With 4 convolution blocks)')\n",
    "\n",
    "#Sets the label of the x-axis to \"Epochs\".\n",
    "plt.xlabel('Epochs')\n",
    "\n",
    "#Sets the label of the y-axis to \"Accuracy\".\n",
    "plt.ylabel('Accuracy')\n",
    "\n",
    "#Shows the legend of the plot with the labels of the two lines.\n",
    "plt.legend()\n",
    "\n",
    "#Shows the plot on the screen.\n",
    "plt.show()"
   ]
  },
  {
   "cell_type": "code",
   "execution_count": 63,
   "id": "f42e8d3d",
   "metadata": {},
   "outputs": [
    {
     "name": "stdout",
     "output_type": "stream",
     "text": [
      "313/313 [==============================] - 1s 3ms/step\n"
     ]
    }
   ],
   "source": [
    "#make predictions\n",
    "y_pred6 = np.argmax(mnist_model6.predict(x_test), axis=-1)"
   ]
  },
  {
   "cell_type": "code",
   "execution_count": 64,
   "id": "ad58b41d",
   "metadata": {},
   "outputs": [
    {
     "name": "stdout",
     "output_type": "stream",
     "text": [
      "              precision    recall  f1-score   support\n",
      "\n",
      "           0       1.00      0.99      0.99       980\n",
      "           1       1.00      0.99      0.99      1135\n",
      "           2       0.97      0.98      0.97      1032\n",
      "           3       0.99      1.00      0.99      1010\n",
      "           4       0.98      1.00      0.99       982\n",
      "           5       0.97      0.98      0.97       892\n",
      "           6       0.99      0.97      0.98       958\n",
      "           7       0.98      0.99      0.99      1028\n",
      "           8       0.99      1.00      1.00       974\n",
      "           9       1.00      0.98      0.99      1009\n",
      "\n",
      "    accuracy                           0.99     10000\n",
      "   macro avg       0.99      0.99      0.99     10000\n",
      "weighted avg       0.99      0.99      0.99     10000\n",
      "\n"
     ]
    }
   ],
   "source": [
    "#Visualize the result\n",
    "from sklearn.metrics import classification_report\n",
    "mnist_classification_report6 = classification_report(y_test, y_pred6,output_dict=True)\n",
    "\n",
    "print(classification_report(y_test, y_pred6))"
   ]
  },
  {
   "cell_type": "code",
   "execution_count": 65,
   "id": "17ab262f",
   "metadata": {},
   "outputs": [
    {
     "data": {
      "text/html": [
       "<div>\n",
       "<style scoped>\n",
       "    .dataframe tbody tr th:only-of-type {\n",
       "        vertical-align: middle;\n",
       "    }\n",
       "\n",
       "    .dataframe tbody tr th {\n",
       "        vertical-align: top;\n",
       "    }\n",
       "\n",
       "    .dataframe thead th {\n",
       "        text-align: right;\n",
       "    }\n",
       "</style>\n",
       "<table border=\"1\" class=\"dataframe\">\n",
       "  <thead>\n",
       "    <tr style=\"text-align: right;\">\n",
       "      <th></th>\n",
       "      <th>precision</th>\n",
       "      <th>recall</th>\n",
       "      <th>f1-score</th>\n",
       "      <th>support</th>\n",
       "    </tr>\n",
       "  </thead>\n",
       "  <tbody>\n",
       "    <tr>\n",
       "      <th>0</th>\n",
       "      <td>0.997945</td>\n",
       "      <td>0.990816</td>\n",
       "      <td>0.994368</td>\n",
       "      <td>980.0000</td>\n",
       "    </tr>\n",
       "    <tr>\n",
       "      <th>1</th>\n",
       "      <td>0.998222</td>\n",
       "      <td>0.989427</td>\n",
       "      <td>0.993805</td>\n",
       "      <td>1135.0000</td>\n",
       "    </tr>\n",
       "    <tr>\n",
       "      <th>2</th>\n",
       "      <td>0.965550</td>\n",
       "      <td>0.977713</td>\n",
       "      <td>0.971594</td>\n",
       "      <td>1032.0000</td>\n",
       "    </tr>\n",
       "    <tr>\n",
       "      <th>3</th>\n",
       "      <td>0.990186</td>\n",
       "      <td>0.999010</td>\n",
       "      <td>0.994579</td>\n",
       "      <td>1010.0000</td>\n",
       "    </tr>\n",
       "    <tr>\n",
       "      <th>4</th>\n",
       "      <td>0.975174</td>\n",
       "      <td>1.000000</td>\n",
       "      <td>0.987431</td>\n",
       "      <td>982.0000</td>\n",
       "    </tr>\n",
       "    <tr>\n",
       "      <th>5</th>\n",
       "      <td>0.969900</td>\n",
       "      <td>0.975336</td>\n",
       "      <td>0.972610</td>\n",
       "      <td>892.0000</td>\n",
       "    </tr>\n",
       "    <tr>\n",
       "      <th>6</th>\n",
       "      <td>0.991453</td>\n",
       "      <td>0.968685</td>\n",
       "      <td>0.979937</td>\n",
       "      <td>958.0000</td>\n",
       "    </tr>\n",
       "    <tr>\n",
       "      <th>7</th>\n",
       "      <td>0.983591</td>\n",
       "      <td>0.991245</td>\n",
       "      <td>0.987403</td>\n",
       "      <td>1028.0000</td>\n",
       "    </tr>\n",
       "    <tr>\n",
       "      <th>8</th>\n",
       "      <td>0.993859</td>\n",
       "      <td>0.996920</td>\n",
       "      <td>0.995387</td>\n",
       "      <td>974.0000</td>\n",
       "    </tr>\n",
       "    <tr>\n",
       "      <th>9</th>\n",
       "      <td>0.998985</td>\n",
       "      <td>0.975223</td>\n",
       "      <td>0.986961</td>\n",
       "      <td>1009.0000</td>\n",
       "    </tr>\n",
       "    <tr>\n",
       "      <th>accuracy</th>\n",
       "      <td>0.986600</td>\n",
       "      <td>0.986600</td>\n",
       "      <td>0.986600</td>\n",
       "      <td>0.9866</td>\n",
       "    </tr>\n",
       "    <tr>\n",
       "      <th>macro avg</th>\n",
       "      <td>0.986486</td>\n",
       "      <td>0.986438</td>\n",
       "      <td>0.986407</td>\n",
       "      <td>10000.0000</td>\n",
       "    </tr>\n",
       "    <tr>\n",
       "      <th>weighted avg</th>\n",
       "      <td>0.986721</td>\n",
       "      <td>0.986600</td>\n",
       "      <td>0.986606</td>\n",
       "      <td>10000.0000</td>\n",
       "    </tr>\n",
       "  </tbody>\n",
       "</table>\n",
       "</div>"
      ],
      "text/plain": [
       "              precision    recall  f1-score     support\n",
       "0              0.997945  0.990816  0.994368    980.0000\n",
       "1              0.998222  0.989427  0.993805   1135.0000\n",
       "2              0.965550  0.977713  0.971594   1032.0000\n",
       "3              0.990186  0.999010  0.994579   1010.0000\n",
       "4              0.975174  1.000000  0.987431    982.0000\n",
       "5              0.969900  0.975336  0.972610    892.0000\n",
       "6              0.991453  0.968685  0.979937    958.0000\n",
       "7              0.983591  0.991245  0.987403   1028.0000\n",
       "8              0.993859  0.996920  0.995387    974.0000\n",
       "9              0.998985  0.975223  0.986961   1009.0000\n",
       "accuracy       0.986600  0.986600  0.986600      0.9866\n",
       "macro avg      0.986486  0.986438  0.986407  10000.0000\n",
       "weighted avg   0.986721  0.986600  0.986606  10000.0000"
      ]
     },
     "execution_count": 65,
     "metadata": {},
     "output_type": "execute_result"
    }
   ],
   "source": [
    "df_report6 = pd.DataFrame(mnist_classification_report6).transpose()\n",
    "df_report6"
   ]
  },
  {
   "cell_type": "markdown",
   "id": "386c7ee0",
   "metadata": {},
   "source": [
    "#### Observation(s)"
   ]
  },
  {
   "cell_type": "markdown",
   "id": "e1be80ad",
   "metadata": {},
   "source": [
    "- The model's accuracy remained the same despite an increase in the number of convolution blocks, while the validation loss decreased by 5.39% from 0.0408 to 0.0386. However, considering the time it took to train the model and the weighted average accuracy which is higher in the model with three (3) convolution blocks, the model with 3 convolution blocks is a more optimal option "
   ]
  },
  {
   "cell_type": "markdown",
   "id": "8a633e8a",
   "metadata": {},
   "source": [
    "# Question(c)"
   ]
  },
  {
   "cell_type": "markdown",
   "id": "822da974",
   "metadata": {},
   "source": [
    "**What is the effect of varying learning rates on the performance of the CNN algorithm?**"
   ]
  },
  {
   "cell_type": "code",
   "execution_count": 66,
   "id": "2b2de6f3",
   "metadata": {},
   "outputs": [],
   "source": [
    "# We would try to find the learning rate that yields the best performance on a validation setusing keras \n",
    "#tuner hyperparameter tuning"
   ]
  },
  {
   "cell_type": "code",
   "execution_count": 67,
   "id": "bac4eb43",
   "metadata": {},
   "outputs": [],
   "source": [
    "!pip install keras-tuner -q"
   ]
  },
  {
   "cell_type": "code",
   "execution_count": 68,
   "id": "d6f85e53",
   "metadata": {},
   "outputs": [],
   "source": [
    "#importing needed libraries\n",
    "from tensorflow.keras import layers\n",
    "from keras_tuner.tuners import RandomSearch"
   ]
  },
  {
   "cell_type": "code",
   "execution_count": 69,
   "id": "3b494cc2",
   "metadata": {},
   "outputs": [],
   "source": [
    "def build_cnn_model(hp):\n",
    "    model = keras.Sequential()\n",
    "    model.add(Conv2D(filters=32,kernel_size=(3,3),input_shape=(28,28,1),activation = 'relu',padding = 'same'))\n",
    "    model.add(MaxPooling2D(pool_size=(2,2)))\n",
    "    model.add(Conv2D(filters=64,kernel_size=(3,3),activation = 'relu'))\n",
    "    model.add(MaxPooling2D(pool_size=(2,2)))\n",
    "    model.add(Conv2D(filters=128,kernel_size=(3,3),activation = 'relu'))\n",
    "    model.add(Flatten())\n",
    "    model.add(BatchNormalization())\n",
    "    model.add(layers.Dense(128,activation = 'relu'))\n",
    "    model.add(Dropout(0.5))\n",
    "    model.add(layers.Dense(10, activation=\"softmax\"))\n",
    "    model.compile(optimizer=keras.optimizers.SGD\n",
    "                  (hp.Choice('learning_rate', [0.01,0.005,0.0025,0.00125,0.001844]),momentum=0.9),\n",
    "                  loss='categorical_crossentropy',metrics=['accuracy'])\n",
    "    return model"
   ]
  },
  {
   "cell_type": "code",
   "execution_count": 70,
   "id": "b8a074d7",
   "metadata": {},
   "outputs": [],
   "source": [
    "tuner = RandomSearch(\n",
    "    build_cnn_model, #The function containing the built model\n",
    "    objective=\"val_accuracy\",  #The name of the objective to optimize\n",
    "    max_trials=5, #The total number of trials to run during the search\n",
    "    executions_per_trial=1, #The number of models that should be built and fit for each trial\n",
    "    overwrite=True, #Decide whether to overwrite the previous results in the same directory or resume the previous search instead\n",
    "    directory=\"my_dir\",   #A path to a directory for storing the search results\n",
    "    project_name=\"cnn_mints_classification\"   #The name of the sub-directory in the directory.\n",
    ")"
   ]
  },
  {
   "cell_type": "code",
   "execution_count": 71,
   "id": "69df0fce",
   "metadata": {},
   "outputs": [
    {
     "name": "stdout",
     "output_type": "stream",
     "text": [
      "Search space summary\n",
      "Default search space size: 1\n",
      "learning_rate (Choice)\n",
      "{'default': 0.01, 'conditions': [], 'values': [0.01, 0.005, 0.0025, 0.00125, 0.001844], 'ordered': True}\n"
     ]
    }
   ],
   "source": [
    "#printing a summary of the search space\n",
    "tuner.search_space_summary()"
   ]
  },
  {
   "cell_type": "code",
   "execution_count": 72,
   "id": "dc346c41",
   "metadata": {},
   "outputs": [
    {
     "name": "stdout",
     "output_type": "stream",
     "text": [
      "Trial 5 Complete [00h 11m 29s]\n",
      "val_accuracy: 0.9887999892234802\n",
      "\n",
      "Best val_accuracy So Far: 0.9887999892234802\n",
      "Total elapsed time: 03h 48m 15s\n"
     ]
    }
   ],
   "source": [
    "history7=tuner.search(train_datagenerator.flow(x_train, keras.utils.to_categorical(y_train), batch_size=32),\n",
    "         epochs=23, validation_data=(x_test, keras.utils.to_categorical(y_test)))"
   ]
  },
  {
   "cell_type": "code",
   "execution_count": 73,
   "id": "d9de8fa3",
   "metadata": {},
   "outputs": [
    {
     "name": "stdout",
     "output_type": "stream",
     "text": [
      "Results summary\n",
      "Results in my_dir\\cnn_mints_classification\n",
      "Showing 10 best trials\n",
      "Objective(name=\"val_accuracy\", direction=\"max\")\n",
      "\n",
      "Trial 2 summary\n",
      "Hyperparameters:\n",
      "learning_rate: 0.005\n",
      "Score: 0.9887999892234802\n",
      "\n",
      "Trial 4 summary\n",
      "Hyperparameters:\n",
      "learning_rate: 0.001844\n",
      "Score: 0.9887999892234802\n",
      "\n",
      "Trial 1 summary\n",
      "Hyperparameters:\n",
      "learning_rate: 0.0025\n",
      "Score: 0.9886000156402588\n",
      "\n",
      "Trial 0 summary\n",
      "Hyperparameters:\n",
      "learning_rate: 0.01\n",
      "Score: 0.9873999953269958\n",
      "\n",
      "Trial 3 summary\n",
      "Hyperparameters:\n",
      "learning_rate: 0.00125\n",
      "Score: 0.9871000051498413\n"
     ]
    }
   ],
   "source": [
    "tuner.results_summary()"
   ]
  },
  {
   "cell_type": "markdown",
   "id": "157c6aa6",
   "metadata": {},
   "source": [
    "#### Observation(s)"
   ]
  },
  {
   "cell_type": "markdown",
   "id": "c1b0872c",
   "metadata": {},
   "source": [
    "- The model's accuracy would increase by 0.15% if the learning rate of 0.00125 is used\n",
    "\n",
    "\n",
    "- Varying the learning rate of a model could impact the models' performace as shown in the summary above "
   ]
  },
  {
   "cell_type": "markdown",
   "id": "f073f3c5",
   "metadata": {},
   "source": [
    "# Question(d)"
   ]
  },
  {
   "cell_type": "markdown",
   "id": "1938074a",
   "metadata": {},
   "source": [
    "**Was there a case of overfitting observed in your model at any point ?**"
   ]
  },
  {
   "cell_type": "markdown",
   "id": "18840d5c",
   "metadata": {},
   "source": [
    "- Overfitting was seen at the 3rd Epoch when the validation loss (0.2246) of the model exceeded the training loss (0.1829) using Adam as the optimizer. \n",
    "\n",
    "\n",
    "- Overfitting was seen at the 2nd and 3rd Epoch when the validation loss (0.4815) and (0.4801) of the model exceeded the training loss (0.2519) and (0.2450) using RMSprop as the optimizer. "
   ]
  },
  {
   "cell_type": "code",
   "execution_count": null,
   "id": "50f18b67",
   "metadata": {},
   "outputs": [],
   "source": []
  }
 ],
 "metadata": {
  "kernelspec": {
   "display_name": "Python 3 (ipykernel)",
   "language": "python",
   "name": "python3"
  },
  "language_info": {
   "codemirror_mode": {
    "name": "ipython",
    "version": 3
   },
   "file_extension": ".py",
   "mimetype": "text/x-python",
   "name": "python",
   "nbconvert_exporter": "python",
   "pygments_lexer": "ipython3",
   "version": "3.10.9"
  }
 },
 "nbformat": 4,
 "nbformat_minor": 5
}

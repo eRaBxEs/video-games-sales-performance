{
 "cells": [
  {
   "cell_type": "markdown",
   "id": "0aec650f",
   "metadata": {},
   "source": [
    "## Component 2 Coding :  Understanding AI assignment"
   ]
  },
  {
   "cell_type": "code",
   "execution_count": 1,
   "id": "0137925b",
   "metadata": {},
   "outputs": [],
   "source": [
    "# Importing Libraries\n",
    "import csv\n",
    "import pandas as pd\n",
    "import numpy as np\n",
    "import seaborn as sns\n",
    "import matplotlib.pyplot as plt\n",
    "%matplotlib inline\n",
    "import warnings\n",
    "from sklearn.cluster import KMeans\n",
    "from sklearn.metrics import v_measure_score\n",
    "from sklearn.metrics import adjusted_mutual_info_score \n",
    "from sklearn.metrics import adjusted_rand_score\n",
    "from sklearn.metrics import davies_bouldin_score \n",
    "from sklearn.ensemble import VotingClassifier\n",
    "from sklearn.neighbors import KNeighborsClassifier \n",
    "from sklearn.metrics import silhouette_score\n",
    "from sklearn.model_selection import train_test_split # sci-kit Learn Library\n",
    "from sklearn.preprocessing import StandardScaler # to rescaLe the numericaL data\n",
    "from sklearn.tree import DecisionTreeClassifier\n",
    "from sklearn.metrics import classification_report, confusion_matrix \n",
    "from sklearn.preprocessing import LabelEncoder\n",
    "from sklearn.linear_model import LogisticRegression \n",
    "from sklearn.svm import SVC\n",
    "from sklearn.ensemble import RandomForestRegressor \n",
    "from sklearn.neighbors import KNeighborsRegressor\n",
    "from sklearn.ensemble import GradientBoostingRegressor \n",
    "from sklearn.linear_model import Lasso\n",
    "from sklearn.linear_model import Ridge\n",
    "from sklearn import tree\n",
    "from sklearn.svm import SVR\n",
    "from sklearn.ensemble import RandomForestClassifier \n",
    "from sklearn.model_selection import cross_val_score \n",
    "from sklearn.model_selection import StratifiedKFold \n",
    "warnings.filterwarnings('ignore')\n",
    "from sklearn.linear_model import LinearRegression # importing the Linear regression Libr \n",
    "from sklearn.metrics import mean_absolute_error,mean_squared_error,r2_score # importin\n"
   ]
  },
  {
   "cell_type": "markdown",
   "id": "9ae91ad4",
   "metadata": {},
   "source": [
    "### Sourcing the dataframe "
   ]
  },
  {
   "cell_type": "code",
   "execution_count": 2,
   "id": "f4f101c2",
   "metadata": {},
   "outputs": [
    {
     "data": {
      "text/plain": [
       "(16719, 16)"
      ]
     },
     "execution_count": 2,
     "metadata": {},
     "output_type": "execute_result"
    }
   ],
   "source": [
    "df = pd.read_csv(\"Video_Games.csv\")\n",
    "# display the data\n",
    "df. shape"
   ]
  },
  {
   "cell_type": "markdown",
   "id": "8849a5f8",
   "metadata": {},
   "source": [
    "### Accessing the dataframe for irregularities"
   ]
  },
  {
   "cell_type": "code",
   "execution_count": 3,
   "id": "50e46fd6",
   "metadata": {},
   "outputs": [
    {
     "data": {
      "text/plain": [
       "Name                  2\n",
       "Platform              0\n",
       "Year_of_Release     269\n",
       "Genre                 2\n",
       "Publisher            54\n",
       "NA_Sales              0\n",
       "EU_Sales              0\n",
       "JP_Sales              0\n",
       "Other_Sales           0\n",
       "Global_Sales          0\n",
       "Critic_Score       8582\n",
       "Critic_Count       8582\n",
       "User_Score         6704\n",
       "User_Count         9129\n",
       "Developer          6623\n",
       "Rating             6769\n",
       "dtype: int64"
      ]
     },
     "execution_count": 3,
     "metadata": {},
     "output_type": "execute_result"
    }
   ],
   "source": [
    "#checking for null values \n",
    "df.isna().sum()"
   ]
  },
  {
   "cell_type": "code",
   "execution_count": 4,
   "id": "afc39efc",
   "metadata": {},
   "outputs": [
    {
     "data": {
      "text/html": [
       "<div>\n",
       "<style scoped>\n",
       "    .dataframe tbody tr th:only-of-type {\n",
       "        vertical-align: middle;\n",
       "    }\n",
       "\n",
       "    .dataframe tbody tr th {\n",
       "        vertical-align: top;\n",
       "    }\n",
       "\n",
       "    .dataframe thead th {\n",
       "        text-align: right;\n",
       "    }\n",
       "</style>\n",
       "<table border=\"1\" class=\"dataframe\">\n",
       "  <thead>\n",
       "    <tr style=\"text-align: right;\">\n",
       "      <th></th>\n",
       "      <th>Name</th>\n",
       "      <th>Platform</th>\n",
       "      <th>Year_of_Release</th>\n",
       "      <th>Genre</th>\n",
       "      <th>Publisher</th>\n",
       "      <th>NA_Sales</th>\n",
       "      <th>EU_Sales</th>\n",
       "      <th>JP_Sales</th>\n",
       "      <th>Other_Sales</th>\n",
       "      <th>Global_Sales</th>\n",
       "      <th>Critic_Score</th>\n",
       "      <th>Critic_Count</th>\n",
       "      <th>User_Score</th>\n",
       "      <th>User_Count</th>\n",
       "      <th>Developer</th>\n",
       "      <th>Rating</th>\n",
       "    </tr>\n",
       "  </thead>\n",
       "  <tbody>\n",
       "    <tr>\n",
       "      <th>0</th>\n",
       "      <td>Wii Sports</td>\n",
       "      <td>Wii</td>\n",
       "      <td>2006.0</td>\n",
       "      <td>Sports</td>\n",
       "      <td>Nintendo</td>\n",
       "      <td>41.36</td>\n",
       "      <td>28.96</td>\n",
       "      <td>3.77</td>\n",
       "      <td>8.45</td>\n",
       "      <td>82.53</td>\n",
       "      <td>76.0</td>\n",
       "      <td>51.0</td>\n",
       "      <td>8</td>\n",
       "      <td>322.0</td>\n",
       "      <td>Nintendo</td>\n",
       "      <td>E</td>\n",
       "    </tr>\n",
       "    <tr>\n",
       "      <th>1</th>\n",
       "      <td>Super Mario Bros.</td>\n",
       "      <td>NES</td>\n",
       "      <td>1985.0</td>\n",
       "      <td>Platform</td>\n",
       "      <td>Nintendo</td>\n",
       "      <td>29.08</td>\n",
       "      <td>3.58</td>\n",
       "      <td>6.81</td>\n",
       "      <td>0.77</td>\n",
       "      <td>40.24</td>\n",
       "      <td>NaN</td>\n",
       "      <td>NaN</td>\n",
       "      <td>NaN</td>\n",
       "      <td>NaN</td>\n",
       "      <td>NaN</td>\n",
       "      <td>NaN</td>\n",
       "    </tr>\n",
       "    <tr>\n",
       "      <th>2</th>\n",
       "      <td>Mario Kart Wii</td>\n",
       "      <td>Wii</td>\n",
       "      <td>2008.0</td>\n",
       "      <td>Racing</td>\n",
       "      <td>Nintendo</td>\n",
       "      <td>15.68</td>\n",
       "      <td>12.76</td>\n",
       "      <td>3.79</td>\n",
       "      <td>3.29</td>\n",
       "      <td>35.52</td>\n",
       "      <td>82.0</td>\n",
       "      <td>73.0</td>\n",
       "      <td>8.3</td>\n",
       "      <td>709.0</td>\n",
       "      <td>Nintendo</td>\n",
       "      <td>E</td>\n",
       "    </tr>\n",
       "    <tr>\n",
       "      <th>3</th>\n",
       "      <td>Wii Sports Resort</td>\n",
       "      <td>Wii</td>\n",
       "      <td>2009.0</td>\n",
       "      <td>Sports</td>\n",
       "      <td>Nintendo</td>\n",
       "      <td>15.61</td>\n",
       "      <td>10.93</td>\n",
       "      <td>3.28</td>\n",
       "      <td>2.95</td>\n",
       "      <td>32.77</td>\n",
       "      <td>80.0</td>\n",
       "      <td>73.0</td>\n",
       "      <td>8</td>\n",
       "      <td>192.0</td>\n",
       "      <td>Nintendo</td>\n",
       "      <td>E</td>\n",
       "    </tr>\n",
       "    <tr>\n",
       "      <th>4</th>\n",
       "      <td>Pokemon Red/Pokemon Blue</td>\n",
       "      <td>GB</td>\n",
       "      <td>1996.0</td>\n",
       "      <td>Role-Playing</td>\n",
       "      <td>Nintendo</td>\n",
       "      <td>11.27</td>\n",
       "      <td>8.89</td>\n",
       "      <td>10.22</td>\n",
       "      <td>1.00</td>\n",
       "      <td>31.37</td>\n",
       "      <td>NaN</td>\n",
       "      <td>NaN</td>\n",
       "      <td>NaN</td>\n",
       "      <td>NaN</td>\n",
       "      <td>NaN</td>\n",
       "      <td>NaN</td>\n",
       "    </tr>\n",
       "  </tbody>\n",
       "</table>\n",
       "</div>"
      ],
      "text/plain": [
       "                       Name Platform  Year_of_Release         Genre Publisher  \\\n",
       "0                Wii Sports      Wii           2006.0        Sports  Nintendo   \n",
       "1         Super Mario Bros.      NES           1985.0      Platform  Nintendo   \n",
       "2            Mario Kart Wii      Wii           2008.0        Racing  Nintendo   \n",
       "3         Wii Sports Resort      Wii           2009.0        Sports  Nintendo   \n",
       "4  Pokemon Red/Pokemon Blue       GB           1996.0  Role-Playing  Nintendo   \n",
       "\n",
       "   NA_Sales  EU_Sales  JP_Sales  Other_Sales  Global_Sales  Critic_Score  \\\n",
       "0     41.36     28.96      3.77         8.45         82.53          76.0   \n",
       "1     29.08      3.58      6.81         0.77         40.24           NaN   \n",
       "2     15.68     12.76      3.79         3.29         35.52          82.0   \n",
       "3     15.61     10.93      3.28         2.95         32.77          80.0   \n",
       "4     11.27      8.89     10.22         1.00         31.37           NaN   \n",
       "\n",
       "   Critic_Count User_Score  User_Count Developer Rating  \n",
       "0          51.0          8       322.0  Nintendo      E  \n",
       "1           NaN        NaN         NaN       NaN    NaN  \n",
       "2          73.0        8.3       709.0  Nintendo      E  \n",
       "3          73.0          8       192.0  Nintendo      E  \n",
       "4           NaN        NaN         NaN       NaN    NaN  "
      ]
     },
     "execution_count": 4,
     "metadata": {},
     "output_type": "execute_result"
    }
   ],
   "source": [
    "df.head()"
   ]
  },
  {
   "cell_type": "code",
   "execution_count": 5,
   "id": "70672ff4",
   "metadata": {},
   "outputs": [
    {
     "name": "stdout",
     "output_type": "stream",
     "text": [
      "<class 'pandas.core.frame.DataFrame'>\n",
      "RangeIndex: 16719 entries, 0 to 16718\n",
      "Data columns (total 16 columns):\n",
      " #   Column           Non-Null Count  Dtype  \n",
      "---  ------           --------------  -----  \n",
      " 0   Name             16717 non-null  object \n",
      " 1   Platform         16719 non-null  object \n",
      " 2   Year_of_Release  16450 non-null  float64\n",
      " 3   Genre            16717 non-null  object \n",
      " 4   Publisher        16665 non-null  object \n",
      " 5   NA_Sales         16719 non-null  float64\n",
      " 6   EU_Sales         16719 non-null  float64\n",
      " 7   JP_Sales         16719 non-null  float64\n",
      " 8   Other_Sales      16719 non-null  float64\n",
      " 9   Global_Sales     16719 non-null  float64\n",
      " 10  Critic_Score     8137 non-null   float64\n",
      " 11  Critic_Count     8137 non-null   float64\n",
      " 12  User_Score       10015 non-null  object \n",
      " 13  User_Count       7590 non-null   float64\n",
      " 14  Developer        10096 non-null  object \n",
      " 15  Rating           9950 non-null   object \n",
      "dtypes: float64(9), object(7)\n",
      "memory usage: 2.0+ MB\n"
     ]
    }
   ],
   "source": [
    "# checking for more info\n",
    "df.info()"
   ]
  },
  {
   "cell_type": "code",
   "execution_count": 6,
   "id": "d930608b",
   "metadata": {},
   "outputs": [
    {
     "data": {
      "text/plain": [
       "array(['8', nan, '8.3', '8.5', '6.6', '8.4', '8.6', '7.7', '6.3', '7.4',\n",
       "       '8.2', '9', '7.9', '8.1', '8.7', '7.1', '3.4', '5.3', '4.8', '3.2',\n",
       "       '8.9', '6.4', '7.8', '7.5', '2.6', '7.2', '9.2', '7', '7.3', '4.3',\n",
       "       '7.6', '5.7', '5', '9.1', '6.5', 'tbd', '8.8', '6.9', '9.4', '6.8',\n",
       "       '6.1', '6.7', '5.4', '4', '4.9', '4.5', '9.3', '6.2', '4.2', '6',\n",
       "       '3.7', '4.1', '5.8', '5.6', '5.5', '4.4', '4.6', '5.9', '3.9',\n",
       "       '3.1', '2.9', '5.2', '3.3', '4.7', '5.1', '3.5', '2.5', '1.9', '3',\n",
       "       '2.7', '2.2', '2', '9.5', '2.1', '3.6', '2.8', '1.8', '3.8', '0',\n",
       "       '1.6', '9.6', '2.4', '1.7', '1.1', '0.3', '1.5', '0.7', '1.2',\n",
       "       '2.3', '0.5', '1.3', '0.2', '0.6', '1.4', '0.9', '1', '9.7'],\n",
       "      dtype=object)"
      ]
     },
     "execution_count": 6,
     "metadata": {},
     "output_type": "execute_result"
    }
   ],
   "source": [
    "#Observing the inconsistency above in User score coLumn \n",
    "df['User_Score'].unique()"
   ]
  },
  {
   "cell_type": "markdown",
   "id": "f67514e8",
   "metadata": {},
   "source": [
    "### Technical Cleaning operation begins"
   ]
  },
  {
   "cell_type": "code",
   "execution_count": 7,
   "id": "53c1754e",
   "metadata": {},
   "outputs": [],
   "source": [
    "#Resolving the inconsistency and data type of the coLumn\n",
    "df['User_Score'] = df['User_Score'].replace('tbd', np.nan)\n",
    "df['User_Score'] = df['User_Score'].astype(float)"
   ]
  },
  {
   "cell_type": "code",
   "execution_count": 8,
   "id": "72f20dd2",
   "metadata": {},
   "outputs": [
    {
     "name": "stdout",
     "output_type": "stream",
     "text": [
      "<class 'pandas.core.frame.DataFrame'>\n",
      "RangeIndex: 16719 entries, 0 to 16718\n",
      "Data columns (total 16 columns):\n",
      " #   Column           Non-Null Count  Dtype  \n",
      "---  ------           --------------  -----  \n",
      " 0   Name             16717 non-null  object \n",
      " 1   Platform         16719 non-null  object \n",
      " 2   Year_of_Release  16450 non-null  float64\n",
      " 3   Genre            16717 non-null  object \n",
      " 4   Publisher        16665 non-null  object \n",
      " 5   NA_Sales         16719 non-null  float64\n",
      " 6   EU_Sales         16719 non-null  float64\n",
      " 7   JP_Sales         16719 non-null  float64\n",
      " 8   Other_Sales      16719 non-null  float64\n",
      " 9   Global_Sales     16719 non-null  float64\n",
      " 10  Critic_Score     8137 non-null   float64\n",
      " 11  Critic_Count     8137 non-null   float64\n",
      " 12  User_Score       7590 non-null   float64\n",
      " 13  User_Count       7590 non-null   float64\n",
      " 14  Developer        10096 non-null  object \n",
      " 15  Rating           9950 non-null   object \n",
      "dtypes: float64(10), object(6)\n",
      "memory usage: 2.0+ MB\n"
     ]
    }
   ],
   "source": [
    "df.info()"
   ]
  },
  {
   "cell_type": "code",
   "execution_count": 9,
   "id": "77089ee2",
   "metadata": {},
   "outputs": [
    {
     "data": {
      "text/html": [
       "<div>\n",
       "<style scoped>\n",
       "    .dataframe tbody tr th:only-of-type {\n",
       "        vertical-align: middle;\n",
       "    }\n",
       "\n",
       "    .dataframe tbody tr th {\n",
       "        vertical-align: top;\n",
       "    }\n",
       "\n",
       "    .dataframe thead th {\n",
       "        text-align: right;\n",
       "    }\n",
       "</style>\n",
       "<table border=\"1\" class=\"dataframe\">\n",
       "  <thead>\n",
       "    <tr style=\"text-align: right;\">\n",
       "      <th></th>\n",
       "      <th>Year_of_Release</th>\n",
       "      <th>NA_Sales</th>\n",
       "      <th>EU_Sales</th>\n",
       "      <th>JP_Sales</th>\n",
       "      <th>Other_Sales</th>\n",
       "      <th>Global_Sales</th>\n",
       "      <th>Critic_Score</th>\n",
       "      <th>Critic_Count</th>\n",
       "      <th>User_Score</th>\n",
       "      <th>User_Count</th>\n",
       "    </tr>\n",
       "  </thead>\n",
       "  <tbody>\n",
       "    <tr>\n",
       "      <th>count</th>\n",
       "      <td>16450.000000</td>\n",
       "      <td>16719.000000</td>\n",
       "      <td>16719.000000</td>\n",
       "      <td>16719.000000</td>\n",
       "      <td>16719.000000</td>\n",
       "      <td>16719.000000</td>\n",
       "      <td>8137.000000</td>\n",
       "      <td>8137.000000</td>\n",
       "      <td>7590.000000</td>\n",
       "      <td>7590.000000</td>\n",
       "    </tr>\n",
       "    <tr>\n",
       "      <th>mean</th>\n",
       "      <td>2006.487356</td>\n",
       "      <td>0.263330</td>\n",
       "      <td>0.145025</td>\n",
       "      <td>0.077602</td>\n",
       "      <td>0.047332</td>\n",
       "      <td>0.533543</td>\n",
       "      <td>68.967679</td>\n",
       "      <td>26.360821</td>\n",
       "      <td>7.125046</td>\n",
       "      <td>162.229908</td>\n",
       "    </tr>\n",
       "    <tr>\n",
       "      <th>std</th>\n",
       "      <td>5.878995</td>\n",
       "      <td>0.813514</td>\n",
       "      <td>0.503283</td>\n",
       "      <td>0.308818</td>\n",
       "      <td>0.186710</td>\n",
       "      <td>1.547935</td>\n",
       "      <td>13.938165</td>\n",
       "      <td>18.980495</td>\n",
       "      <td>1.500006</td>\n",
       "      <td>561.282326</td>\n",
       "    </tr>\n",
       "    <tr>\n",
       "      <th>min</th>\n",
       "      <td>1980.000000</td>\n",
       "      <td>0.000000</td>\n",
       "      <td>0.000000</td>\n",
       "      <td>0.000000</td>\n",
       "      <td>0.000000</td>\n",
       "      <td>0.010000</td>\n",
       "      <td>13.000000</td>\n",
       "      <td>3.000000</td>\n",
       "      <td>0.000000</td>\n",
       "      <td>4.000000</td>\n",
       "    </tr>\n",
       "    <tr>\n",
       "      <th>25%</th>\n",
       "      <td>2003.000000</td>\n",
       "      <td>0.000000</td>\n",
       "      <td>0.000000</td>\n",
       "      <td>0.000000</td>\n",
       "      <td>0.000000</td>\n",
       "      <td>0.060000</td>\n",
       "      <td>60.000000</td>\n",
       "      <td>12.000000</td>\n",
       "      <td>6.400000</td>\n",
       "      <td>10.000000</td>\n",
       "    </tr>\n",
       "    <tr>\n",
       "      <th>50%</th>\n",
       "      <td>2007.000000</td>\n",
       "      <td>0.080000</td>\n",
       "      <td>0.020000</td>\n",
       "      <td>0.000000</td>\n",
       "      <td>0.010000</td>\n",
       "      <td>0.170000</td>\n",
       "      <td>71.000000</td>\n",
       "      <td>21.000000</td>\n",
       "      <td>7.500000</td>\n",
       "      <td>24.000000</td>\n",
       "    </tr>\n",
       "    <tr>\n",
       "      <th>75%</th>\n",
       "      <td>2010.000000</td>\n",
       "      <td>0.240000</td>\n",
       "      <td>0.110000</td>\n",
       "      <td>0.040000</td>\n",
       "      <td>0.030000</td>\n",
       "      <td>0.470000</td>\n",
       "      <td>79.000000</td>\n",
       "      <td>36.000000</td>\n",
       "      <td>8.200000</td>\n",
       "      <td>81.000000</td>\n",
       "    </tr>\n",
       "    <tr>\n",
       "      <th>max</th>\n",
       "      <td>2020.000000</td>\n",
       "      <td>41.360000</td>\n",
       "      <td>28.960000</td>\n",
       "      <td>10.220000</td>\n",
       "      <td>10.570000</td>\n",
       "      <td>82.530000</td>\n",
       "      <td>98.000000</td>\n",
       "      <td>113.000000</td>\n",
       "      <td>9.700000</td>\n",
       "      <td>10665.000000</td>\n",
       "    </tr>\n",
       "  </tbody>\n",
       "</table>\n",
       "</div>"
      ],
      "text/plain": [
       "       Year_of_Release      NA_Sales      EU_Sales      JP_Sales  \\\n",
       "count     16450.000000  16719.000000  16719.000000  16719.000000   \n",
       "mean       2006.487356      0.263330      0.145025      0.077602   \n",
       "std           5.878995      0.813514      0.503283      0.308818   \n",
       "min        1980.000000      0.000000      0.000000      0.000000   \n",
       "25%        2003.000000      0.000000      0.000000      0.000000   \n",
       "50%        2007.000000      0.080000      0.020000      0.000000   \n",
       "75%        2010.000000      0.240000      0.110000      0.040000   \n",
       "max        2020.000000     41.360000     28.960000     10.220000   \n",
       "\n",
       "        Other_Sales  Global_Sales  Critic_Score  Critic_Count   User_Score  \\\n",
       "count  16719.000000  16719.000000   8137.000000   8137.000000  7590.000000   \n",
       "mean       0.047332      0.533543     68.967679     26.360821     7.125046   \n",
       "std        0.186710      1.547935     13.938165     18.980495     1.500006   \n",
       "min        0.000000      0.010000     13.000000      3.000000     0.000000   \n",
       "25%        0.000000      0.060000     60.000000     12.000000     6.400000   \n",
       "50%        0.010000      0.170000     71.000000     21.000000     7.500000   \n",
       "75%        0.030000      0.470000     79.000000     36.000000     8.200000   \n",
       "max       10.570000     82.530000     98.000000    113.000000     9.700000   \n",
       "\n",
       "         User_Count  \n",
       "count   7590.000000  \n",
       "mean     162.229908  \n",
       "std      561.282326  \n",
       "min        4.000000  \n",
       "25%       10.000000  \n",
       "50%       24.000000  \n",
       "75%       81.000000  \n",
       "max    10665.000000  "
      ]
     },
     "execution_count": 9,
     "metadata": {},
     "output_type": "execute_result"
    }
   ],
   "source": [
    "#To inspect the mean,median,std and other values \n",
    "df.describe()"
   ]
  },
  {
   "cell_type": "code",
   "execution_count": 10,
   "id": "b075d4c9",
   "metadata": {},
   "outputs": [
    {
     "data": {
      "text/plain": [
       "Name                  2\n",
       "Platform              0\n",
       "Year_of_Release     269\n",
       "Genre                 2\n",
       "Publisher            54\n",
       "NA_Sales              0\n",
       "EU_Sales              0\n",
       "JP_Sales              0\n",
       "Other_Sales           0\n",
       "Global_Sales          0\n",
       "Critic_Score       8582\n",
       "Critic_Count       8582\n",
       "User_Score         9129\n",
       "User_Count         9129\n",
       "Developer          6623\n",
       "Rating             6769\n",
       "dtype: int64"
      ]
     },
     "execution_count": 10,
     "metadata": {},
     "output_type": "execute_result"
    }
   ],
   "source": [
    "df.isna().sum() # Checking the dataframe again"
   ]
  },
  {
   "cell_type": "code",
   "execution_count": 11,
   "id": "facab20f",
   "metadata": {},
   "outputs": [
    {
     "data": {
      "text/plain": [
       "0"
      ]
     },
     "execution_count": 11,
     "metadata": {},
     "output_type": "execute_result"
    }
   ],
   "source": [
    "#Checking for dupLicates \n",
    "df.duplicated().sum()"
   ]
  },
  {
   "cell_type": "code",
   "execution_count": 12,
   "id": "9f9de9f6",
   "metadata": {},
   "outputs": [],
   "source": [
    "# Dropping the two rows with nuLL values in Name Column\n",
    "del_indexOne = df[ df['Name'].isna() ].index \n",
    "df.drop(del_indexOne, inplace=True)"
   ]
  },
  {
   "cell_type": "code",
   "execution_count": 13,
   "id": "e2bd1efe",
   "metadata": {},
   "outputs": [],
   "source": [
    "# Replacing the nuLL vaLues with the mean, median caLcuLated \n",
    "df['Critic_Score'].replace(np.nan, '69', inplace= True) \n",
    "df['Critic_Count'].replace(np.nan, '21', inplace= True) \n",
    "df['User_Count'].replace(np.nan, '24', inplace= True) \n",
    "df['User_Score'].replace(np.nan, '7.5', inplace= True)"
   ]
  },
  {
   "cell_type": "code",
   "execution_count": 14,
   "id": "b6720b92",
   "metadata": {},
   "outputs": [],
   "source": [
    "# Replace null vaLues in the publisher columnn with Unknown-PubLisher \n",
    "df['Publisher'].replace (np.nan, 'Unknown-Publisher', inplace= True)"
   ]
  },
  {
   "cell_type": "code",
   "execution_count": 15,
   "id": "39f247c0",
   "metadata": {},
   "outputs": [],
   "source": [
    "# Replace null vaLues in developer column with PubLisher because they are most times the same\n",
    "df.loc[df['Developer'].isna(), 'Developer'] = df['Publisher']"
   ]
  },
  {
   "cell_type": "code",
   "execution_count": 16,
   "id": "9c7df7d7",
   "metadata": {},
   "outputs": [],
   "source": [
    "# Replace null vaLues in developer column with Unknown-Developer \n",
    "df['Developer'].replace(np.nan, 'Unknown-Developer', inplace= True)"
   ]
  },
  {
   "cell_type": "code",
   "execution_count": 17,
   "id": "fe71893f",
   "metadata": {},
   "outputs": [
    {
     "data": {
      "text/html": [
       "<div>\n",
       "<style scoped>\n",
       "    .dataframe tbody tr th:only-of-type {\n",
       "        vertical-align: middle;\n",
       "    }\n",
       "\n",
       "    .dataframe tbody tr th {\n",
       "        vertical-align: top;\n",
       "    }\n",
       "\n",
       "    .dataframe thead th {\n",
       "        text-align: right;\n",
       "    }\n",
       "</style>\n",
       "<table border=\"1\" class=\"dataframe\">\n",
       "  <thead>\n",
       "    <tr style=\"text-align: right;\">\n",
       "      <th></th>\n",
       "      <th>Name</th>\n",
       "      <th>Platform</th>\n",
       "      <th>Year_of_Release</th>\n",
       "      <th>Genre</th>\n",
       "      <th>Publisher</th>\n",
       "      <th>NA_Sales</th>\n",
       "      <th>EU_Sales</th>\n",
       "      <th>JP_Sales</th>\n",
       "      <th>Other_Sales</th>\n",
       "      <th>Global_Sales</th>\n",
       "      <th>Critic_Score</th>\n",
       "      <th>Critic_Count</th>\n",
       "      <th>User_Score</th>\n",
       "      <th>User_Count</th>\n",
       "      <th>Developer</th>\n",
       "      <th>Rating</th>\n",
       "    </tr>\n",
       "  </thead>\n",
       "  <tbody>\n",
       "    <tr>\n",
       "      <th>0</th>\n",
       "      <td>Wii Sports</td>\n",
       "      <td>Wii</td>\n",
       "      <td>2006.0</td>\n",
       "      <td>Sports</td>\n",
       "      <td>Nintendo</td>\n",
       "      <td>41.36</td>\n",
       "      <td>28.96</td>\n",
       "      <td>3.77</td>\n",
       "      <td>8.45</td>\n",
       "      <td>82.53</td>\n",
       "      <td>76.0</td>\n",
       "      <td>51.0</td>\n",
       "      <td>8.0</td>\n",
       "      <td>322.0</td>\n",
       "      <td>Nintendo</td>\n",
       "      <td>E</td>\n",
       "    </tr>\n",
       "    <tr>\n",
       "      <th>1</th>\n",
       "      <td>Super Mario Bros.</td>\n",
       "      <td>NES</td>\n",
       "      <td>1985.0</td>\n",
       "      <td>Platform</td>\n",
       "      <td>Nintendo</td>\n",
       "      <td>29.08</td>\n",
       "      <td>3.58</td>\n",
       "      <td>6.81</td>\n",
       "      <td>0.77</td>\n",
       "      <td>40.24</td>\n",
       "      <td>69</td>\n",
       "      <td>21</td>\n",
       "      <td>7.5</td>\n",
       "      <td>24</td>\n",
       "      <td>Nintendo</td>\n",
       "      <td>NaN</td>\n",
       "    </tr>\n",
       "    <tr>\n",
       "      <th>2</th>\n",
       "      <td>Mario Kart Wii</td>\n",
       "      <td>Wii</td>\n",
       "      <td>2008.0</td>\n",
       "      <td>Racing</td>\n",
       "      <td>Nintendo</td>\n",
       "      <td>15.68</td>\n",
       "      <td>12.76</td>\n",
       "      <td>3.79</td>\n",
       "      <td>3.29</td>\n",
       "      <td>35.52</td>\n",
       "      <td>82.0</td>\n",
       "      <td>73.0</td>\n",
       "      <td>8.3</td>\n",
       "      <td>709.0</td>\n",
       "      <td>Nintendo</td>\n",
       "      <td>E</td>\n",
       "    </tr>\n",
       "    <tr>\n",
       "      <th>3</th>\n",
       "      <td>Wii Sports Resort</td>\n",
       "      <td>Wii</td>\n",
       "      <td>2009.0</td>\n",
       "      <td>Sports</td>\n",
       "      <td>Nintendo</td>\n",
       "      <td>15.61</td>\n",
       "      <td>10.93</td>\n",
       "      <td>3.28</td>\n",
       "      <td>2.95</td>\n",
       "      <td>32.77</td>\n",
       "      <td>80.0</td>\n",
       "      <td>73.0</td>\n",
       "      <td>8.0</td>\n",
       "      <td>192.0</td>\n",
       "      <td>Nintendo</td>\n",
       "      <td>E</td>\n",
       "    </tr>\n",
       "    <tr>\n",
       "      <th>4</th>\n",
       "      <td>Pokemon Red/Pokemon Blue</td>\n",
       "      <td>GB</td>\n",
       "      <td>1996.0</td>\n",
       "      <td>Role-Playing</td>\n",
       "      <td>Nintendo</td>\n",
       "      <td>11.27</td>\n",
       "      <td>8.89</td>\n",
       "      <td>10.22</td>\n",
       "      <td>1.00</td>\n",
       "      <td>31.37</td>\n",
       "      <td>69</td>\n",
       "      <td>21</td>\n",
       "      <td>7.5</td>\n",
       "      <td>24</td>\n",
       "      <td>Nintendo</td>\n",
       "      <td>NaN</td>\n",
       "    </tr>\n",
       "    <tr>\n",
       "      <th>...</th>\n",
       "      <td>...</td>\n",
       "      <td>...</td>\n",
       "      <td>...</td>\n",
       "      <td>...</td>\n",
       "      <td>...</td>\n",
       "      <td>...</td>\n",
       "      <td>...</td>\n",
       "      <td>...</td>\n",
       "      <td>...</td>\n",
       "      <td>...</td>\n",
       "      <td>...</td>\n",
       "      <td>...</td>\n",
       "      <td>...</td>\n",
       "      <td>...</td>\n",
       "      <td>...</td>\n",
       "      <td>...</td>\n",
       "    </tr>\n",
       "    <tr>\n",
       "      <th>5023</th>\n",
       "      <td>MX vs. ATV Untamed</td>\n",
       "      <td>PS2</td>\n",
       "      <td>2007.0</td>\n",
       "      <td>Racing</td>\n",
       "      <td>THQ</td>\n",
       "      <td>0.32</td>\n",
       "      <td>0.01</td>\n",
       "      <td>0.00</td>\n",
       "      <td>0.05</td>\n",
       "      <td>0.38</td>\n",
       "      <td>53.0</td>\n",
       "      <td>13.0</td>\n",
       "      <td>8.2</td>\n",
       "      <td>5.0</td>\n",
       "      <td>Rainbow Studios</td>\n",
       "      <td>E</td>\n",
       "    </tr>\n",
       "    <tr>\n",
       "      <th>5024</th>\n",
       "      <td>Rogue Trip: Vacation 2012</td>\n",
       "      <td>PS</td>\n",
       "      <td>1998.0</td>\n",
       "      <td>Racing</td>\n",
       "      <td>GT Interactive</td>\n",
       "      <td>0.21</td>\n",
       "      <td>0.14</td>\n",
       "      <td>0.00</td>\n",
       "      <td>0.02</td>\n",
       "      <td>0.38</td>\n",
       "      <td>69</td>\n",
       "      <td>21</td>\n",
       "      <td>7.5</td>\n",
       "      <td>24</td>\n",
       "      <td>GT Interactive</td>\n",
       "      <td>NaN</td>\n",
       "    </tr>\n",
       "    <tr>\n",
       "      <th>5025</th>\n",
       "      <td>Phantasy Star Ø</td>\n",
       "      <td>DS</td>\n",
       "      <td>2008.0</td>\n",
       "      <td>Role-Playing</td>\n",
       "      <td>Sega</td>\n",
       "      <td>0.16</td>\n",
       "      <td>0.00</td>\n",
       "      <td>0.20</td>\n",
       "      <td>0.01</td>\n",
       "      <td>0.38</td>\n",
       "      <td>69</td>\n",
       "      <td>21</td>\n",
       "      <td>7.5</td>\n",
       "      <td>24</td>\n",
       "      <td>Sega</td>\n",
       "      <td>NaN</td>\n",
       "    </tr>\n",
       "    <tr>\n",
       "      <th>5026</th>\n",
       "      <td>Dawn of Discovery</td>\n",
       "      <td>PC</td>\n",
       "      <td>2009.0</td>\n",
       "      <td>Simulation</td>\n",
       "      <td>Ubisoft</td>\n",
       "      <td>0.00</td>\n",
       "      <td>0.32</td>\n",
       "      <td>0.00</td>\n",
       "      <td>0.06</td>\n",
       "      <td>0.38</td>\n",
       "      <td>82.0</td>\n",
       "      <td>32.0</td>\n",
       "      <td>8.8</td>\n",
       "      <td>132.0</td>\n",
       "      <td>Blue Byte, Related Designs</td>\n",
       "      <td>T</td>\n",
       "    </tr>\n",
       "    <tr>\n",
       "      <th>5027</th>\n",
       "      <td>Dai-4-Ji Super Robot Taisen</td>\n",
       "      <td>SNES</td>\n",
       "      <td>1995.0</td>\n",
       "      <td>Strategy</td>\n",
       "      <td>Banpresto</td>\n",
       "      <td>0.00</td>\n",
       "      <td>0.00</td>\n",
       "      <td>0.38</td>\n",
       "      <td>0.00</td>\n",
       "      <td>0.38</td>\n",
       "      <td>69</td>\n",
       "      <td>21</td>\n",
       "      <td>7.5</td>\n",
       "      <td>24</td>\n",
       "      <td>Banpresto</td>\n",
       "      <td>NaN</td>\n",
       "    </tr>\n",
       "  </tbody>\n",
       "</table>\n",
       "<p>5027 rows × 16 columns</p>\n",
       "</div>"
      ],
      "text/plain": [
       "                             Name Platform  Year_of_Release         Genre  \\\n",
       "0                      Wii Sports      Wii           2006.0        Sports   \n",
       "1               Super Mario Bros.      NES           1985.0      Platform   \n",
       "2                  Mario Kart Wii      Wii           2008.0        Racing   \n",
       "3               Wii Sports Resort      Wii           2009.0        Sports   \n",
       "4        Pokemon Red/Pokemon Blue       GB           1996.0  Role-Playing   \n",
       "...                           ...      ...              ...           ...   \n",
       "5023           MX vs. ATV Untamed      PS2           2007.0        Racing   \n",
       "5024    Rogue Trip: Vacation 2012       PS           1998.0        Racing   \n",
       "5025              Phantasy Star Ø       DS           2008.0  Role-Playing   \n",
       "5026            Dawn of Discovery       PC           2009.0    Simulation   \n",
       "5027  Dai-4-Ji Super Robot Taisen     SNES           1995.0      Strategy   \n",
       "\n",
       "           Publisher  NA_Sales  EU_Sales  JP_Sales  Other_Sales  Global_Sales  \\\n",
       "0           Nintendo     41.36     28.96      3.77         8.45         82.53   \n",
       "1           Nintendo     29.08      3.58      6.81         0.77         40.24   \n",
       "2           Nintendo     15.68     12.76      3.79         3.29         35.52   \n",
       "3           Nintendo     15.61     10.93      3.28         2.95         32.77   \n",
       "4           Nintendo     11.27      8.89     10.22         1.00         31.37   \n",
       "...              ...       ...       ...       ...          ...           ...   \n",
       "5023             THQ      0.32      0.01      0.00         0.05          0.38   \n",
       "5024  GT Interactive      0.21      0.14      0.00         0.02          0.38   \n",
       "5025            Sega      0.16      0.00      0.20         0.01          0.38   \n",
       "5026         Ubisoft      0.00      0.32      0.00         0.06          0.38   \n",
       "5027       Banpresto      0.00      0.00      0.38         0.00          0.38   \n",
       "\n",
       "     Critic_Score Critic_Count User_Score User_Count  \\\n",
       "0            76.0         51.0        8.0      322.0   \n",
       "1              69           21        7.5         24   \n",
       "2            82.0         73.0        8.3      709.0   \n",
       "3            80.0         73.0        8.0      192.0   \n",
       "4              69           21        7.5         24   \n",
       "...           ...          ...        ...        ...   \n",
       "5023         53.0         13.0        8.2        5.0   \n",
       "5024           69           21        7.5         24   \n",
       "5025           69           21        7.5         24   \n",
       "5026         82.0         32.0        8.8      132.0   \n",
       "5027           69           21        7.5         24   \n",
       "\n",
       "                       Developer Rating  \n",
       "0                       Nintendo      E  \n",
       "1                       Nintendo    NaN  \n",
       "2                       Nintendo      E  \n",
       "3                       Nintendo      E  \n",
       "4                       Nintendo    NaN  \n",
       "...                          ...    ...  \n",
       "5023             Rainbow Studios      E  \n",
       "5024              GT Interactive    NaN  \n",
       "5025                        Sega    NaN  \n",
       "5026  Blue Byte, Related Designs      T  \n",
       "5027                   Banpresto    NaN  \n",
       "\n",
       "[5027 rows x 16 columns]"
      ]
     },
     "execution_count": 17,
     "metadata": {},
     "output_type": "execute_result"
    }
   ],
   "source": [
    "df.head(5027)"
   ]
  },
  {
   "cell_type": "code",
   "execution_count": 18,
   "id": "d48c4960",
   "metadata": {},
   "outputs": [
    {
     "data": {
      "text/html": [
       "<div>\n",
       "<style scoped>\n",
       "    .dataframe tbody tr th:only-of-type {\n",
       "        vertical-align: middle;\n",
       "    }\n",
       "\n",
       "    .dataframe tbody tr th {\n",
       "        vertical-align: top;\n",
       "    }\n",
       "\n",
       "    .dataframe thead th {\n",
       "        text-align: right;\n",
       "    }\n",
       "</style>\n",
       "<table border=\"1\" class=\"dataframe\">\n",
       "  <thead>\n",
       "    <tr style=\"text-align: right;\">\n",
       "      <th></th>\n",
       "      <th>Name</th>\n",
       "      <th>Platform</th>\n",
       "      <th>Year_of_Release</th>\n",
       "      <th>Genre</th>\n",
       "      <th>Publisher</th>\n",
       "      <th>NA_Sales</th>\n",
       "      <th>EU_Sales</th>\n",
       "      <th>JP_Sales</th>\n",
       "      <th>Other_Sales</th>\n",
       "      <th>Global_Sales</th>\n",
       "      <th>Critic_Score</th>\n",
       "      <th>Critic_Count</th>\n",
       "      <th>User_Score</th>\n",
       "      <th>User_Count</th>\n",
       "      <th>Developer</th>\n",
       "      <th>Rating</th>\n",
       "    </tr>\n",
       "  </thead>\n",
       "  <tbody>\n",
       "    <tr>\n",
       "      <th>5025</th>\n",
       "      <td>Phantasy Star Ø</td>\n",
       "      <td>DS</td>\n",
       "      <td>2008.0</td>\n",
       "      <td>Role-Playing</td>\n",
       "      <td>Sega</td>\n",
       "      <td>0.16</td>\n",
       "      <td>0.0</td>\n",
       "      <td>0.2</td>\n",
       "      <td>0.01</td>\n",
       "      <td>0.38</td>\n",
       "      <td>69</td>\n",
       "      <td>21</td>\n",
       "      <td>7.5</td>\n",
       "      <td>24</td>\n",
       "      <td>Sega</td>\n",
       "      <td>NaN</td>\n",
       "    </tr>\n",
       "  </tbody>\n",
       "</table>\n",
       "</div>"
      ],
      "text/plain": [
       "                 Name Platform  Year_of_Release         Genre Publisher  \\\n",
       "5025  Phantasy Star Ø       DS           2008.0  Role-Playing      Sega   \n",
       "\n",
       "      NA_Sales  EU_Sales  JP_Sales  Other_Sales  Global_Sales Critic_Score  \\\n",
       "5025      0.16       0.0       0.2         0.01          0.38           69   \n",
       "\n",
       "     Critic_Count User_Score User_Count Developer Rating  \n",
       "5025           21        7.5         24      Sega    NaN  "
      ]
     },
     "execution_count": 18,
     "metadata": {},
     "output_type": "execute_result"
    }
   ],
   "source": [
    "df.query(''' `Name`.str.strip() == 'Phantasy Star Ø' ''')"
   ]
  },
  {
   "cell_type": "markdown",
   "id": "077fe0c3",
   "metadata": {},
   "source": [
    "### Checking the dataframe again"
   ]
  },
  {
   "cell_type": "code",
   "execution_count": 19,
   "id": "7ffee9ba",
   "metadata": {},
   "outputs": [
    {
     "data": {
      "text/plain": [
       "Name                  0\n",
       "Platform              0\n",
       "Year_of_Release     269\n",
       "Genre                 0\n",
       "Publisher             0\n",
       "NA_Sales              0\n",
       "EU_Sales              0\n",
       "JP_Sales              0\n",
       "Other_Sales           0\n",
       "Global_Sales          0\n",
       "Critic_Score          0\n",
       "Critic_Count          0\n",
       "User_Score            0\n",
       "User_Count            0\n",
       "Developer             0\n",
       "Rating             6767\n",
       "dtype: int64"
      ]
     },
     "execution_count": 19,
     "metadata": {},
     "output_type": "execute_result"
    }
   ],
   "source": [
    "df.isna().sum() # Checking the dataframe again"
   ]
  },
  {
   "cell_type": "markdown",
   "id": "39c9956e",
   "metadata": {},
   "source": [
    "### Converting the datatype of Year of Release to int"
   ]
  },
  {
   "cell_type": "code",
   "execution_count": 20,
   "id": "ba36e5f1",
   "metadata": {},
   "outputs": [],
   "source": [
    "# Converting the datatype of Year of Release to float \n",
    "df['Year_of_Release'] = df['Year_of_Release'].astype(float)"
   ]
  },
  {
   "cell_type": "code",
   "execution_count": 21,
   "id": "05a001bc",
   "metadata": {},
   "outputs": [],
   "source": [
    "df['Year_of_Release'].replace (np.nan, '2007', inplace= True)"
   ]
  },
  {
   "cell_type": "code",
   "execution_count": 22,
   "id": "a4fc685b",
   "metadata": {},
   "outputs": [],
   "source": [
    "df['Year_of_Release'] = df['Year_of_Release'].astype(int)"
   ]
  },
  {
   "cell_type": "markdown",
   "id": "9a90ae4e",
   "metadata": {},
   "source": [
    "### Replacing the null value in Rating with 'E'"
   ]
  },
  {
   "cell_type": "code",
   "execution_count": 23,
   "id": "9a8d9212",
   "metadata": {},
   "outputs": [],
   "source": [
    "df['Rating'].replace (np.nan, 'E', inplace= True)"
   ]
  },
  {
   "cell_type": "code",
   "execution_count": 24,
   "id": "96bbb34d",
   "metadata": {},
   "outputs": [
    {
     "data": {
      "text/html": [
       "<div>\n",
       "<style scoped>\n",
       "    .dataframe tbody tr th:only-of-type {\n",
       "        vertical-align: middle;\n",
       "    }\n",
       "\n",
       "    .dataframe tbody tr th {\n",
       "        vertical-align: top;\n",
       "    }\n",
       "\n",
       "    .dataframe thead th {\n",
       "        text-align: right;\n",
       "    }\n",
       "</style>\n",
       "<table border=\"1\" class=\"dataframe\">\n",
       "  <thead>\n",
       "    <tr style=\"text-align: right;\">\n",
       "      <th></th>\n",
       "      <th>Name</th>\n",
       "      <th>Platform</th>\n",
       "      <th>Year_of_Release</th>\n",
       "      <th>Genre</th>\n",
       "      <th>Publisher</th>\n",
       "      <th>NA_Sales</th>\n",
       "      <th>EU_Sales</th>\n",
       "      <th>JP_Sales</th>\n",
       "      <th>Other_Sales</th>\n",
       "      <th>Global_Sales</th>\n",
       "      <th>Critic_Score</th>\n",
       "      <th>Critic_Count</th>\n",
       "      <th>User_Score</th>\n",
       "      <th>User_Count</th>\n",
       "      <th>Developer</th>\n",
       "      <th>Rating</th>\n",
       "    </tr>\n",
       "  </thead>\n",
       "  <tbody>\n",
       "  </tbody>\n",
       "</table>\n",
       "</div>"
      ],
      "text/plain": [
       "Empty DataFrame\n",
       "Columns: [Name, Platform, Year_of_Release, Genre, Publisher, NA_Sales, EU_Sales, JP_Sales, Other_Sales, Global_Sales, Critic_Score, Critic_Count, User_Score, User_Count, Developer, Rating]\n",
       "Index: []"
      ]
     },
     "execution_count": 24,
     "metadata": {},
     "output_type": "execute_result"
    }
   ],
   "source": [
    "# check for any empty space in Year_of_Release\n",
    "df.query(''' `Year_of_Release` == ' ' ''')"
   ]
  },
  {
   "cell_type": "code",
   "execution_count": 25,
   "id": "9fd9edf8",
   "metadata": {},
   "outputs": [
    {
     "data": {
      "text/html": [
       "<div>\n",
       "<style scoped>\n",
       "    .dataframe tbody tr th:only-of-type {\n",
       "        vertical-align: middle;\n",
       "    }\n",
       "\n",
       "    .dataframe tbody tr th {\n",
       "        vertical-align: top;\n",
       "    }\n",
       "\n",
       "    .dataframe thead th {\n",
       "        text-align: right;\n",
       "    }\n",
       "</style>\n",
       "<table border=\"1\" class=\"dataframe\">\n",
       "  <thead>\n",
       "    <tr style=\"text-align: right;\">\n",
       "      <th></th>\n",
       "      <th>Name</th>\n",
       "      <th>Platform</th>\n",
       "      <th>Year_of_Release</th>\n",
       "      <th>Genre</th>\n",
       "      <th>Publisher</th>\n",
       "      <th>NA_Sales</th>\n",
       "      <th>EU_Sales</th>\n",
       "      <th>JP_Sales</th>\n",
       "      <th>Other_Sales</th>\n",
       "      <th>Global_Sales</th>\n",
       "      <th>Critic_Score</th>\n",
       "      <th>Critic_Count</th>\n",
       "      <th>User_Score</th>\n",
       "      <th>User_Count</th>\n",
       "      <th>Developer</th>\n",
       "      <th>Rating</th>\n",
       "    </tr>\n",
       "  </thead>\n",
       "  <tbody>\n",
       "  </tbody>\n",
       "</table>\n",
       "</div>"
      ],
      "text/plain": [
       "Empty DataFrame\n",
       "Columns: [Name, Platform, Year_of_Release, Genre, Publisher, NA_Sales, EU_Sales, JP_Sales, Other_Sales, Global_Sales, Critic_Score, Critic_Count, User_Score, User_Count, Developer, Rating]\n",
       "Index: []"
      ]
     },
     "execution_count": 25,
     "metadata": {},
     "output_type": "execute_result"
    }
   ],
   "source": [
    "# query the original dataframe to get the Year_of_Release that have NaN values\n",
    "df.query(''' `Year_of_Release`.isna() ''')"
   ]
  },
  {
   "cell_type": "code",
   "execution_count": 26,
   "id": "2f2dd0df",
   "metadata": {},
   "outputs": [
    {
     "data": {
      "text/plain": [
       "Name               0\n",
       "Platform           0\n",
       "Year_of_Release    0\n",
       "Genre              0\n",
       "Publisher          0\n",
       "NA_Sales           0\n",
       "EU_Sales           0\n",
       "JP_Sales           0\n",
       "Other_Sales        0\n",
       "Global_Sales       0\n",
       "Critic_Score       0\n",
       "Critic_Count       0\n",
       "User_Score         0\n",
       "User_Count         0\n",
       "Developer          0\n",
       "Rating             0\n",
       "dtype: int64"
      ]
     },
     "execution_count": 26,
     "metadata": {},
     "output_type": "execute_result"
    }
   ],
   "source": [
    "df.isna().sum() # Checking the dataframe again"
   ]
  },
  {
   "cell_type": "markdown",
   "id": "2d7c4eeb",
   "metadata": {},
   "source": [
    "### Converting the datatype of Critic and User_Scores and User_Counts all to float to be useful"
   ]
  },
  {
   "cell_type": "code",
   "execution_count": 27,
   "id": "e0217760",
   "metadata": {},
   "outputs": [],
   "source": [
    "# Converting the datatype of Critic and User_Scores and User_Counts all to float \n",
    "df['Critic_Score'] = df['Critic_Score'].astype(float) \n",
    "df['Critic_Count'] = df['Critic_Count'].astype(float) \n",
    "df['User_Score'] = df['User_Score'].astype(float) \n",
    "df['User_Count'] = df['User_Count'].astype(float)"
   ]
  },
  {
   "cell_type": "code",
   "execution_count": 28,
   "id": "b5de3444",
   "metadata": {},
   "outputs": [
    {
     "name": "stdout",
     "output_type": "stream",
     "text": [
      "<class 'pandas.core.frame.DataFrame'>\n",
      "Int64Index: 16717 entries, 0 to 16718\n",
      "Data columns (total 16 columns):\n",
      " #   Column           Non-Null Count  Dtype  \n",
      "---  ------           --------------  -----  \n",
      " 0   Name             16717 non-null  object \n",
      " 1   Platform         16717 non-null  object \n",
      " 2   Year_of_Release  16717 non-null  int32  \n",
      " 3   Genre            16717 non-null  object \n",
      " 4   Publisher        16717 non-null  object \n",
      " 5   NA_Sales         16717 non-null  float64\n",
      " 6   EU_Sales         16717 non-null  float64\n",
      " 7   JP_Sales         16717 non-null  float64\n",
      " 8   Other_Sales      16717 non-null  float64\n",
      " 9   Global_Sales     16717 non-null  float64\n",
      " 10  Critic_Score     16717 non-null  float64\n",
      " 11  Critic_Count     16717 non-null  float64\n",
      " 12  User_Score       16717 non-null  float64\n",
      " 13  User_Count       16717 non-null  float64\n",
      " 14  Developer        16717 non-null  object \n",
      " 15  Rating           16717 non-null  object \n",
      "dtypes: float64(9), int32(1), object(6)\n",
      "memory usage: 2.6+ MB\n"
     ]
    }
   ],
   "source": [
    "df.info()"
   ]
  },
  {
   "cell_type": "code",
   "execution_count": 29,
   "id": "cbe497b6",
   "metadata": {},
   "outputs": [],
   "source": [
    "df_numeric = df.select_dtypes(exclude = \"object\")"
   ]
  },
  {
   "cell_type": "code",
   "execution_count": 30,
   "id": "c56748f3",
   "metadata": {},
   "outputs": [
    {
     "data": {
      "text/plain": [
       "<Axes: >"
      ]
     },
     "execution_count": 30,
     "metadata": {},
     "output_type": "execute_result"
    },
    {
     "data": {
      "image/png": "[encoded data removed]",
      "text/plain": [
       "<Figure size 640x480 with 2 Axes>"
      ]
     },
     "metadata": {},
     "output_type": "display_data"
    }
   ],
   "source": [
    "#Checking the correLation between the columns \n",
    "plt.figure(dpi=100)\n",
    "sns.heatmap(df_numeric.corr(), annot = True)"
   ]
  },
  {
   "cell_type": "markdown",
   "id": "ab2565ce",
   "metadata": {},
   "source": [
    "### (a) Checking which variables/columns in the video game dataset or a combination of them best predicts \"global sales\"\n"
   ]
  },
  {
   "cell_type": "code",
   "execution_count": 31,
   "id": "b28eed8d",
   "metadata": {},
   "outputs": [],
   "source": [
    "# Split data into input and output variables represented as X and y\n",
    "X = df_numeric.drop(['Global_Sales'], axis = 1)\n",
    "y = df_numeric['Global_Sales'] # value to be predicted"
   ]
  },
  {
   "cell_type": "code",
   "execution_count": 32,
   "id": "f2e3d06c",
   "metadata": {},
   "outputs": [],
   "source": [
    "# Split data into training and testing sets \n",
    "X_train, X_test, y_train, y_test = train_test_split(X, y, test_size=0.2, random_state=42)"
   ]
  },
  {
   "cell_type": "markdown",
   "id": "76ab301e",
   "metadata": {},
   "source": [
    "### Scaling the dataset"
   ]
  },
  {
   "cell_type": "code",
   "execution_count": 33,
   "id": "dca80c4a",
   "metadata": {},
   "outputs": [],
   "source": [
    "#To use reguLarization, we can appLy StandardScaLer \n",
    "scale = StandardScaler()\n",
    "scale.fit(X_train)\n",
    "X_train_scaled = scale.transform(X_train)\n",
    "X_test_scaled = scale.transform(X_test)"
   ]
  },
  {
   "cell_type": "code",
   "execution_count": 34,
   "id": "685ef9fd",
   "metadata": {},
   "outputs": [],
   "source": [
    "#converting to pandas dataframe\n",
    "X_train_scaled = pd.DataFrame(X_train_scaled, columns = X_train.columns)\n",
    "X_test_scaled = pd.DataFrame(X_test_scaled, columns = X_test.columns)"
   ]
  },
  {
   "cell_type": "markdown",
   "id": "dc2b659f",
   "metadata": {},
   "source": [
    "### Checking North America Sales against Global Sales"
   ]
  },
  {
   "cell_type": "code",
   "execution_count": 35,
   "id": "d5377910",
   "metadata": {},
   "outputs": [
    {
     "name": "stdout",
     "output_type": "stream",
     "text": [
      "The result of the mean absolute error is: 0.20\n",
      "The result of the mean squared error is : 0.29\n",
      "The result of the root mean squared error is :0.54\n",
      "The result of the coefficient of determination is: 0.93\n"
     ]
    }
   ],
   "source": [
    "X_train_scaled['NA_Sales'].shape\n",
    "# Reshaping the attribute\n",
    "X_train_scaled_yt = X_train_scaled['NA_Sales'].to_numpy().reshape(-1,1)\n",
    "X_test_scaled_yt = X_test_scaled['NA_Sales'].to_numpy().reshape(-1,1)\n",
    "NA_Sales = LinearRegression() # fitting the modeL to a dataset using the LinearRegression\n",
    "# Train the modeL using the training sets\n",
    "NA_Sales.fit(X_train_scaled_yt,y_train)\n",
    "intercept = NA_Sales.intercept_\n",
    "coefficient = NA_Sales.coef_\n",
    "linear_model = 'Sales = {:.2f} + {:.2f}*NA_Sales'.format(intercept, coefficient[0])\n",
    "Sales_pred = NA_Sales.predict(X_test_scaled_yt)\n",
    "# The mean absolute error\n",
    "mean_abs = mean_absolute_error(y_test,Sales_pred)\n",
    "# The mean squared error\n",
    "mean_squared = mean_squared_error(y_test,Sales_pred)\n",
    "print(f\"The result of the mean absolute error is: {mean_abs:.2f}\")\n",
    "print(f\"The result of the mean squared error is : {mean_squared:.2f}\")\n",
    "print(f\"The result of the root mean squared error is :{np.sqrt(mean_squared):.2f}\")\n",
    "print(f\"The result of the coefficient of determination is: {r2_score(y_test,Sales_pred):.2f}\")"
   ]
  },
  {
   "cell_type": "markdown",
   "id": "84ad3011",
   "metadata": {},
   "source": [
    "### Checking EU Sales against Global sales"
   ]
  },
  {
   "cell_type": "code",
   "execution_count": 36,
   "id": "ae1659d4",
   "metadata": {},
   "outputs": [
    {
     "name": "stdout",
     "output_type": "stream",
     "text": [
      "The result of the mean absolute error is: 0.24\n",
      "The result of the mean squared error is : 0.30\n",
      "The result of the root mean squared error is : 0.55\n",
      "The result of the coefficient of determination is: 0.93\n"
     ]
    }
   ],
   "source": [
    "X_train_scaled['EU_Sales'].shape\n",
    "# Reshaping the attribute\n",
    "X_train_scaled_yt = X_train_scaled['EU_Sales'].to_numpy().reshape(-1,1)\n",
    "X_test_scaled_yt = X_test_scaled['EU_Sales'].to_numpy().reshape(-1,1)\n",
    "EU_Sales =LinearRegression() # fitting the modeL to a dataset using the LinearRegression\n",
    "# Train the modeL using the training sets\n",
    "EU_Sales.fit(X_train_scaled_yt,y_train)\n",
    "intercept = EU_Sales.intercept_\n",
    "coefficient = EU_Sales.coef_\n",
    "linear_model = 'Sales = {:.2f} + {:.2f}*EU_Sales'.format(intercept, coefficient[0])\n",
    "Sales_pred = EU_Sales.predict(X_test_scaled_yt)\n",
    "# The mean absoLute error\n",
    "mean_abs = mean_absolute_error(y_test, Sales_pred)\n",
    "# The mean squared error\n",
    "mean_squared = mean_squared_error(y_test,Sales_pred)\n",
    "print(f\"The result of the mean absolute error is: {mean_abs:.2f}\")\n",
    "print(f\"The result of the mean squared error is : {mean_squared:.2f}\")\n",
    "print(f\"The result of the root mean squared error is : {np.sqrt(mean_squared):.2f}\") \n",
    "print(f\"The result of the coefficient of determination is: {r2_score(y_test,Sales_pred):.2f}\")"
   ]
  },
  {
   "cell_type": "markdown",
   "id": "fe697ef6",
   "metadata": {},
   "source": [
    "### Checking Japan sales against Global sales"
   ]
  },
  {
   "cell_type": "code",
   "execution_count": 37,
   "id": "8efb668c",
   "metadata": {},
   "outputs": [
    {
     "name": "stdout",
     "output_type": "stream",
     "text": [
      "The result of the mean absolute error is: 0.52\n",
      "The result of the mean squared error is : 2.82\n",
      "The result of the root mean squared error is : 1.68\n",
      "The result of the coefficient of determination is: 0.32\n"
     ]
    }
   ],
   "source": [
    "X_train_scaled['JP_Sales'].shape\n",
    "# Reshaping the attribute\n",
    "X_train_scaled_yt = X_train_scaled['JP_Sales'].to_numpy().reshape(-1,1)\n",
    "X_test_scaled_yt = X_test_scaled['JP_Sales'].to_numpy().reshape(-1,1)\n",
    "JP_Sales = LinearRegression() # fitting the modeL to a dataset using the LinearRegression\n",
    "# Train the modeL using the training sets\n",
    "JP_Sales.fit(X_train_scaled_yt,y_train)\n",
    "intercept = JP_Sales.intercept_\n",
    "coefficient = JP_Sales.coef_\n",
    "linear_model = 'Sales = {:.2f} + {:.2f}*JP_Sales'.format(intercept, coefficient[0])\n",
    "Sales_pred = JP_Sales.predict(X_test_scaled_yt)\n",
    "# The mean absoLute error\n",
    "mean_abs = mean_absolute_error(y_test,Sales_pred)\n",
    "# The mean squared error\n",
    "mean_squared = mean_squared_error(y_test,Sales_pred)\n",
    "print(f\"The result of the mean absolute error is: {mean_abs:.2f}\")\n",
    "print(f\"The result of the mean squared error is : {mean_squared:.2f}\")\n",
    "print(f\"The result of the root mean squared error is : {np.sqrt(mean_squared):.2f}\") \n",
    "print(f\"The result of the coefficient of determination is: {r2_score(y_test,Sales_pred):.2f}\")"
   ]
  },
  {
   "cell_type": "markdown",
   "id": "28cafdc4",
   "metadata": {},
   "source": [
    "### Checking Other sales against Global sales"
   ]
  },
  {
   "cell_type": "code",
   "execution_count": 38,
   "id": "13fd26f9",
   "metadata": {},
   "outputs": [
    {
     "name": "stdout",
     "output_type": "stream",
     "text": [
      "The result of the mean absolute error is: 0.34\n",
      "The result of the mean squared error is : 1.17\n",
      "The result of the root mean squared error is : 1.08\n",
      "The result of the coefficient of determination is: 0.72\n"
     ]
    }
   ],
   "source": [
    "X_train_scaled['Other_Sales'].shape\n",
    "# Reshaping the attribute\n",
    "X_train_scaled_yt = X_train_scaled['Other_Sales'].to_numpy().reshape(-1,1) \n",
    "X_test_scaled_yt = X_test_scaled['Other_Sales'].to_numpy().reshape(-1,1)\n",
    "Other_Sales = LinearRegression() # fitting the modeL to a dataset using the LinearRegres\n",
    "# Train the modeL using the training sets\n",
    "Other_Sales.fit(X_train_scaled_yt,y_train)\n",
    "intercept = Other_Sales.intercept_\n",
    "coefficient = Other_Sales.coef_\n",
    "linear_model = 'Sales = {:.2f} + {:.2f}*Other_Sales'.format(intercept, coefficient[0])\n",
    "Sales_pred = Other_Sales.predict(X_test_scaled_yt)\n",
    "# The mean absoLute error\n",
    "mean_abs = mean_absolute_error(y_test,Sales_pred)\n",
    "# The mean squared error\n",
    "mean_squared = mean_squared_error(y_test,Sales_pred)\n",
    "print(f\"The result of the mean absolute error is: {mean_abs:.2f}\")\n",
    "print(f\"The result of the mean squared error is : {mean_squared:.2f}\")\n",
    "print(f\"The result of the root mean squared error is : {np.sqrt(mean_squared):.2f}\") \n",
    "print(f\"The result of the coefficient of determination is: {r2_score(y_test,Sales_pred):.2f}\")"
   ]
  },
  {
   "cell_type": "code",
   "execution_count": 39,
   "id": "0e77ca3f",
   "metadata": {},
   "outputs": [
    {
     "name": "stdout",
     "output_type": "stream",
     "text": [
      "The result of the mean absolute error is: 0.34\n",
      "The result of the mean squared error is : 1.17\n",
      "The result of the root mean squared error is : 1.08\n",
      "The result of the coefficient of determination is: 0.72\n"
     ]
    }
   ],
   "source": [
    "X_train_scaled['Critic_Score'].shape\n",
    "# Reshaping the attribute\n",
    "X_train_scaled_yt = X_train_scaled['Critic_Score'].to_numpy().reshape(-1,1)\n",
    "X_test_scaled_yt = X_test_scaled['Critic_Score'].to_numpy().reshape(-1,1)\n",
    "Critic_Score = LinearRegression() # fitting the modeL to a dataset using the LinearRegrE .\n",
    "# Train the modeL using the training sets\n",
    "Critic_Score.fit(X_train_scaled_yt,y_train)\n",
    "intercept = Critic_Score.intercept_\n",
    "coefficient = Critic_Score.coef_\n",
    "linear_model = 'Sales = {:.2f} + {:.2f}*Critic_Score'.format(intercept, coefficient[0])\n",
    "Sales_pred - Critic_Score.predict(X_test_scaled_yt)\n",
    "# The mean absoLute error\n",
    "mean_abs = mean_absolute_error(y_test,Sales_pred)\n",
    "# The mean squared error\n",
    "mean_squared = mean_squared_error(y_test,Sales_pred)\n",
    "print(f\"The result of the mean absolute error is: {mean_abs:.2f}\")\n",
    "print(f\"The result of the mean squared error is : {mean_squared:.2f}\")\n",
    "print(f\"The result of the root mean squared error is : {np.sqrt(mean_squared):.2f}\") \n",
    "print(f\"The result of the coefficient of determination is: {r2_score(y_test,Sales_pred):.2f}\")\n"
   ]
  },
  {
   "cell_type": "code",
   "execution_count": null,
   "id": "7aee55a4",
   "metadata": {},
   "outputs": [],
   "source": []
  },
  {
   "cell_type": "code",
   "execution_count": 40,
   "id": "abe0d0e8",
   "metadata": {},
   "outputs": [
    {
     "name": "stdout",
     "output_type": "stream",
     "text": [
      "The result of the mean absolute error is: 0.58\n",
      "The result of the mean squared error is : 3.90\n",
      "The result of the root mean squared error is : 1.98\n",
      "The result of the coefficient of determination is: 0.06\n"
     ]
    }
   ],
   "source": [
    "X_train_scaled['Critic_Count'].shape\n",
    "# Reshaping the attribute\n",
    "X_train_scaled_yt = X_train_scaled['Critic_Count'].to_numpy().reshape(-1,1) \n",
    "X_test_scaled_yt = X_test_scaled['Critic_Count'].to_numpy().reshape(-1,1)\n",
    "Critic_Count = LinearRegression() # fitting the modeL to a dataset using the LinearRegrE\n",
    "# Train the modeL using the training sets\n",
    "Critic_Count.fit(X_train_scaled_yt,y_train)\n",
    "intercept = Critic_Count.intercept_\n",
    "coefficient = Critic_Count.coef_\n",
    "linear_model = 'Sales = {:.2f} + {:.2f}*Critic_Count'.format(intercept, coefficient[0])\n",
    "Sales_pred = Critic_Count.predict(X_test_scaled_yt)\n",
    "# The mean absolute error\n",
    "mean_abs = mean_absolute_error(y_test,Sales_pred)\n",
    "# The mean squared error\n",
    "mean_squared = mean_squared_error(y_test,Sales_pred)\n",
    "print(f\"The result of the mean absolute error is: {mean_abs:.2f}\")\n",
    "print(f\"The result of the mean squared error is : {mean_squared:.2f}\")\n",
    "print(f\"The result of the root mean squared error is : {np.sqrt(mean_squared):.2f}\") \n",
    "print(f\"The result of the coefficient of determination is: {r2_score(y_test,Sales_pred):.2f}\")\n"
   ]
  },
  {
   "cell_type": "markdown",
   "id": "7391ffcc",
   "metadata": {},
   "source": [
    "#### Using the same numerical values as source variable in Multiple Linear Regression (MLR) "
   ]
  },
  {
   "cell_type": "code",
   "execution_count": 41,
   "id": "852e9936",
   "metadata": {},
   "outputs": [
    {
     "name": "stdout",
     "output_type": "stream",
     "text": [
      "The mean_absolute_error is: 0.00\n",
      "The result of the mean squared error is\t0.00\n",
      "The root mean squared error is : 0.01\n",
      "The coefficient of determination is: 1.00\n"
     ]
    }
   ],
   "source": [
    "mlr_sales = LinearRegression()\n",
    "# introduce the muLtipLe independent variables and train\n",
    "mlr_sales.fit(X_train_scaled,y_train)\n",
    "# test the modeL\n",
    "sales_preds = mlr_sales.predict(X_test_scaled)\n",
    "# evaLuate the performance of the modeL\n",
    "mean_abs = mean_absolute_error(y_test,sales_preds) \n",
    "mean_squared = mean_squared_error(y_test,sales_preds)\n",
    "print(f\"The mean_absolute_error is: {mean_abs:.2f}\")\n",
    "print(f\"The result of the mean squared error is\t{mean_squared:.2f}\")\n",
    "print(f\"The root mean squared error is : {np.sqrt(mean_squared):.2f}\")\n",
    "# The coefficient of determination: 1 is perfect prediction \n",
    "print(f\"The coefficient of determination is: {r2_score(y_test,sales_preds):.2f}\")\n"
   ]
  },
  {
   "cell_type": "code",
   "execution_count": 42,
   "id": "d8a64bdb",
   "metadata": {},
   "outputs": [
    {
     "name": "stdout",
     "output_type": "stream",
     "text": [
      "The mean_absolute_error is: 0.02\n",
      "The result of the mean squared error is : 0.00\n",
      "The root mean squared error is : 0.07\n",
      "The coefficient of determination is:  0.998965\n"
     ]
    }
   ],
   "source": [
    "# Keeping NA_SaLes','EU SaLes','JP SaLes as source variabLe to determine GlobaL sales \n",
    "mlr_sales = LinearRegression()\n",
    "# introduce the muLtipLe independent variabLes and train\n",
    "X_train_scaled_m = X_train_scaled[['NA_Sales','EU_Sales','JP_Sales']] \n",
    "X_test_scaled_m =  X_test_scaled[['NA_Sales','EU_Sales','JP_Sales']]\n",
    "mlr_sales.fit(X_train_scaled_m,y_train)\n",
    "# test the modeL\n",
    "sales_preds = mlr_sales.predict(X_test_scaled_m)\n",
    "# evaLuate the performance of the modeL\n",
    "mean_abs = mean_absolute_error(y_test,sales_preds) \n",
    "mean_squared = mean_squared_error(y_test,sales_preds)\n",
    "print(f\"The mean_absolute_error is: {mean_abs:.2f}\")\n",
    "print(f\"The result of the mean squared error is : {mean_squared:.2f}\") \n",
    "print(f\"The root mean squared error is : {np.sqrt(mean_squared):.2f}\")\n",
    "# The coefficient of determination: 1 is perfect prediction \n",
    "print(f\"The coefficient of determination is: {r2_score(y_test,sales_preds): f}\")\n"
   ]
  },
  {
   "cell_type": "markdown",
   "id": "2d5818d3",
   "metadata": {},
   "source": [
    "### b) Checking the effect number of critics & users as well as what/how their review scores have on the sales of Video games in North America, EU and Japan\n"
   ]
  },
  {
   "cell_type": "markdown",
   "id": "501ed8e4",
   "metadata": {},
   "source": [
    "### For JP_Sales"
   ]
  },
  {
   "cell_type": "code",
   "execution_count": 43,
   "id": "28447bc1",
   "metadata": {},
   "outputs": [],
   "source": [
    "# Getting the variables and the outcome\n",
    "X = df[['User_Score','User_Count','Critic_Score','Critic_Count']]\n",
    "y = df[['JP_Sales']]"
   ]
  },
  {
   "cell_type": "code",
   "execution_count": 44,
   "id": "1246348c",
   "metadata": {},
   "outputs": [],
   "source": [
    "X_train, X_test, y_train, y_test = train_test_split(X, y, test_size=0.2, random_state = 42)"
   ]
  },
  {
   "cell_type": "code",
   "execution_count": 45,
   "id": "58a3313f",
   "metadata": {},
   "outputs": [],
   "source": [
    "# Using StandardScaler to regularise\n",
    "scale_train = StandardScaler()\n",
    "scale_train.fit(X_train)\n",
    "X_train = scale_train.transform(X_train)\n",
    "X_test = scale_train.transform(X_test)"
   ]
  },
  {
   "cell_type": "markdown",
   "id": "9e7e9416",
   "metadata": {},
   "source": [
    "### Using various regression techniques"
   ]
  },
  {
   "cell_type": "code",
   "execution_count": 46,
   "id": "bdcababe",
   "metadata": {},
   "outputs": [],
   "source": [
    "# Random Forest Regression\n",
    "rf = RandomForestRegressor(n_estimators=100, random_state=42)\n",
    "rf.fit(X_train, y_train)\n",
    "y_pred_rf = rf.predict(X_test)"
   ]
  },
  {
   "cell_type": "code",
   "execution_count": 47,
   "id": "e27f9381",
   "metadata": {},
   "outputs": [],
   "source": [
    "# Multiple Linear Regression\n",
    "mlr = LinearRegression()\n",
    "mlr.fit(X_train, y_train)\n",
    "y_pred_mlr = mlr.predict(X_test)"
   ]
  },
  {
   "cell_type": "code",
   "execution_count": 48,
   "id": "a50ee79e",
   "metadata": {},
   "outputs": [],
   "source": [
    "# Lasso Regression\n",
    "lasso = Lasso(alpha=0.1)\n",
    "lasso.fit(X_train, y_train)\n",
    "y_pred_lasso = lasso.predict(X_test)"
   ]
  },
  {
   "cell_type": "code",
   "execution_count": 49,
   "id": "327a4827",
   "metadata": {},
   "outputs": [],
   "source": [
    "# Support Vector Regression\n",
    "svr = SVR(kernel='linear')\n",
    "svr.fit(X_train, y_train)\n",
    "y_pred_svr = svr.predict(X_test)"
   ]
  },
  {
   "cell_type": "code",
   "execution_count": 50,
   "id": "f1e296af",
   "metadata": {},
   "outputs": [],
   "source": [
    "# Ridge Regression\n",
    "ridge = Ridge(alpha=0.1)\n",
    "ridge.fit(X_train, y_train)\n",
    "y_pred_ridge = ridge.predict(X_test)"
   ]
  },
  {
   "cell_type": "code",
   "execution_count": 51,
   "id": "1e991afa",
   "metadata": {},
   "outputs": [],
   "source": [
    "# Decision Tree Regression\n",
    "tree_reg = tree.DecisionTreeRegressor()\n",
    "tree_reg.fit(X_train, y_train)\n",
    "y_pred_tree = tree_reg.predict(X_test)"
   ]
  },
  {
   "cell_type": "code",
   "execution_count": 52,
   "id": "c8086270",
   "metadata": {},
   "outputs": [
    {
     "name": "stdout",
     "output_type": "stream",
     "text": [
      "The Mean Squared Error for all the regressors\n",
      "\n",
      "Random Forest Regression MSE: 0.0957834363863293\n",
      "Lasso Regression MSE: 0.09557136078751914\n",
      "Support Vector Regression MSE: 0.09597812116059622\n",
      "Ridge Regression MSE: 0.09409070488948477\n",
      "Decision Tree Regression MSE: 0.12042019271175836\n",
      "Multiple Linear Regression MSE: 0.09409070365932497\n"
     ]
    }
   ],
   "source": [
    "print(\"The Mean Squared Error for all the regressors\\n\")\n",
    "print(\"Random Forest Regression MSE:\", mean_squared_error(y_test, y_pred_rf)) \n",
    "print(\"Lasso Regression MSE:\", mean_squared_error(y_test, y_pred_lasso)) \n",
    "print(\"Support Vector Regression MSE:\", mean_squared_error(y_test, y_pred_svr)) \n",
    "print(\"Ridge Regression MSE:\", mean_squared_error(y_test, y_pred_ridge)) \n",
    "print(\"Decision Tree Regression MSE:\", mean_squared_error(y_test, y_pred_tree)) \n",
    "print(\"Multiple Linear Regression MSE:\", mean_squared_error(y_test, y_pred_mlr))"
   ]
  },
  {
   "cell_type": "code",
   "execution_count": 53,
   "id": "63973050",
   "metadata": {},
   "outputs": [
    {
     "name": "stdout",
     "output_type": "stream",
     "text": [
      "Coefficient of determination for all the regressors\n",
      "\n",
      "Random Forest Regression R2: -0.002284686786507839\n",
      "Lasso Regression R2: -6.55126458852795e-05\n",
      "Support Vector Regression R2: -0.004321882102942265\n",
      "Ridge Regression R2: 0.01542817591853729\n",
      "Decision Tree Regression R2: -0.26008545619586787\n",
      "Multiple Linear Regression R2: 0.015428188791016817\n"
     ]
    }
   ],
   "source": [
    "print(\"Coefficient of determination for all the regressors\\n\") \n",
    "print(\"Random Forest Regression R2:\", r2_score(y_test, y_pred_rf)) \n",
    "print(\"Lasso Regression R2:\", r2_score(y_test, y_pred_lasso)) \n",
    "print(\"Support Vector Regression R2:\", r2_score(y_test, y_pred_svr)) \n",
    "print(\"Ridge Regression R2:\", r2_score(y_test, y_pred_ridge)) \n",
    "print(\"Decision Tree Regression R2:\",r2_score(y_test, y_pred_tree)) \n",
    "print(\"Multiple Linear Regression R2:\",r2_score(y_test, y_pred_mlr))"
   ]
  },
  {
   "cell_type": "markdown",
   "id": "aae41757",
   "metadata": {},
   "source": [
    "### For EU_Sales"
   ]
  },
  {
   "cell_type": "code",
   "execution_count": 54,
   "id": "9239b8b9",
   "metadata": {},
   "outputs": [],
   "source": [
    "# Getting the variables and the outcome\n",
    "X = df[['User_Score','User_Count','Critic_Score','Critic_Count']]\n",
    "y = df[['EU_Sales']]"
   ]
  },
  {
   "cell_type": "code",
   "execution_count": 55,
   "id": "5f2be707",
   "metadata": {},
   "outputs": [],
   "source": [
    "X_train, X_test, y_train, y_test = train_test_split(X, y, test_size=0.2, random_state = 42)"
   ]
  },
  {
   "cell_type": "code",
   "execution_count": 56,
   "id": "315f6d00",
   "metadata": {},
   "outputs": [],
   "source": [
    "# Using StandardScaler to regularise\n",
    "scale_train = StandardScaler()\n",
    "scale_train.fit(X_train)\n",
    "X_train = scale_train.transform(X_train)\n",
    "X_test = scale_train.transform(X_test)"
   ]
  },
  {
   "cell_type": "markdown",
   "id": "b49e7290",
   "metadata": {},
   "source": [
    "### Using various regression techniques"
   ]
  },
  {
   "cell_type": "code",
   "execution_count": 57,
   "id": "eb19c881",
   "metadata": {},
   "outputs": [],
   "source": [
    "# Random Forest Regression\n",
    "rf = RandomForestRegressor(n_estimators=100, random_state=42)\n",
    "rf.fit(X_train, y_train)\n",
    "y_pred_rf = rf.predict(X_test)"
   ]
  },
  {
   "cell_type": "code",
   "execution_count": 58,
   "id": "280e8774",
   "metadata": {},
   "outputs": [],
   "source": [
    "# Multiple Linear Regression\n",
    "mlr = LinearRegression()\n",
    "mlr.fit(X_train, y_train)\n",
    "y_pred_mlr = mlr.predict(X_test)"
   ]
  },
  {
   "cell_type": "code",
   "execution_count": 59,
   "id": "8eef516e",
   "metadata": {},
   "outputs": [],
   "source": [
    "# Lasso Regression\n",
    "lasso = Lasso(alpha=0.1)\n",
    "lasso.fit(X_train, y_train)\n",
    "y_pred_lasso = lasso.predict(X_test)"
   ]
  },
  {
   "cell_type": "code",
   "execution_count": 60,
   "id": "349d3251",
   "metadata": {},
   "outputs": [],
   "source": [
    "# Support Vector Regression\n",
    "svr = SVR(kernel='linear')\n",
    "svr.fit(X_train, y_train)\n",
    "y_pred_svr = svr.predict(X_test)"
   ]
  },
  {
   "cell_type": "code",
   "execution_count": 61,
   "id": "8c19da01",
   "metadata": {},
   "outputs": [],
   "source": [
    "# Ridge Regression\n",
    "ridge = Ridge(alpha=0.1)\n",
    "ridge.fit(X_train, y_train)\n",
    "y_pred_ridge = ridge.predict(X_test)"
   ]
  },
  {
   "cell_type": "code",
   "execution_count": 62,
   "id": "0c8c1f5e",
   "metadata": {},
   "outputs": [],
   "source": [
    "# Decision Tree Regression\n",
    "tree_reg = tree.DecisionTreeRegressor()\n",
    "tree_reg.fit(X_train, y_train)\n",
    "y_pred_tree = tree_reg.predict(X_test)"
   ]
  },
  {
   "cell_type": "code",
   "execution_count": 63,
   "id": "7147d346",
   "metadata": {},
   "outputs": [
    {
     "name": "stdout",
     "output_type": "stream",
     "text": [
      "The Mean Squared Error for all the regressors\n",
      "\n",
      "Random Forest Regression MSE: 0.46833939313800377\n",
      "Lasso Regression MSE: 0.4745686177386363\n",
      "Support Vector Regression MSE: 0.46612978811019573\n",
      "Ridge Regression MSE: 0.4569305617271751\n",
      "Decision Tree Regression MSE: 0.6101592370420299\n",
      "Multiple Linear Regression MSE: 0.45693060123940354\n"
     ]
    }
   ],
   "source": [
    "print(\"The Mean Squared Error for all the regressors\\n\")\n",
    "print(\"Random Forest Regression MSE:\", mean_squared_error(y_test, y_pred_rf)) \n",
    "print(\"Lasso Regression MSE:\", mean_squared_error(y_test, y_pred_lasso)) \n",
    "print(\"Support Vector Regression MSE:\", mean_squared_error(y_test, y_pred_svr)) \n",
    "print(\"Ridge Regression MSE:\", mean_squared_error(y_test, y_pred_ridge)) \n",
    "print(\"Decision Tree Regression MSE:\", mean_squared_error(y_test, y_pred_tree)) \n",
    "print(\"Multiple Linear Regression MSE:\", mean_squared_error(y_test, y_pred_mlr))"
   ]
  },
  {
   "cell_type": "code",
   "execution_count": 64,
   "id": "926212a3",
   "metadata": {},
   "outputs": [
    {
     "name": "stdout",
     "output_type": "stream",
     "text": [
      "Coefficient of determination for all the regressors\n",
      "\n",
      "Random Forest Regression R2: 0.03640989567427777\n",
      "Lasso Regression R2: 0.023593508091388382\n",
      "Support Vector Regression R2: 0.04095607216606978\n",
      "Ridge Regression R2: 0.0598831230185245\n",
      "Decision Tree Regression R2: -0.2553789228304051\n",
      "Multiple Linear Regression R2: 0.05988304172364978\n"
     ]
    }
   ],
   "source": [
    "print(\"Coefficient of determination for all the regressors\\n\") \n",
    "print(\"Random Forest Regression R2:\", r2_score(y_test, y_pred_rf)) \n",
    "print(\"Lasso Regression R2:\", r2_score(y_test, y_pred_lasso)) \n",
    "print(\"Support Vector Regression R2:\", r2_score(y_test, y_pred_svr)) \n",
    "print(\"Ridge Regression R2:\", r2_score(y_test, y_pred_ridge)) \n",
    "print(\"Decision Tree Regression R2:\",r2_score(y_test, y_pred_tree)) \n",
    "print(\"Multiple Linear Regression R2:\",r2_score(y_test, y_pred_mlr))"
   ]
  },
  {
   "cell_type": "markdown",
   "id": "47baa0ba",
   "metadata": {},
   "source": [
    "### For NA_Sales"
   ]
  },
  {
   "cell_type": "code",
   "execution_count": 65,
   "id": "c1b49c03",
   "metadata": {},
   "outputs": [],
   "source": [
    "# Getting the variables and the outcome\n",
    "X = df[['User_Score','User_Count','Critic_Score','Critic_Count']]\n",
    "y = df[['NA_Sales']]"
   ]
  },
  {
   "cell_type": "code",
   "execution_count": 66,
   "id": "71a5ac0b",
   "metadata": {},
   "outputs": [],
   "source": [
    "X_train, X_test, y_train, y_test = train_test_split(X, y, test_size=0.2, random_state = 42)"
   ]
  },
  {
   "cell_type": "code",
   "execution_count": 67,
   "id": "5d426941",
   "metadata": {},
   "outputs": [],
   "source": [
    "# Using StandardScaler to regularise\n",
    "scale_train = StandardScaler()\n",
    "scale_train.fit(X_train)\n",
    "X_train = scale_train.transform(X_train)\n",
    "X_test = scale_train.transform(X_test)"
   ]
  },
  {
   "cell_type": "markdown",
   "id": "9556a260",
   "metadata": {},
   "source": [
    "### Using various regression techniques"
   ]
  },
  {
   "cell_type": "code",
   "execution_count": 68,
   "id": "df6a0a78",
   "metadata": {},
   "outputs": [],
   "source": [
    "# Random Forest Regression\n",
    "rf = RandomForestRegressor(n_estimators=100, random_state=42)\n",
    "rf.fit(X_train, y_train)\n",
    "y_pred_rf = rf.predict(X_test)"
   ]
  },
  {
   "cell_type": "code",
   "execution_count": 69,
   "id": "2c69d56e",
   "metadata": {},
   "outputs": [],
   "source": [
    "# Multiple Linear Regression\n",
    "mlr = LinearRegression()\n",
    "mlr.fit(X_train, y_train)\n",
    "y_pred_mlr = mlr.predict(X_test)"
   ]
  },
  {
   "cell_type": "code",
   "execution_count": 70,
   "id": "13268aa3",
   "metadata": {},
   "outputs": [],
   "source": [
    "# Lasso Regression\n",
    "lasso = Lasso(alpha=0.1)\n",
    "lasso.fit(X_train, y_train)\n",
    "y_pred_lasso = lasso.predict(X_test)"
   ]
  },
  {
   "cell_type": "code",
   "execution_count": 71,
   "id": "509f4826",
   "metadata": {},
   "outputs": [],
   "source": [
    "# Support Vector Regression\n",
    "svr = SVR(kernel='linear')\n",
    "svr.fit(X_train, y_train)\n",
    "y_pred_svr = svr.predict(X_test)"
   ]
  },
  {
   "cell_type": "code",
   "execution_count": 72,
   "id": "fdc113d9",
   "metadata": {},
   "outputs": [],
   "source": [
    "# Ridge Regression\n",
    "ridge = Ridge(alpha=0.1)\n",
    "ridge.fit(X_train, y_train)\n",
    "y_pred_ridge = ridge.predict(X_test)"
   ]
  },
  {
   "cell_type": "code",
   "execution_count": 73,
   "id": "3b4769ae",
   "metadata": {},
   "outputs": [],
   "source": [
    "# Decision Tree Regression\n",
    "tree_reg = tree.DecisionTreeRegressor()\n",
    "tree_reg.fit(X_train, y_train)\n",
    "y_pred_tree = tree_reg.predict(X_test)"
   ]
  },
  {
   "cell_type": "code",
   "execution_count": 74,
   "id": "d74e8ba8",
   "metadata": {},
   "outputs": [
    {
     "name": "stdout",
     "output_type": "stream",
     "text": [
      "The Mean Squared Error for all the regressors\n",
      "\n",
      "Random Forest Regression MSE: 0.9846679056784772\n",
      "Lasso Regression MSE: 0.992957902786185\n",
      "Support Vector Regression MSE: 1.011410029514687\n",
      "Ridge Regression MSE: 0.9732548725094292\n",
      "Decision Tree Regression MSE: 1.1854794278260503\n",
      "Multiple Linear Regression MSE: 0.973254864852971\n"
     ]
    }
   ],
   "source": [
    "print(\"The Mean Squared Error for all the regressors\\n\")\n",
    "print(\"Random Forest Regression MSE:\", mean_squared_error(y_test, y_pred_rf)) \n",
    "print(\"Lasso Regression MSE:\", mean_squared_error(y_test, y_pred_lasso)) \n",
    "print(\"Support Vector Regression MSE:\", mean_squared_error(y_test, y_pred_svr)) \n",
    "print(\"Ridge Regression MSE:\", mean_squared_error(y_test, y_pred_ridge)) \n",
    "print(\"Decision Tree Regression MSE:\", mean_squared_error(y_test, y_pred_tree)) \n",
    "print(\"Multiple Linear Regression MSE:\", mean_squared_error(y_test, y_pred_mlr))"
   ]
  },
  {
   "cell_type": "code",
   "execution_count": 75,
   "id": "872c9c62",
   "metadata": {},
   "outputs": [
    {
     "name": "stdout",
     "output_type": "stream",
     "text": [
      "Coefficient of determination for all the regressors\n",
      "\n",
      "Random Forest Regression R2: 0.046512173406840995\n",
      "Lasso Regression R2: 0.03848468385517789\n",
      "Support Vector Regression R2: 0.020616854398242457\n",
      "Ridge Regression R2: 0.05756380627558255\n",
      "Decision Tree Regression R2: -0.14794053567726562\n",
      "Multiple Linear Regression R2: 0.05756381368959462\n"
     ]
    }
   ],
   "source": [
    "print(\"Coefficient of determination for all the regressors\\n\") \n",
    "print(\"Random Forest Regression R2:\", r2_score(y_test, y_pred_rf)) \n",
    "print(\"Lasso Regression R2:\", r2_score(y_test, y_pred_lasso)) \n",
    "print(\"Support Vector Regression R2:\", r2_score(y_test, y_pred_svr)) \n",
    "print(\"Ridge Regression R2:\", r2_score(y_test, y_pred_ridge)) \n",
    "print(\"Decision Tree Regression R2:\",r2_score(y_test, y_pred_tree)) \n",
    "print(\"Multiple Linear Regression R2:\",r2_score(y_test, y_pred_mlr))"
   ]
  },
  {
   "cell_type": "code",
   "execution_count": null,
   "id": "168dbd30",
   "metadata": {},
   "outputs": [],
   "source": []
  },
  {
   "cell_type": "markdown",
   "id": "822f59ab",
   "metadata": {},
   "source": [
    "### For the purpose of Classification"
   ]
  },
  {
   "cell_type": "code",
   "execution_count": 76,
   "id": "898e59db",
   "metadata": {},
   "outputs": [],
   "source": [
    "# Changing all categoricaL variables to numericaL ones using LabeL encoding \n",
    "label_encoder = LabelEncoder()\n",
    "df['Platform_Num'] = label_encoder.fit_transform(df['Platform']) \n",
    "df['Rating_Num'] = label_encoder.fit_transform(df['Rating']) \n",
    "df['Genre_Num'] = label_encoder.fit_transform(df['Genre'])"
   ]
  },
  {
   "cell_type": "code",
   "execution_count": 77,
   "id": "a26ef4a5",
   "metadata": {},
   "outputs": [
    {
     "data": {
      "text/html": [
       "<div>\n",
       "<style scoped>\n",
       "    .dataframe tbody tr th:only-of-type {\n",
       "        vertical-align: middle;\n",
       "    }\n",
       "\n",
       "    .dataframe tbody tr th {\n",
       "        vertical-align: top;\n",
       "    }\n",
       "\n",
       "    .dataframe thead th {\n",
       "        text-align: right;\n",
       "    }\n",
       "</style>\n",
       "<table border=\"1\" class=\"dataframe\">\n",
       "  <thead>\n",
       "    <tr style=\"text-align: right;\">\n",
       "      <th></th>\n",
       "      <th>Year_of_Release</th>\n",
       "      <th>NA_Sales</th>\n",
       "      <th>EU_Sales</th>\n",
       "      <th>JP_Sales</th>\n",
       "      <th>Other_Sales</th>\n",
       "      <th>Global_Sales</th>\n",
       "      <th>Critic_Score</th>\n",
       "      <th>Critic_Count</th>\n",
       "      <th>User_Score</th>\n",
       "      <th>User_Count</th>\n",
       "      <th>Platform_Num</th>\n",
       "      <th>Rating_Num</th>\n",
       "      <th>Genre_Num</th>\n",
       "    </tr>\n",
       "  </thead>\n",
       "  <tbody>\n",
       "    <tr>\n",
       "      <th>0</th>\n",
       "      <td>2006</td>\n",
       "      <td>41.36</td>\n",
       "      <td>28.96</td>\n",
       "      <td>3.77</td>\n",
       "      <td>8.45</td>\n",
       "      <td>82.53</td>\n",
       "      <td>76.0</td>\n",
       "      <td>51.0</td>\n",
       "      <td>8.0</td>\n",
       "      <td>322.0</td>\n",
       "      <td>26</td>\n",
       "      <td>1</td>\n",
       "      <td>10</td>\n",
       "    </tr>\n",
       "    <tr>\n",
       "      <th>1</th>\n",
       "      <td>1985</td>\n",
       "      <td>29.08</td>\n",
       "      <td>3.58</td>\n",
       "      <td>6.81</td>\n",
       "      <td>0.77</td>\n",
       "      <td>40.24</td>\n",
       "      <td>69.0</td>\n",
       "      <td>21.0</td>\n",
       "      <td>7.5</td>\n",
       "      <td>24.0</td>\n",
       "      <td>11</td>\n",
       "      <td>1</td>\n",
       "      <td>4</td>\n",
       "    </tr>\n",
       "    <tr>\n",
       "      <th>2</th>\n",
       "      <td>2008</td>\n",
       "      <td>15.68</td>\n",
       "      <td>12.76</td>\n",
       "      <td>3.79</td>\n",
       "      <td>3.29</td>\n",
       "      <td>35.52</td>\n",
       "      <td>82.0</td>\n",
       "      <td>73.0</td>\n",
       "      <td>8.3</td>\n",
       "      <td>709.0</td>\n",
       "      <td>26</td>\n",
       "      <td>1</td>\n",
       "      <td>6</td>\n",
       "    </tr>\n",
       "    <tr>\n",
       "      <th>3</th>\n",
       "      <td>2009</td>\n",
       "      <td>15.61</td>\n",
       "      <td>10.93</td>\n",
       "      <td>3.28</td>\n",
       "      <td>2.95</td>\n",
       "      <td>32.77</td>\n",
       "      <td>80.0</td>\n",
       "      <td>73.0</td>\n",
       "      <td>8.0</td>\n",
       "      <td>192.0</td>\n",
       "      <td>26</td>\n",
       "      <td>1</td>\n",
       "      <td>10</td>\n",
       "    </tr>\n",
       "    <tr>\n",
       "      <th>4</th>\n",
       "      <td>1996</td>\n",
       "      <td>11.27</td>\n",
       "      <td>8.89</td>\n",
       "      <td>10.22</td>\n",
       "      <td>1.00</td>\n",
       "      <td>31.37</td>\n",
       "      <td>69.0</td>\n",
       "      <td>21.0</td>\n",
       "      <td>7.5</td>\n",
       "      <td>24.0</td>\n",
       "      <td>5</td>\n",
       "      <td>1</td>\n",
       "      <td>7</td>\n",
       "    </tr>\n",
       "    <tr>\n",
       "      <th>...</th>\n",
       "      <td>...</td>\n",
       "      <td>...</td>\n",
       "      <td>...</td>\n",
       "      <td>...</td>\n",
       "      <td>...</td>\n",
       "      <td>...</td>\n",
       "      <td>...</td>\n",
       "      <td>...</td>\n",
       "      <td>...</td>\n",
       "      <td>...</td>\n",
       "      <td>...</td>\n",
       "      <td>...</td>\n",
       "      <td>...</td>\n",
       "    </tr>\n",
       "    <tr>\n",
       "      <th>16714</th>\n",
       "      <td>2016</td>\n",
       "      <td>0.00</td>\n",
       "      <td>0.00</td>\n",
       "      <td>0.01</td>\n",
       "      <td>0.00</td>\n",
       "      <td>0.01</td>\n",
       "      <td>69.0</td>\n",
       "      <td>21.0</td>\n",
       "      <td>7.5</td>\n",
       "      <td>24.0</td>\n",
       "      <td>17</td>\n",
       "      <td>1</td>\n",
       "      <td>0</td>\n",
       "    </tr>\n",
       "    <tr>\n",
       "      <th>16715</th>\n",
       "      <td>2006</td>\n",
       "      <td>0.00</td>\n",
       "      <td>0.01</td>\n",
       "      <td>0.00</td>\n",
       "      <td>0.00</td>\n",
       "      <td>0.01</td>\n",
       "      <td>69.0</td>\n",
       "      <td>21.0</td>\n",
       "      <td>7.5</td>\n",
       "      <td>24.0</td>\n",
       "      <td>28</td>\n",
       "      <td>1</td>\n",
       "      <td>10</td>\n",
       "    </tr>\n",
       "    <tr>\n",
       "      <th>16716</th>\n",
       "      <td>2016</td>\n",
       "      <td>0.00</td>\n",
       "      <td>0.00</td>\n",
       "      <td>0.01</td>\n",
       "      <td>0.00</td>\n",
       "      <td>0.01</td>\n",
       "      <td>69.0</td>\n",
       "      <td>21.0</td>\n",
       "      <td>7.5</td>\n",
       "      <td>24.0</td>\n",
       "      <td>20</td>\n",
       "      <td>1</td>\n",
       "      <td>1</td>\n",
       "    </tr>\n",
       "    <tr>\n",
       "      <th>16717</th>\n",
       "      <td>2003</td>\n",
       "      <td>0.01</td>\n",
       "      <td>0.00</td>\n",
       "      <td>0.00</td>\n",
       "      <td>0.00</td>\n",
       "      <td>0.01</td>\n",
       "      <td>69.0</td>\n",
       "      <td>21.0</td>\n",
       "      <td>7.5</td>\n",
       "      <td>24.0</td>\n",
       "      <td>6</td>\n",
       "      <td>1</td>\n",
       "      <td>4</td>\n",
       "    </tr>\n",
       "    <tr>\n",
       "      <th>16718</th>\n",
       "      <td>2016</td>\n",
       "      <td>0.00</td>\n",
       "      <td>0.00</td>\n",
       "      <td>0.01</td>\n",
       "      <td>0.00</td>\n",
       "      <td>0.01</td>\n",
       "      <td>69.0</td>\n",
       "      <td>21.0</td>\n",
       "      <td>7.5</td>\n",
       "      <td>24.0</td>\n",
       "      <td>20</td>\n",
       "      <td>1</td>\n",
       "      <td>9</td>\n",
       "    </tr>\n",
       "  </tbody>\n",
       "</table>\n",
       "<p>16717 rows × 13 columns</p>\n",
       "</div>"
      ],
      "text/plain": [
       "       Year_of_Release  NA_Sales  EU_Sales  JP_Sales  Other_Sales  \\\n",
       "0                 2006     41.36     28.96      3.77         8.45   \n",
       "1                 1985     29.08      3.58      6.81         0.77   \n",
       "2                 2008     15.68     12.76      3.79         3.29   \n",
       "3                 2009     15.61     10.93      3.28         2.95   \n",
       "4                 1996     11.27      8.89     10.22         1.00   \n",
       "...                ...       ...       ...       ...          ...   \n",
       "16714             2016      0.00      0.00      0.01         0.00   \n",
       "16715             2006      0.00      0.01      0.00         0.00   \n",
       "16716             2016      0.00      0.00      0.01         0.00   \n",
       "16717             2003      0.01      0.00      0.00         0.00   \n",
       "16718             2016      0.00      0.00      0.01         0.00   \n",
       "\n",
       "       Global_Sales  Critic_Score  Critic_Count  User_Score  User_Count  \\\n",
       "0             82.53          76.0          51.0         8.0       322.0   \n",
       "1             40.24          69.0          21.0         7.5        24.0   \n",
       "2             35.52          82.0          73.0         8.3       709.0   \n",
       "3             32.77          80.0          73.0         8.0       192.0   \n",
       "4             31.37          69.0          21.0         7.5        24.0   \n",
       "...             ...           ...           ...         ...         ...   \n",
       "16714          0.01          69.0          21.0         7.5        24.0   \n",
       "16715          0.01          69.0          21.0         7.5        24.0   \n",
       "16716          0.01          69.0          21.0         7.5        24.0   \n",
       "16717          0.01          69.0          21.0         7.5        24.0   \n",
       "16718          0.01          69.0          21.0         7.5        24.0   \n",
       "\n",
       "       Platform_Num  Rating_Num  Genre_Num  \n",
       "0                26           1         10  \n",
       "1                11           1          4  \n",
       "2                26           1          6  \n",
       "3                26           1         10  \n",
       "4                 5           1          7  \n",
       "...             ...         ...        ...  \n",
       "16714            17           1          0  \n",
       "16715            28           1         10  \n",
       "16716            20           1          1  \n",
       "16717             6           1          4  \n",
       "16718            20           1          9  \n",
       "\n",
       "[16717 rows x 13 columns]"
      ]
     },
     "execution_count": 77,
     "metadata": {},
     "output_type": "execute_result"
    }
   ],
   "source": [
    "df_numeric = df.select_dtypes(exclude = \"object\")\n",
    "df_numeric"
   ]
  },
  {
   "cell_type": "code",
   "execution_count": 78,
   "id": "f912f7ea",
   "metadata": {},
   "outputs": [],
   "source": [
    "# Getting the variables and the outcome\n",
    "X = df_numeric.drop(['Rating_Num','Year_of_Release' ],axis=1)\n",
    "# vaLue to be predicted (output of the prediction)\n",
    "y = df_numeric[['Rating_Num']]\n",
    "# SpLit data into training and testing sets\n",
    "X_train, X_test, y_train, y_test = train_test_split(X, y, test_size = 0.2, random_state=42);\n",
    "#scaLing the dataset\n",
    "#To use reguLarization, we can apply StandardScaLer\n",
    "scale = StandardScaler()\n",
    "scale.fit(X_train)\n",
    "X_train_scaled = scale.transform(X_train)\n",
    "X_test_scaled = scale.transform(X_test)\n",
    "#converting to pandas dataframe\n",
    "X_train_scaled = pd.DataFrame(X_train_scaled, columns = X_train.columns)\n",
    "X_test_scaled = pd.DataFrame(X_test_scaled, columns = X_test.columns)"
   ]
  },
  {
   "cell_type": "code",
   "execution_count": 79,
   "id": "6fc24ad8",
   "metadata": {},
   "outputs": [],
   "source": [
    "# Define cLassifier\n",
    "clf = DecisionTreeClassifier() \n",
    "svc = SVC(random_state=42)\n",
    "lr = LogisticRegression()\n",
    "knn = KNeighborsClassifier()\n",
    "rfc = RandomForestClassifier(n_estimators=100, random_state=42)"
   ]
  },
  {
   "cell_type": "code",
   "execution_count": 80,
   "id": "99bfa7b9",
   "metadata": {},
   "outputs": [],
   "source": [
    "# Define the ensembLe \n",
    "ensemble = VotingClassifier(estimators=[('clf',clf), ('knn', knn), ('lr', lr), ('rfc', rfc), ('svc', svc)])"
   ]
  },
  {
   "cell_type": "code",
   "execution_count": 81,
   "id": "2758d6f9",
   "metadata": {},
   "outputs": [
    {
     "name": "stdout",
     "output_type": "stream",
     "text": [
      "Accuracy: 0.71 (+/- 0.01)\n"
     ]
    }
   ],
   "source": [
    "scores = cross_val_score(ensemble, X_train, y_train, cv=5 ) \n",
    "print('Accuracy: %0.2f (+/- %0.2f)' % (scores.mean(), scores.std() * 2))"
   ]
  },
  {
   "cell_type": "code",
   "execution_count": 82,
   "id": "6cd4acaf",
   "metadata": {},
   "outputs": [],
   "source": [
    "ensemble.fit(X_train, y_train)\n",
    "# Predict on the test set\n",
    "y_pred = ensemble.predict(X_test)"
   ]
  },
  {
   "cell_type": "code",
   "execution_count": 83,
   "id": "8e563309",
   "metadata": {},
   "outputs": [
    {
     "name": "stdout",
     "output_type": "stream",
     "text": [
      "Classification Report:\n",
      "              precision    recall  f1-score   support\n",
      "\n",
      "           1       0.75      0.98      0.85      2150\n",
      "           2       0.54      0.05      0.10       266\n",
      "           3       0.00      0.00      0.00         2\n",
      "           4       0.00      0.00      0.00         1\n",
      "           5       0.65      0.52      0.57       324\n",
      "           7       0.60      0.23      0.34       601\n",
      "\n",
      "    accuracy                           0.73      3344\n",
      "   macro avg       0.42      0.30      0.31      3344\n",
      "weighted avg       0.69      0.73      0.67      3344\n",
      "\n"
     ]
    }
   ],
   "source": [
    "print('Classification Report:') \n",
    "print(classification_report(y_test, y_pred))"
   ]
  },
  {
   "cell_type": "code",
   "execution_count": 84,
   "id": "0e8dd09f",
   "metadata": {},
   "outputs": [
    {
     "name": "stdout",
     "output_type": "stream",
     "text": [
      "Training error (MSE): 1.0077014937892756\n",
      "Validation error (MSE): 1.0825340350688757\n"
     ]
    }
   ],
   "source": [
    "# compute the mean squared error (MSE) using 5-fold cross-vaLidation\n",
    "mse_train = -1 * cross_val_score(ensemble, X_train_scaled, y_train, cv=5, scoring='neg_mean_absolute_error') \n",
    "mse_val = -1 * cross_val_score(ensemble, X_test_scaled, y_test, cv=5, scoring='neg_mean_absolute_error')\n",
    "\n",
    "# compute the mean of the MSE over all fads \n",
    "avg_mse_train = mse_train.mean()\n",
    "avg_mse_val = mse_val.mean()\n",
    "\n",
    "print('Training error (MSE):', avg_mse_train) \n",
    "print('Validation error (MSE):', avg_mse_val)"
   ]
  },
  {
   "cell_type": "code",
   "execution_count": 85,
   "id": "a5504b6c",
   "metadata": {},
   "outputs": [],
   "source": [
    "df.drop('Platform_Num', axis=1, inplace=True) \n",
    "df.drop('Rating_Num', axis=1, inplace=True) \n",
    "df.drop('Genre_Num', axis=1, inplace=True)"
   ]
  },
  {
   "cell_type": "markdown",
   "id": "bf7ca4e0",
   "metadata": {},
   "source": [
    "### (g) Using relevant categorical variable and other relevant non categorical variables to form groups at each instance and employ internal and external evaluation metrics, determine which categorical variable best describes the groups formed."
   ]
  },
  {
   "cell_type": "code",
   "execution_count": 86,
   "id": "e45bdd17",
   "metadata": {},
   "outputs": [],
   "source": [
    "le = LabelEncoder()\n",
    "df['Rating'] = le.fit_transform(df['Rating']) \n",
    "df['Platform'] = le.fit_transform(df['Platform']) \n",
    "df['Genre'] = le.fit_transform(df['Genre'])\n"
   ]
  },
  {
   "cell_type": "code",
   "execution_count": 87,
   "id": "1854a804",
   "metadata": {},
   "outputs": [
    {
     "data": {
      "text/html": [
       "<div>\n",
       "<style scoped>\n",
       "    .dataframe tbody tr th:only-of-type {\n",
       "        vertical-align: middle;\n",
       "    }\n",
       "\n",
       "    .dataframe tbody tr th {\n",
       "        vertical-align: top;\n",
       "    }\n",
       "\n",
       "    .dataframe thead th {\n",
       "        text-align: right;\n",
       "    }\n",
       "</style>\n",
       "<table border=\"1\" class=\"dataframe\">\n",
       "  <thead>\n",
       "    <tr style=\"text-align: right;\">\n",
       "      <th></th>\n",
       "      <th>NA_Sales</th>\n",
       "      <th>EU_Sales</th>\n",
       "      <th>JP_Sales</th>\n",
       "      <th>Other_Sales</th>\n",
       "      <th>Global_Sales</th>\n",
       "      <th>Critic_Score</th>\n",
       "      <th>Genre</th>\n",
       "      <th>Critic_Count</th>\n",
       "      <th>User_Score</th>\n",
       "      <th>User_Count</th>\n",
       "      <th>Rating</th>\n",
       "      <th>Platform</th>\n",
       "    </tr>\n",
       "  </thead>\n",
       "  <tbody>\n",
       "    <tr>\n",
       "      <th>0</th>\n",
       "      <td>41.36</td>\n",
       "      <td>28.96</td>\n",
       "      <td>3.77</td>\n",
       "      <td>8.45</td>\n",
       "      <td>82.53</td>\n",
       "      <td>76.0</td>\n",
       "      <td>10</td>\n",
       "      <td>51.0</td>\n",
       "      <td>8.0</td>\n",
       "      <td>322.0</td>\n",
       "      <td>1</td>\n",
       "      <td>26</td>\n",
       "    </tr>\n",
       "    <tr>\n",
       "      <th>1</th>\n",
       "      <td>29.08</td>\n",
       "      <td>3.58</td>\n",
       "      <td>6.81</td>\n",
       "      <td>0.77</td>\n",
       "      <td>40.24</td>\n",
       "      <td>69.0</td>\n",
       "      <td>4</td>\n",
       "      <td>21.0</td>\n",
       "      <td>7.5</td>\n",
       "      <td>24.0</td>\n",
       "      <td>1</td>\n",
       "      <td>11</td>\n",
       "    </tr>\n",
       "    <tr>\n",
       "      <th>2</th>\n",
       "      <td>15.68</td>\n",
       "      <td>12.76</td>\n",
       "      <td>3.79</td>\n",
       "      <td>3.29</td>\n",
       "      <td>35.52</td>\n",
       "      <td>82.0</td>\n",
       "      <td>6</td>\n",
       "      <td>73.0</td>\n",
       "      <td>8.3</td>\n",
       "      <td>709.0</td>\n",
       "      <td>1</td>\n",
       "      <td>26</td>\n",
       "    </tr>\n",
       "    <tr>\n",
       "      <th>3</th>\n",
       "      <td>15.61</td>\n",
       "      <td>10.93</td>\n",
       "      <td>3.28</td>\n",
       "      <td>2.95</td>\n",
       "      <td>32.77</td>\n",
       "      <td>80.0</td>\n",
       "      <td>10</td>\n",
       "      <td>73.0</td>\n",
       "      <td>8.0</td>\n",
       "      <td>192.0</td>\n",
       "      <td>1</td>\n",
       "      <td>26</td>\n",
       "    </tr>\n",
       "    <tr>\n",
       "      <th>4</th>\n",
       "      <td>11.27</td>\n",
       "      <td>8.89</td>\n",
       "      <td>10.22</td>\n",
       "      <td>1.00</td>\n",
       "      <td>31.37</td>\n",
       "      <td>69.0</td>\n",
       "      <td>7</td>\n",
       "      <td>21.0</td>\n",
       "      <td>7.5</td>\n",
       "      <td>24.0</td>\n",
       "      <td>1</td>\n",
       "      <td>5</td>\n",
       "    </tr>\n",
       "    <tr>\n",
       "      <th>...</th>\n",
       "      <td>...</td>\n",
       "      <td>...</td>\n",
       "      <td>...</td>\n",
       "      <td>...</td>\n",
       "      <td>...</td>\n",
       "      <td>...</td>\n",
       "      <td>...</td>\n",
       "      <td>...</td>\n",
       "      <td>...</td>\n",
       "      <td>...</td>\n",
       "      <td>...</td>\n",
       "      <td>...</td>\n",
       "    </tr>\n",
       "    <tr>\n",
       "      <th>16714</th>\n",
       "      <td>0.00</td>\n",
       "      <td>0.00</td>\n",
       "      <td>0.01</td>\n",
       "      <td>0.00</td>\n",
       "      <td>0.01</td>\n",
       "      <td>69.0</td>\n",
       "      <td>0</td>\n",
       "      <td>21.0</td>\n",
       "      <td>7.5</td>\n",
       "      <td>24.0</td>\n",
       "      <td>1</td>\n",
       "      <td>17</td>\n",
       "    </tr>\n",
       "    <tr>\n",
       "      <th>16715</th>\n",
       "      <td>0.00</td>\n",
       "      <td>0.01</td>\n",
       "      <td>0.00</td>\n",
       "      <td>0.00</td>\n",
       "      <td>0.01</td>\n",
       "      <td>69.0</td>\n",
       "      <td>10</td>\n",
       "      <td>21.0</td>\n",
       "      <td>7.5</td>\n",
       "      <td>24.0</td>\n",
       "      <td>1</td>\n",
       "      <td>28</td>\n",
       "    </tr>\n",
       "    <tr>\n",
       "      <th>16716</th>\n",
       "      <td>0.00</td>\n",
       "      <td>0.00</td>\n",
       "      <td>0.01</td>\n",
       "      <td>0.00</td>\n",
       "      <td>0.01</td>\n",
       "      <td>69.0</td>\n",
       "      <td>1</td>\n",
       "      <td>21.0</td>\n",
       "      <td>7.5</td>\n",
       "      <td>24.0</td>\n",
       "      <td>1</td>\n",
       "      <td>20</td>\n",
       "    </tr>\n",
       "    <tr>\n",
       "      <th>16717</th>\n",
       "      <td>0.01</td>\n",
       "      <td>0.00</td>\n",
       "      <td>0.00</td>\n",
       "      <td>0.00</td>\n",
       "      <td>0.01</td>\n",
       "      <td>69.0</td>\n",
       "      <td>4</td>\n",
       "      <td>21.0</td>\n",
       "      <td>7.5</td>\n",
       "      <td>24.0</td>\n",
       "      <td>1</td>\n",
       "      <td>6</td>\n",
       "    </tr>\n",
       "    <tr>\n",
       "      <th>16718</th>\n",
       "      <td>0.00</td>\n",
       "      <td>0.00</td>\n",
       "      <td>0.01</td>\n",
       "      <td>0.00</td>\n",
       "      <td>0.01</td>\n",
       "      <td>69.0</td>\n",
       "      <td>9</td>\n",
       "      <td>21.0</td>\n",
       "      <td>7.5</td>\n",
       "      <td>24.0</td>\n",
       "      <td>1</td>\n",
       "      <td>20</td>\n",
       "    </tr>\n",
       "  </tbody>\n",
       "</table>\n",
       "<p>16717 rows × 12 columns</p>\n",
       "</div>"
      ],
      "text/plain": [
       "       NA_Sales  EU_Sales  JP_Sales  Other_Sales  Global_Sales  Critic_Score  \\\n",
       "0         41.36     28.96      3.77         8.45         82.53          76.0   \n",
       "1         29.08      3.58      6.81         0.77         40.24          69.0   \n",
       "2         15.68     12.76      3.79         3.29         35.52          82.0   \n",
       "3         15.61     10.93      3.28         2.95         32.77          80.0   \n",
       "4         11.27      8.89     10.22         1.00         31.37          69.0   \n",
       "...         ...       ...       ...          ...           ...           ...   \n",
       "16714      0.00      0.00      0.01         0.00          0.01          69.0   \n",
       "16715      0.00      0.01      0.00         0.00          0.01          69.0   \n",
       "16716      0.00      0.00      0.01         0.00          0.01          69.0   \n",
       "16717      0.01      0.00      0.00         0.00          0.01          69.0   \n",
       "16718      0.00      0.00      0.01         0.00          0.01          69.0   \n",
       "\n",
       "       Genre  Critic_Count  User_Score  User_Count  Rating  Platform  \n",
       "0         10          51.0         8.0       322.0       1        26  \n",
       "1          4          21.0         7.5        24.0       1        11  \n",
       "2          6          73.0         8.3       709.0       1        26  \n",
       "3         10          73.0         8.0       192.0       1        26  \n",
       "4          7          21.0         7.5        24.0       1         5  \n",
       "...      ...           ...         ...         ...     ...       ...  \n",
       "16714      0          21.0         7.5        24.0       1        17  \n",
       "16715     10          21.0         7.5        24.0       1        28  \n",
       "16716      1          21.0         7.5        24.0       1        20  \n",
       "16717      4          21.0         7.5        24.0       1         6  \n",
       "16718      9          21.0         7.5        24.0       1        20  \n",
       "\n",
       "[16717 rows x 12 columns]"
      ]
     },
     "execution_count": 87,
     "metadata": {},
     "output_type": "execute_result"
    }
   ],
   "source": [
    "# Form groups using k-means cLustering\n",
    "df_numeric = df[['NA_Sales','EU_Sales','JP_Sales','Other_Sales','Global_Sales','Critic_Score','Genre','Critic_Count','User_Score','User_Count','Rating', 'Platform']]\n",
    "df_numeric\n"
   ]
  },
  {
   "cell_type": "code",
   "execution_count": 88,
   "id": "f9afd80e",
   "metadata": {},
   "outputs": [],
   "source": [
    "scaler = StandardScaler() \n",
    "# instantiate an object of the StandardScaLer() cLass \n",
    "scaled_df_num = scaler.fit_transform(df_numeric)"
   ]
  },
  {
   "cell_type": "code",
   "execution_count": 89,
   "id": "4fb95bfa",
   "metadata": {},
   "outputs": [
    {
     "data": {
      "image/png": "[encoded data removed]",
      "text/plain": [
       "<Figure size 640x480 with 1 Axes>"
      ]
     },
     "metadata": {},
     "output_type": "display_data"
    }
   ],
   "source": [
    "distortions = []\n",
    "K = range(1, 10)\n",
    "for k in K:\n",
    "    kmeans = KMeans(n_clusters=k, random_state=42) \n",
    "    kmeans.fit(df_numeric)\n",
    "    distortions.append(kmeans.inertia_)\n",
    "plt.plot(K, distortions, 'bx-')\n",
    "plt.xlabel('Number of clusters')\n",
    "plt.ylabel('Distortion')\n",
    "plt.title('Elbow Method')\n",
    "plt.show()\n"
   ]
  },
  {
   "cell_type": "code",
   "execution_count": 90,
   "id": "73c485a7",
   "metadata": {},
   "outputs": [],
   "source": [
    "# Fit the k-means algorithm\n",
    "kmeans = KMeans(n_clusters=3,random_state=42)\n",
    "C_labels = kmeans.fit_predict(scaled_df_num)\n",
    "# Get the class labels\n",
    "y_true = df['Genre']"
   ]
  },
  {
   "cell_type": "code",
   "execution_count": 91,
   "id": "59255245",
   "metadata": {},
   "outputs": [
    {
     "name": "stdout",
     "output_type": "stream",
     "text": [
      "External Evaluation Measures\n",
      "********************************\n",
      "V-measure Score: 0.018\n",
      "Rand Index Score: 0.002\n",
      "Mutual Information Score: 0.018\n",
      "\n",
      "Internal Evaluation Measures\n",
      "********************************\n",
      "Davies-Bouldin Index: 1.499\n",
      "Silhouette Coefficient:  0.360513\n"
     ]
    }
   ],
   "source": [
    "# CaLcuLate the v-measure score\n",
    "v_measure = v_measure_score(y_true, C_labels) \n",
    "print(f'External Evaluation Measures') \n",
    "print(f'********************************')\n",
    "print(f'V-measure Score: {v_measure:.3f}')\n",
    "# CaLcuLate the Rand index score\n",
    "rand_index = adjusted_rand_score(y_true, C_labels) \n",
    "print(f'Rand Index Score: {rand_index:.3f}')\n",
    "# CaLcuLate the mutuaL information score \n",
    "mi_score = adjusted_mutual_info_score(y_true, C_labels)\n",
    "print(f'Mutual Information Score: {mi_score:.3f}\\n')\n",
    "# CaLcuLate the Davies-BouLdin index \n",
    "db_score = davies_bouldin_score(scaled_df_num, C_labels)\n",
    "print(f'Internal Evaluation Measures') \n",
    "print(f'********************************') \n",
    "print(f'Davies-Bouldin Index: {db_score:.3f}')\n",
    "# CaLcuLate the SiLhouette coefficient \n",
    "s_score = silhouette_score(scaled_df_num, C_labels) \n",
    "print(f'Silhouette Coefficient: {s_score: f}')\n"
   ]
  },
  {
   "cell_type": "markdown",
   "id": "0f31f66e",
   "metadata": {},
   "source": [
    "### The above employed k means will be execueted 3 times by changing groups with 'Rating', 'Genre' and 'Platform'"
   ]
  },
  {
   "cell_type": "code",
   "execution_count": 92,
   "id": "63e1fdcd",
   "metadata": {},
   "outputs": [],
   "source": [
    "# Form groups using k-means clustering\n",
    "df_numeric = df[['NA_Sales','EU_Sales','JP_Sales','Other_Sales','Global_Sales','Critic_Score', 'Genre', 'Critic_Count','User_Score','User_Count','Platform', 'Rating']]\n",
    "\n",
    "scaler = StandardScaler() # instantiate an object of the StandardScaLer() cLass \n",
    "scaled_df_num=scaler.fit_transform(df_numeric)\n",
    "\n",
    "# Fit the k-means algorithm\n",
    "kmeans = KMeans(n_clusters=3,random_state=42) \n",
    "C_labels = kmeans.fit_predict(scaled_df_num)\n",
    "# Get the true cLass LabeLs\n",
    "y_true = df['Platform']\n"
   ]
  },
  {
   "cell_type": "code",
   "execution_count": 93,
   "id": "a55d2e58",
   "metadata": {},
   "outputs": [
    {
     "name": "stdout",
     "output_type": "stream",
     "text": [
      "External Evaluation Measures\n",
      "********************************\n",
      "V-measure Score: 0.034\n",
      "Rand Index Score: 0.007\n",
      "Mutual Information Score: 0.033\n",
      "\n",
      "Internal Evaluation Measures\n",
      "********************************\n",
      "Davies-Bouldin Index: 1.499\n",
      "Silhouette Coefficient: 0.361\n"
     ]
    }
   ],
   "source": [
    "# CaLcuLate the v-measure score\n",
    "v_measure = v_measure_score(y_true, C_labels) \n",
    "print(f'External Evaluation Measures') \n",
    "print(f'********************************')\n",
    "print(f'V-measure Score: {v_measure:.3f}')\n",
    "# CaLcuLate the Rand index score\n",
    "rand_index = adjusted_rand_score(y_true, C_labels) \n",
    "print(f'Rand Index Score: {rand_index:.3f}')\n",
    "# CaLcuLate the mutuaL information score \n",
    "mi_score = adjusted_mutual_info_score(y_true, C_labels)\n",
    "print(f'Mutual Information Score: {mi_score:.3f}\\n')\n",
    "# CaLcuLate the Davies-BouLdin index \n",
    "db_score = davies_bouldin_score(scaled_df_num, C_labels)\n",
    "print(f'Internal Evaluation Measures') \n",
    "print(f'********************************') \n",
    "print(f'Davies-Bouldin Index: {db_score:.3f}')\n",
    "# CaLcuLate the Silhouette coefficient \n",
    "s_score = silhouette_score(scaled_df_num, C_labels) \n",
    "print(f'Silhouette Coefficient: {s_score:.3f}' )\n"
   ]
  },
  {
   "cell_type": "code",
   "execution_count": 94,
   "id": "89ab8bb5",
   "metadata": {},
   "outputs": [],
   "source": [
    "# Form groups using k-means clustering\n",
    "df_numeric = df[['NA_Sales','EU_Sales','JP_Sales','Other_Sales','Global_Sales','Critic_Score', 'Genre', 'Critic_Count','User_Score','User_Count','Platform', 'Rating']]\n",
    "\n",
    "scaler = StandardScaler() # instantiate an object of the StandardScaLer() cLass \n",
    "scaled_df_num=scaler.fit_transform(df_numeric)\n",
    "\n",
    "# Fit the k-means algorithm\n",
    "kmeans = KMeans(n_clusters=3,random_state=42) \n",
    "C_labels = kmeans.fit_predict(scaled_df_num)\n",
    "# Get the true cLass LabeLs\n",
    "y_true = df['Rating']"
   ]
  },
  {
   "cell_type": "code",
   "execution_count": 95,
   "id": "d076bb66",
   "metadata": {},
   "outputs": [
    {
     "name": "stdout",
     "output_type": "stream",
     "text": [
      "External Evaluation Measures\n",
      "********************************\n",
      "V-measure Score: 0.126\n",
      "Rand Index Score: 0.238\n",
      "Mutual Information Score: 0.125\n",
      "\n",
      "Internal Evaluation Measures\n",
      "********************************\n",
      "Davies-Bouldin Index: 1.499\n",
      "Silhouette Coefficient: 0.361\n"
     ]
    }
   ],
   "source": [
    "# CaLcuLate the v-measure score\n",
    "v_measure = v_measure_score(y_true, C_labels) \n",
    "print(f'External Evaluation Measures') \n",
    "print(f'********************************')\n",
    "print(f'V-measure Score: {v_measure:.3f}')\n",
    "# CaLcuLate the Rand index score\n",
    "rand_index = adjusted_rand_score(y_true, C_labels) \n",
    "print(f'Rand Index Score: {rand_index:.3f}')\n",
    "# CaLcuLate the mutuaL information score \n",
    "mi_score = adjusted_mutual_info_score(y_true, C_labels)\n",
    "print(f'Mutual Information Score: {mi_score:.3f}\\n')\n",
    "# CaLcuLate the Davies-BouLdin index \n",
    "db_score = davies_bouldin_score(scaled_df_num, C_labels)\n",
    "print(f'Internal Evaluation Measures') \n",
    "print(f'********************************') \n",
    "print(f'Davies-Bouldin Index: {db_score:.3f}')\n",
    "# CaLcuLate the Silhouette coefficient \n",
    "s_score = silhouette_score(scaled_df_num, C_labels) \n",
    "print(f'Silhouette Coefficient: {s_score:.3f}' )\n"
   ]
  },
  {
   "cell_type": "code",
   "execution_count": 96,
   "id": "7415383c",
   "metadata": {},
   "outputs": [],
   "source": [
    "# Form groups using k-means clustering\n",
    "df_numeric = df[['NA_Sales','EU_Sales','JP_Sales','Other_Sales','Global_Sales','Critic_Score', 'Genre', 'Critic_Count','User_Score','User_Count','Platform', 'Rating']]\n",
    "\n",
    "scaler = StandardScaler() # instantiate an object of the StandardScaLer() cLass \n",
    "scaled_df_num=scaler.fit_transform(df_numeric)\n",
    "\n",
    "# Fit the k-means algorithm\n",
    "kmeans = KMeans(n_clusters=3,random_state=42) \n",
    "C_labels = kmeans.fit_predict(scaled_df_num)\n",
    "# Get the true cLass LabeLs\n",
    "y_true = df['Genre']"
   ]
  },
  {
   "cell_type": "code",
   "execution_count": 97,
   "id": "d7106c25",
   "metadata": {},
   "outputs": [
    {
     "name": "stdout",
     "output_type": "stream",
     "text": [
      "External Evaluation Measures\n",
      "********************************\n",
      "V-measure Score: 0.018\n",
      "Rand Index Score: 0.002\n",
      "Mutual Information Score: 0.018\n",
      "\n",
      "Internal Evaluation Measures\n",
      "********************************\n",
      "Davies-Bouldin Index: 1.499\n",
      "Silhouette Coefficient: 0.361\n"
     ]
    }
   ],
   "source": [
    "# CaLcuLate the v-measure score\n",
    "v_measure = v_measure_score(y_true, C_labels) \n",
    "print(f'External Evaluation Measures') \n",
    "print(f'********************************')\n",
    "print(f'V-measure Score: {v_measure:.3f}')\n",
    "# CaLcuLate the Rand index score\n",
    "rand_index = adjusted_rand_score(y_true, C_labels) \n",
    "print(f'Rand Index Score: {rand_index:.3f}')\n",
    "# CaLcuLate the mutuaL information score \n",
    "mi_score = adjusted_mutual_info_score(y_true, C_labels)\n",
    "print(f'Mutual Information Score: {mi_score:.3f}\\n')\n",
    "# CaLcuLate the Davies-BouLdin index \n",
    "db_score = davies_bouldin_score(scaled_df_num, C_labels)\n",
    "print(f'Internal Evaluation Measures') \n",
    "print(f'********************************') \n",
    "print(f'Davies-Bouldin Index: {db_score:.3f}')\n",
    "# CaLcuLate the Silhouette coefficient \n",
    "s_score = silhouette_score(scaled_df_num, C_labels) \n",
    "print(f'Silhouette Coefficient: {s_score:.3f}' )"
   ]
  },
  {
   "cell_type": "code",
   "execution_count": null,
   "id": "3816a1a2",
   "metadata": {},
   "outputs": [],
   "source": []
  }
 ],
 "metadata": {
  "kernelspec": {
   "display_name": "Python 3 (ipykernel)",
   "language": "python",
   "name": "python3"
  },
  "language_info": {
   "codemirror_mode": {
    "name": "ipython",
    "version": 3
   },
   "file_extension": ".py",
   "mimetype": "text/x-python",
   "name": "python",
   "nbconvert_exporter": "python",
   "pygments_lexer": "ipython3",
   "version": "3.10.9"
  }
 },
 "nbformat": 4,
 "nbformat_minor": 5
}

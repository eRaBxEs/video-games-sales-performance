{
 "cells": [
  {
   "cell_type": "markdown",
   "id": "e06033cf",
   "metadata": {},
   "source": [
    "### Component 2 Coding : AI assignment"
   ]
  },
  {
   "cell_type": "code",
   "execution_count": null,
   "id": "d80e4a02",
   "metadata": {},
   "outputs": [],
   "source": [
    "import csv\n",
    "import pandas as pd\n",
    "import numpy as np\n",
    "import seaborn as sns\n",
    "import matplotlib.pyplot .. plt\n",
    "%matplotlib inline\n",
    "import warnings\n",
    "from sklearn.cluster import KMeans\n",
    "from sklearn.metrics import v_measure_score\n",
    "from sklearn.metrics import adjusted_mutual_info_score from sklearn.metrics import adjusted_rand_score\n",
    "from sklearn.metrics import davies_bouldin_score from sklearn.ensemble import VotingClassifier\n",
    "from sklearn.neighbors import KNeighborsClassifier from sklearn.metrics import silhouette_score\n",
    "from sklearn.model_selection import train_test_split # sci-kit Learn Library\n",
    "from sklearn.preprocessing import StandardScaler # to rescaLe the numericaL data\n",
    "from sklearn.tree import DecisionTreeClassifier\n",
    "from sklearn.metrics import classification_report, confusion_matrix from sklearn.preprocessing import LabelEncoder\n",
    "from sklearn.linear_model import LogisticRegression from sklearn.svm import SVC\n",
    "from sklearn.ensemble import RandomForestRegressor from sklearn.neighbors import KNeighborsRegressor\n",
    "from sklearn.ensemble import GradientBoostingRegressor from sklearn.linear_model import Lasso\n",
    "from sklearn.linear_model import Ridge\n",
    "from sklearn import tree\n",
    "from sklearn.svm import SVR\n",
    "from sklearn.ensemble import RandomForestClassifier from sklearn.model_selection import cross_val_score from sklearn.model_selection import StratifiedKFold warnings.filterwarnings('ignore')\n",
    "from sklearn.linear_model import LinearRegression # importing the Linear regression Libr from sklearn.metrics import mean_absolute_error,mean_squared_error,r2_score # importin\n"
   ]
  },
  {
   "cell_type": "code",
   "execution_count": null,
   "id": "64908754",
   "metadata": {},
   "outputs": [],
   "source": []
  },
  {
   "cell_type": "code",
   "execution_count": null,
   "id": "2cce6d82",
   "metadata": {},
   "outputs": [],
   "source": [
    "df = pd.read_csv(\"Video_Games1.csv\") # print the data\n",
    "df. shape"
   ]
  }
 ],
 "metadata": {
  "kernelspec": {
   "display_name": "Python 3 (ipykernel)",
   "language": "python",
   "name": "python3"
  },
  "language_info": {
   "codemirror_mode": {
    "name": "ipython",
    "version": 3
   },
   "file_extension": ".py",
   "mimetype": "text/x-python",
   "name": "python",
   "nbconvert_exporter": "python",
   "pygments_lexer": "ipython3",
   "version": "3.10.9"
  }
 },
 "nbformat": 4,
 "nbformat_minor": 5
}
